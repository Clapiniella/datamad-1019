{
 "cells": [
  {
   "cell_type": "code",
   "execution_count": 8,
   "metadata": {},
   "outputs": [
    {
     "ename": "NameError",
     "evalue": "ERROR EN LA LLAMADA, NO SON ENTEROS",
     "output_type": "error",
     "traceback": [
      "\u001b[0;31m---------------------------------------------------------------------------\u001b[0m",
      "\u001b[0;31mNameError\u001b[0m                                 Traceback (most recent call last)",
      "\u001b[0;32m<ipython-input-8-e36da51ead63>\u001b[0m in \u001b[0;36m<module>\u001b[0;34m\u001b[0m\n\u001b[1;32m     12\u001b[0m \u001b[0;34m\u001b[0m\u001b[0m\n\u001b[1;32m     13\u001b[0m \u001b[0;34m\u001b[0m\u001b[0m\n\u001b[0;32m---> 14\u001b[0;31m \u001b[0msuma\u001b[0m\u001b[0;34m(\u001b[0m\u001b[0;34m'a'\u001b[0m\u001b[0;34m,\u001b[0m\u001b[0;36m4\u001b[0m\u001b[0;34m)\u001b[0m\u001b[0;34m\u001b[0m\u001b[0;34m\u001b[0m\u001b[0m\n\u001b[0m",
      "\u001b[0;32m<ipython-input-8-e36da51ead63>\u001b[0m in \u001b[0;36msuma\u001b[0;34m(a, b)\u001b[0m\n\u001b[1;32m      9\u001b[0m         \u001b[0;32mreturn\u001b[0m \u001b[0ma\u001b[0m\u001b[0;34m+\u001b[0m\u001b[0mb\u001b[0m\u001b[0;34m\u001b[0m\u001b[0;34m\u001b[0m\u001b[0m\n\u001b[1;32m     10\u001b[0m     \u001b[0;32melse\u001b[0m\u001b[0;34m:\u001b[0m\u001b[0;34m\u001b[0m\u001b[0;34m\u001b[0m\u001b[0m\n\u001b[0;32m---> 11\u001b[0;31m         \u001b[0mlanzaError\u001b[0m\u001b[0;34m(\u001b[0m\u001b[0;34m)\u001b[0m\u001b[0;34m\u001b[0m\u001b[0;34m\u001b[0m\u001b[0m\n\u001b[0m\u001b[1;32m     12\u001b[0m \u001b[0;34m\u001b[0m\u001b[0m\n\u001b[1;32m     13\u001b[0m \u001b[0;34m\u001b[0m\u001b[0m\n",
      "\u001b[0;32m<ipython-input-8-e36da51ead63>\u001b[0m in \u001b[0;36mlanzaError\u001b[0;34m()\u001b[0m\n\u001b[1;32m      1\u001b[0m \u001b[0;32mdef\u001b[0m \u001b[0mlanzaError\u001b[0m\u001b[0;34m(\u001b[0m\u001b[0;34m)\u001b[0m\u001b[0;34m:\u001b[0m\u001b[0;34m\u001b[0m\u001b[0;34m\u001b[0m\u001b[0m\n\u001b[0;32m----> 2\u001b[0;31m     \u001b[0;32mraise\u001b[0m \u001b[0mNameError\u001b[0m\u001b[0;34m(\u001b[0m\u001b[0;34m\"ERROR EN LA LLAMADA, NO SON ENTEROS\"\u001b[0m\u001b[0;34m)\u001b[0m\u001b[0;34m\u001b[0m\u001b[0;34m\u001b[0m\u001b[0m\n\u001b[0m\u001b[1;32m      3\u001b[0m \u001b[0;34m\u001b[0m\u001b[0m\n\u001b[1;32m      4\u001b[0m \u001b[0;32mdef\u001b[0m \u001b[0msuma\u001b[0m\u001b[0;34m(\u001b[0m\u001b[0ma\u001b[0m\u001b[0;34m,\u001b[0m\u001b[0mb\u001b[0m\u001b[0;34m)\u001b[0m\u001b[0;34m:\u001b[0m\u001b[0;34m\u001b[0m\u001b[0;34m\u001b[0m\u001b[0m\n\u001b[1;32m      5\u001b[0m     '''\n",
      "\u001b[0;31mNameError\u001b[0m: ERROR EN LA LLAMADA, NO SON ENTEROS"
     ]
    }
   ],
   "source": [
    "def lanzaError():\n",
    "    raise NameError(\"ERROR EN LA LLAMADA, NO SON ENTEROS\")\n",
    "\n",
    "def suma(a,b):\n",
    "    '''\n",
    "    Esta función suma dos numeros enteros\n",
    "    '''\n",
    "    if type(a) == int and type(b) == int:\n",
    "        return a+b\n",
    "    else:\n",
    "        lanzaError()\n",
    "    \n",
    "    \n",
    "suma('a',4)"
   ]
  },
  {
   "cell_type": "code",
   "execution_count": 31,
   "metadata": {},
   "outputs": [
    {
     "name": "stdout",
     "output_type": "stream",
     "text": [
      "Asi mal\n",
      "ERROR EN LA LLAMADA, NO SON ENTEROS\n"
     ]
    }
   ],
   "source": [
    "try:\n",
    "    c = suma('a',4)\n",
    "except ValueError as e:\n",
    "    print(\"Asi no va\")\n",
    "    print(e)\n",
    "except Exception as e:\n",
    "    print(\"Asi mal\")\n",
    "    print(e)\n",
    "\n",
    "    "
   ]
  },
  {
   "cell_type": "code",
   "execution_count": null,
   "metadata": {},
   "outputs": [],
   "source": []
  },
  {
   "cell_type": "code",
   "execution_count": 5,
   "metadata": {},
   "outputs": [
    {
     "name": "stdout",
     "output_type": "stream",
     "text": [
      "Dime tu edadasdf\n",
      "invalid literal for int() with base 10: 'asdf'\n",
      "Pon tu edad en numeros\n",
      "intento (5)\n",
      "Dime tu edadasdf\n",
      "invalid literal for int() with base 10: 'asdf'\n",
      "Pon tu edad en numeros\n",
      "intento (4)\n",
      "Dime tu edadasdfas\n",
      "invalid literal for int() with base 10: 'asdfas'\n",
      "Pon tu edad en numeros\n",
      "intento (3)\n",
      "Dime tu edaddf\n",
      "invalid literal for int() with base 10: 'df'\n",
      "Pon tu edad en numeros\n",
      "intento (2)\n",
      "Dime tu edadas\n",
      "invalid literal for int() with base 10: 'as'\n",
      "Pon tu edad en numeros\n",
      "intento (1)\n",
      "Dime tu edaddf\n",
      "invalid literal for int() with base 10: 'df'\n",
      "Pon tu edad en numeros\n"
     ]
    }
   ],
   "source": [
    "def preguntaEdad():\n",
    "    try:\n",
    "        a = int(input(\"Dime tu edad\"))\n",
    "        if a > 18:\n",
    "            print(\"puedes entrar\")\n",
    "        else:\n",
    "            print(\"no puedes entrar\")\n",
    "        return False\n",
    "    except Exception as e:\n",
    "        print(e)\n",
    "        print(\"Pon tu edad en numeros\")\n",
    "        return True\n",
    "\n",
    "    \n",
    "def repiteElPaso(fn, repeticiones=5):\n",
    "    valor = fn()\n",
    "    while repeticiones > 0:\n",
    "        print(\"intento ({})\".format(repeticiones))\n",
    "        valor = fn()\n",
    "        repeticiones -= 1\n",
    "\n",
    "repiteElPaso(preguntaEdad)\n"
   ]
  },
  {
   "cell_type": "code",
   "execution_count": null,
   "metadata": {},
   "outputs": [],
   "source": []
  },
  {
   "cell_type": "code",
   "execution_count": null,
   "metadata": {},
   "outputs": [],
   "source": []
  },
  {
   "cell_type": "code",
   "execution_count": null,
   "metadata": {},
   "outputs": [],
   "source": []
  },
  {
   "cell_type": "code",
   "execution_count": null,
   "metadata": {},
   "outputs": [],
   "source": []
  }
 ],
 "metadata": {
  "kernelspec": {
   "display_name": "Python 3",
   "language": "python",
   "name": "python3"
  },
  "language_info": {
   "codemirror_mode": {
    "name": "ipython",
    "version": 3
   },
   "file_extension": ".py",
   "mimetype": "text/x-python",
   "name": "python",
   "nbconvert_exporter": "python",
   "pygments_lexer": "ipython3",
   "version": "3.7.3"
  }
 },
 "nbformat": 4,
 "nbformat_minor": 2
}
