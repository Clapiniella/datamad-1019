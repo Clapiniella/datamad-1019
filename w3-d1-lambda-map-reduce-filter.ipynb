{
 "cells": [
  {
   "cell_type": "code",
   "execution_count": 2,
   "metadata": {},
   "outputs": [
    {
     "name": "stdout",
     "output_type": "stream",
     "text": [
      "<function suma at 0x106c4e048>\n"
     ]
    }
   ],
   "source": [
    "def suma(a,b):\n",
    "    return a+b\n",
    "\n",
    "suma(5,5)\n",
    "print(suma)"
   ]
  },
  {
   "cell_type": "code",
   "execution_count": 3,
   "metadata": {},
   "outputs": [
    {
     "data": {
      "text/plain": [
       "10"
      ]
     },
     "execution_count": 3,
     "metadata": {},
     "output_type": "execute_result"
    }
   ],
   "source": [
    "\"\"\"\n",
    "def exp(e):\n",
    "    return e**2\n",
    "\"\"\"\n",
    "\n",
    "lambda e: e**2\n",
    "x = lambda a,b: a+b\n",
    "\n",
    "x(5,5)"
   ]
  },
  {
   "cell_type": "code",
   "execution_count": 4,
   "metadata": {},
   "outputs": [
    {
     "data": {
      "text/plain": [
       "9"
      ]
     },
     "execution_count": 4,
     "metadata": {},
     "output_type": "execute_result"
    }
   ],
   "source": [
    "hoteles = [\n",
    "    {\"name\":\"Hotel Legazpi\", \"stars\":3},\n",
    "    {\"name\":\"Pension Loli\", \"stars\":1},\n",
    "    {\"name\":\"Hilton\", \"stars\":5},\n",
    "]\n",
    "\n",
    "# Transforma la lista de hoteles en sus estrellas\n",
    "\n",
    "total = 0\n",
    "for h in hoteles:\n",
    "    total += h[\"stars\"]\n",
    "total\n"
   ]
  },
  {
   "cell_type": "code",
   "execution_count": 5,
   "metadata": {},
   "outputs": [
    {
     "data": {
      "text/plain": [
       "9"
      ]
     },
     "execution_count": 5,
     "metadata": {},
     "output_type": "execute_result"
    }
   ],
   "source": [
    "sum([h[\"stars\"] for h in hoteles])"
   ]
  },
  {
   "cell_type": "code",
   "execution_count": 6,
   "metadata": {},
   "outputs": [
    {
     "data": {
      "text/plain": [
       "9"
      ]
     },
     "execution_count": 6,
     "metadata": {},
     "output_type": "execute_result"
    }
   ],
   "source": [
    "sum(map(lambda h: h[\"stars\"], hoteles))"
   ]
  },
  {
   "cell_type": "code",
   "execution_count": 7,
   "metadata": {},
   "outputs": [
    {
     "data": {
      "text/plain": [
       "['Hola0',\n",
       " 'Hola1',\n",
       " 'Hola2',\n",
       " 'Hola3',\n",
       " 'Hola4',\n",
       " 'Hola5',\n",
       " 'Hola6',\n",
       " 'Hola7',\n",
       " 'Hola8',\n",
       " 'Hola9']"
      ]
     },
     "execution_count": 7,
     "metadata": {},
     "output_type": "execute_result"
    }
   ],
   "source": [
    "x = lambda i: \"Hola\"+str(i)\n",
    "\n",
    "list(map(x, range(10)))"
   ]
  },
  {
   "cell_type": "code",
   "execution_count": 8,
   "metadata": {},
   "outputs": [
    {
     "name": "stdout",
     "output_type": "stream",
     "text": [
      "[{'name': 'Hilton', 'stars': 5}]\n",
      "[{'name': 'Pension Loli', 'stars': 3}]\n",
      "[{'name': 'Hotel Legazpi', 'stars': 3}, {'name': 'Pension Loli', 'stars': 3}, {'name': 'Hilton', 'stars': 5}]\n"
     ]
    }
   ],
   "source": [
    "import re \n",
    "hoteles = [\n",
    "    {\"name\":\"Hotel Legazpi\", \"stars\":3},\n",
    "    {\"name\":\"Pension Loli\", \"stars\":3},\n",
    "    {\"name\":\"Hilton\", \"stars\":5},\n",
    "]\n",
    "\n",
    "\n",
    "hotelName = lambda needle, heystack: bool(re.search(re.compile(needle, re.IGNORECASE),heystack))\n",
    "hotelLujo = lambda h: h[\"stars\"] >= 4\n",
    "pension = lambda h: bool(re.search(\"pension\",h))\n",
    "\n",
    "print(list(filter(hotelLujo, hoteles)))\n",
    "print(list(filter(lambda h: hotelName(\"loli\",h[\"name\"]), hoteles)))\n",
    "print(list(filter(lambda h: hotelName(\"l\",h[\"name\"]), hoteles)))\n"
   ]
  },
  {
   "cell_type": "code",
   "execution_count": 9,
   "metadata": {},
   "outputs": [
    {
     "data": {
      "text/html": [
       "<div>\n",
       "<style scoped>\n",
       "    .dataframe tbody tr th:only-of-type {\n",
       "        vertical-align: middle;\n",
       "    }\n",
       "\n",
       "    .dataframe tbody tr th {\n",
       "        vertical-align: top;\n",
       "    }\n",
       "\n",
       "    .dataframe thead th {\n",
       "        text-align: right;\n",
       "    }\n",
       "</style>\n",
       "<table border=\"1\" class=\"dataframe\">\n",
       "  <thead>\n",
       "    <tr style=\"text-align: right;\">\n",
       "      <th></th>\n",
       "      <th>0</th>\n",
       "      <th>1</th>\n",
       "      <th>2</th>\n",
       "      <th>3</th>\n",
       "      <th>4</th>\n",
       "      <th>5</th>\n",
       "      <th>6</th>\n",
       "      <th>7</th>\n",
       "      <th>8</th>\n",
       "      <th>9</th>\n",
       "    </tr>\n",
       "  </thead>\n",
       "  <tbody>\n",
       "    <tr>\n",
       "      <th>0</th>\n",
       "      <td>0.925983</td>\n",
       "      <td>0.572039</td>\n",
       "      <td>0.582568</td>\n",
       "      <td>0.063877</td>\n",
       "      <td>0.170144</td>\n",
       "      <td>0.690078</td>\n",
       "      <td>0.320118</td>\n",
       "      <td>0.761142</td>\n",
       "      <td>0.338311</td>\n",
       "      <td>0.732655</td>\n",
       "    </tr>\n",
       "    <tr>\n",
       "      <th>1</th>\n",
       "      <td>0.530776</td>\n",
       "      <td>0.404585</td>\n",
       "      <td>0.559668</td>\n",
       "      <td>0.212440</td>\n",
       "      <td>0.879962</td>\n",
       "      <td>0.010701</td>\n",
       "      <td>0.233859</td>\n",
       "      <td>0.705085</td>\n",
       "      <td>0.456660</td>\n",
       "      <td>0.783879</td>\n",
       "    </tr>\n",
       "    <tr>\n",
       "      <th>2</th>\n",
       "      <td>0.870788</td>\n",
       "      <td>0.921805</td>\n",
       "      <td>0.434441</td>\n",
       "      <td>0.052008</td>\n",
       "      <td>0.772713</td>\n",
       "      <td>0.974589</td>\n",
       "      <td>0.343783</td>\n",
       "      <td>0.380923</td>\n",
       "      <td>0.665905</td>\n",
       "      <td>0.757625</td>\n",
       "    </tr>\n",
       "    <tr>\n",
       "      <th>3</th>\n",
       "      <td>0.573953</td>\n",
       "      <td>0.482521</td>\n",
       "      <td>0.698859</td>\n",
       "      <td>0.510633</td>\n",
       "      <td>0.281179</td>\n",
       "      <td>0.449236</td>\n",
       "      <td>0.145946</td>\n",
       "      <td>0.064281</td>\n",
       "      <td>0.850281</td>\n",
       "      <td>0.285639</td>\n",
       "    </tr>\n",
       "    <tr>\n",
       "      <th>4</th>\n",
       "      <td>0.088715</td>\n",
       "      <td>0.461936</td>\n",
       "      <td>0.120463</td>\n",
       "      <td>0.174095</td>\n",
       "      <td>0.841498</td>\n",
       "      <td>0.171225</td>\n",
       "      <td>0.705169</td>\n",
       "      <td>0.880081</td>\n",
       "      <td>0.774789</td>\n",
       "      <td>0.631612</td>\n",
       "    </tr>\n",
       "  </tbody>\n",
       "</table>\n",
       "</div>"
      ],
      "text/plain": [
       "          0         1         2         3         4         5         6  \\\n",
       "0  0.925983  0.572039  0.582568  0.063877  0.170144  0.690078  0.320118   \n",
       "1  0.530776  0.404585  0.559668  0.212440  0.879962  0.010701  0.233859   \n",
       "2  0.870788  0.921805  0.434441  0.052008  0.772713  0.974589  0.343783   \n",
       "3  0.573953  0.482521  0.698859  0.510633  0.281179  0.449236  0.145946   \n",
       "4  0.088715  0.461936  0.120463  0.174095  0.841498  0.171225  0.705169   \n",
       "\n",
       "          7         8         9  \n",
       "0  0.761142  0.338311  0.732655  \n",
       "1  0.705085  0.456660  0.783879  \n",
       "2  0.380923  0.665905  0.757625  \n",
       "3  0.064281  0.850281  0.285639  \n",
       "4  0.880081  0.774789  0.631612  "
      ]
     },
     "execution_count": 9,
     "metadata": {},
     "output_type": "execute_result"
    }
   ],
   "source": [
    "import numpy as np\n",
    "import pandas as pd\n",
    "\n",
    "df = pd.DataFrame(np.random.random((5,10)))\n",
    "df"
   ]
  },
  {
   "cell_type": "code",
   "execution_count": 10,
   "metadata": {},
   "outputs": [
    {
     "data": {
      "text/html": [
       "<div>\n",
       "<style scoped>\n",
       "    .dataframe tbody tr th:only-of-type {\n",
       "        vertical-align: middle;\n",
       "    }\n",
       "\n",
       "    .dataframe tbody tr th {\n",
       "        vertical-align: top;\n",
       "    }\n",
       "\n",
       "    .dataframe thead th {\n",
       "        text-align: right;\n",
       "    }\n",
       "</style>\n",
       "<table border=\"1\" class=\"dataframe\">\n",
       "  <thead>\n",
       "    <tr style=\"text-align: right;\">\n",
       "      <th></th>\n",
       "      <th>0</th>\n",
       "      <th>1</th>\n",
       "      <th>2</th>\n",
       "      <th>3</th>\n",
       "      <th>4</th>\n",
       "      <th>5</th>\n",
       "      <th>6</th>\n",
       "      <th>7</th>\n",
       "      <th>8</th>\n",
       "      <th>9</th>\n",
       "    </tr>\n",
       "  </thead>\n",
       "  <tbody>\n",
       "    <tr>\n",
       "      <th>0</th>\n",
       "      <td>Hola0.925983030893971</td>\n",
       "      <td>Hola0.5720389416126644</td>\n",
       "      <td>Hola0.5825676492699371</td>\n",
       "      <td>Hola0.06387702150421015</td>\n",
       "      <td>Hola0.1701443059308334</td>\n",
       "      <td>Hola0.6900775611311745</td>\n",
       "      <td>Hola0.3201177367173792</td>\n",
       "      <td>Hola0.761141618762781</td>\n",
       "      <td>Hola0.3383105359653713</td>\n",
       "      <td>Hola0.7326549138966489</td>\n",
       "    </tr>\n",
       "    <tr>\n",
       "      <th>1</th>\n",
       "      <td>Hola0.5307759935319503</td>\n",
       "      <td>Hola0.4045849972910732</td>\n",
       "      <td>Hola0.559667755481785</td>\n",
       "      <td>Hola0.21244031717353484</td>\n",
       "      <td>Hola0.8799621356039421</td>\n",
       "      <td>Hola0.01070092561114977</td>\n",
       "      <td>Hola0.23385900599609055</td>\n",
       "      <td>Hola0.7050851662542101</td>\n",
       "      <td>Hola0.45665970843418835</td>\n",
       "      <td>Hola0.7838792961013588</td>\n",
       "    </tr>\n",
       "    <tr>\n",
       "      <th>2</th>\n",
       "      <td>Hola0.8707876313963466</td>\n",
       "      <td>Hola0.9218049026936159</td>\n",
       "      <td>Hola0.4344406819255747</td>\n",
       "      <td>Hola0.052007558436446</td>\n",
       "      <td>Hola0.7727134724806283</td>\n",
       "      <td>Hola0.974588760554891</td>\n",
       "      <td>Hola0.3437834740515623</td>\n",
       "      <td>Hola0.38092335769802055</td>\n",
       "      <td>Hola0.665905012089048</td>\n",
       "      <td>Hola0.7576250114467826</td>\n",
       "    </tr>\n",
       "    <tr>\n",
       "      <th>3</th>\n",
       "      <td>Hola0.5739531246337232</td>\n",
       "      <td>Hola0.4825212128769454</td>\n",
       "      <td>Hola0.6988594710537873</td>\n",
       "      <td>Hola0.5106326787250746</td>\n",
       "      <td>Hola0.2811789511435464</td>\n",
       "      <td>Hola0.44923600880563874</td>\n",
       "      <td>Hola0.1459463303891364</td>\n",
       "      <td>Hola0.06428142879067056</td>\n",
       "      <td>Hola0.8502809614215684</td>\n",
       "      <td>Hola0.28563880073127346</td>\n",
       "    </tr>\n",
       "    <tr>\n",
       "      <th>4</th>\n",
       "      <td>Hola0.08871502195675673</td>\n",
       "      <td>Hola0.46193630029873234</td>\n",
       "      <td>Hola0.1204625263988448</td>\n",
       "      <td>Hola0.17409477333358692</td>\n",
       "      <td>Hola0.8414980250870919</td>\n",
       "      <td>Hola0.17122455025134609</td>\n",
       "      <td>Hola0.7051692543700554</td>\n",
       "      <td>Hola0.8800814771755425</td>\n",
       "      <td>Hola0.7747891387986109</td>\n",
       "      <td>Hola0.6316117242401478</td>\n",
       "    </tr>\n",
       "  </tbody>\n",
       "</table>\n",
       "</div>"
      ],
      "text/plain": [
       "                         0                        1                       2  \\\n",
       "0    Hola0.925983030893971   Hola0.5720389416126644  Hola0.5825676492699371   \n",
       "1   Hola0.5307759935319503   Hola0.4045849972910732   Hola0.559667755481785   \n",
       "2   Hola0.8707876313963466   Hola0.9218049026936159  Hola0.4344406819255747   \n",
       "3   Hola0.5739531246337232   Hola0.4825212128769454  Hola0.6988594710537873   \n",
       "4  Hola0.08871502195675673  Hola0.46193630029873234  Hola0.1204625263988448   \n",
       "\n",
       "                         3                       4                        5  \\\n",
       "0  Hola0.06387702150421015  Hola0.1701443059308334   Hola0.6900775611311745   \n",
       "1  Hola0.21244031717353484  Hola0.8799621356039421  Hola0.01070092561114977   \n",
       "2    Hola0.052007558436446  Hola0.7727134724806283    Hola0.974588760554891   \n",
       "3   Hola0.5106326787250746  Hola0.2811789511435464  Hola0.44923600880563874   \n",
       "4  Hola0.17409477333358692  Hola0.8414980250870919  Hola0.17122455025134609   \n",
       "\n",
       "                         6                        7                        8  \\\n",
       "0   Hola0.3201177367173792    Hola0.761141618762781   Hola0.3383105359653713   \n",
       "1  Hola0.23385900599609055   Hola0.7050851662542101  Hola0.45665970843418835   \n",
       "2   Hola0.3437834740515623  Hola0.38092335769802055    Hola0.665905012089048   \n",
       "3   Hola0.1459463303891364  Hola0.06428142879067056   Hola0.8502809614215684   \n",
       "4   Hola0.7051692543700554   Hola0.8800814771755425   Hola0.7747891387986109   \n",
       "\n",
       "                         9  \n",
       "0   Hola0.7326549138966489  \n",
       "1   Hola0.7838792961013588  \n",
       "2   Hola0.7576250114467826  \n",
       "3  Hola0.28563880073127346  \n",
       "4   Hola0.6316117242401478  "
      ]
     },
     "execution_count": 10,
     "metadata": {},
     "output_type": "execute_result"
    }
   ],
   "source": [
    "df.applymap(lambda x: \"Hola\"+str(x))"
   ]
  },
  {
   "cell_type": "code",
   "execution_count": 11,
   "metadata": {},
   "outputs": [
    {
     "name": "stdout",
     "output_type": "stream",
     "text": [
      "ITera\n",
      "0 {'name': 'Hotel Legazpi', 'stars': 3}\n",
      "ITera\n",
      "None {'name': 'Pension Loli', 'stars': 3}\n",
      "ITera\n",
      "None {'name': 'Hilton', 'stars': 5}\n",
      "X vale:  None\n"
     ]
    }
   ],
   "source": [
    "\"\"\"\n",
    "def clean_1to2_ch (serie):\n",
    "    #Esta función elimina palabras de 2 o menos caracteres.\n",
    "    aux = serie.replace(\"\\s\\w{1,2}\\s\", \" \")\n",
    "    aux1 = aux.replace(\"\\s\\w{1,2}\\s\", \" \")\n",
    "    aux2 = aux1.replace(\"\\s\\w{1,2}\\s\", \" \")\n",
    "    return aux2.replace(\"\\s\\w{1,2}\\s\", \" \")\n",
    "\"\"\"\n",
    "\n",
    "from functools import reduce\n",
    "\n",
    "hoteles = [\n",
    "    {\"name\":\"Hotel Legazpi\", \"stars\":3},\n",
    "    {\"name\":\"Pension Loli\", \"stars\":3},\n",
    "    {\"name\":\"Hilton\", \"stars\":5},\n",
    "]\n",
    "\n",
    "\n",
    "def fn(acc,e):\n",
    "    print(\"ITera\")\n",
    "    print(acc,e)\n",
    "\n",
    "x = reduce(fn, hoteles, 0)\n",
    "print(\"X vale: \", x)"
   ]
  },
  {
   "cell_type": "code",
   "execution_count": 12,
   "metadata": {},
   "outputs": [
    {
     "name": "stdout",
     "output_type": "stream",
     "text": [
      "ITera\n",
      "0 {'name': 'Hotel Legazpi', 'stars': 3}\n",
      "ITera\n",
      "3 {'name': 'Pension Loli', 'stars': 3}\n",
      "ITera\n",
      "6 {'name': 'Hilton', 'stars': 5}\n"
     ]
    },
    {
     "data": {
      "text/plain": [
       "11"
      ]
     },
     "execution_count": 12,
     "metadata": {},
     "output_type": "execute_result"
    }
   ],
   "source": [
    "def fn(acc,e):\n",
    "    print(\"ITera\")\n",
    "    print(acc,e)\n",
    "    return acc + e[\"stars\"]\n",
    "\n",
    "reduce(fn, hoteles, 0)"
   ]
  },
  {
   "cell_type": "code",
   "execution_count": 13,
   "metadata": {},
   "outputs": [
    {
     "data": {
      "text/plain": [
       "11"
      ]
     },
     "execution_count": 13,
     "metadata": {},
     "output_type": "execute_result"
    }
   ],
   "source": [
    "reduce(lambda a,e: a+e[\"stars\"], hoteles, 0)"
   ]
  },
  {
   "cell_type": "code",
   "execution_count": 14,
   "metadata": {},
   "outputs": [
    {
     "name": "stdout",
     "output_type": "stream",
     "text": [
      "ITera\n",
      "{'name': 'Hotel Legazpi', 'stars': 3} {'name': 'Pension Loli', 'stars': 3}\n",
      "ITera\n",
      "6 {'name': 'Hilton', 'stars': 5}\n"
     ]
    },
    {
     "ename": "TypeError",
     "evalue": "'int' object is not subscriptable",
     "output_type": "error",
     "traceback": [
      "\u001b[0;31m---------------------------------------------------------------------------\u001b[0m",
      "\u001b[0;31mTypeError\u001b[0m                                 Traceback (most recent call last)",
      "\u001b[0;32m<ipython-input-14-c0cd0bba7a45>\u001b[0m in \u001b[0;36m<module>\u001b[0;34m\u001b[0m\n\u001b[1;32m      4\u001b[0m     \u001b[0;32mreturn\u001b[0m \u001b[0macc\u001b[0m\u001b[0;34m[\u001b[0m\u001b[0;34m\"stars\"\u001b[0m\u001b[0;34m]\u001b[0m \u001b[0;34m+\u001b[0m \u001b[0me\u001b[0m\u001b[0;34m[\u001b[0m\u001b[0;34m\"stars\"\u001b[0m\u001b[0;34m]\u001b[0m\u001b[0;34m\u001b[0m\u001b[0;34m\u001b[0m\u001b[0m\n\u001b[1;32m      5\u001b[0m \u001b[0;34m\u001b[0m\u001b[0m\n\u001b[0;32m----> 6\u001b[0;31m \u001b[0mreduce\u001b[0m\u001b[0;34m(\u001b[0m\u001b[0mfn\u001b[0m\u001b[0;34m,\u001b[0m \u001b[0mhoteles\u001b[0m\u001b[0;34m)\u001b[0m\u001b[0;34m\u001b[0m\u001b[0;34m\u001b[0m\u001b[0m\n\u001b[0m",
      "\u001b[0;32m<ipython-input-14-c0cd0bba7a45>\u001b[0m in \u001b[0;36mfn\u001b[0;34m(acc, e)\u001b[0m\n\u001b[1;32m      2\u001b[0m     \u001b[0mprint\u001b[0m\u001b[0;34m(\u001b[0m\u001b[0;34m\"ITera\"\u001b[0m\u001b[0;34m)\u001b[0m\u001b[0;34m\u001b[0m\u001b[0;34m\u001b[0m\u001b[0m\n\u001b[1;32m      3\u001b[0m     \u001b[0mprint\u001b[0m\u001b[0;34m(\u001b[0m\u001b[0macc\u001b[0m\u001b[0;34m,\u001b[0m\u001b[0me\u001b[0m\u001b[0;34m)\u001b[0m\u001b[0;34m\u001b[0m\u001b[0;34m\u001b[0m\u001b[0m\n\u001b[0;32m----> 4\u001b[0;31m     \u001b[0;32mreturn\u001b[0m \u001b[0macc\u001b[0m\u001b[0;34m[\u001b[0m\u001b[0;34m\"stars\"\u001b[0m\u001b[0;34m]\u001b[0m \u001b[0;34m+\u001b[0m \u001b[0me\u001b[0m\u001b[0;34m[\u001b[0m\u001b[0;34m\"stars\"\u001b[0m\u001b[0;34m]\u001b[0m\u001b[0;34m\u001b[0m\u001b[0;34m\u001b[0m\u001b[0m\n\u001b[0m\u001b[1;32m      5\u001b[0m \u001b[0;34m\u001b[0m\u001b[0m\n\u001b[1;32m      6\u001b[0m \u001b[0mreduce\u001b[0m\u001b[0;34m(\u001b[0m\u001b[0mfn\u001b[0m\u001b[0;34m,\u001b[0m \u001b[0mhoteles\u001b[0m\u001b[0;34m)\u001b[0m\u001b[0;34m\u001b[0m\u001b[0;34m\u001b[0m\u001b[0m\n",
      "\u001b[0;31mTypeError\u001b[0m: 'int' object is not subscriptable"
     ]
    }
   ],
   "source": [
    "def fn(acc,e):\n",
    "    print(\"ITera\")\n",
    "    print(acc,e)\n",
    "    return acc[\"stars\"] + e[\"stars\"]\n",
    "\n",
    "reduce(fn, hoteles)"
   ]
  },
  {
   "cell_type": "code",
   "execution_count": 25,
   "metadata": {},
   "outputs": [
    {
     "name": "stdout",
     "output_type": "stream",
     "text": [
      "0    hola me le pe se llamo pepe y tengo un perro\n",
      "1    hola me le pe se llamo pepe y tengo un perro\n",
      "2    hola me le pe se llamo pepe y tengo un perro\n",
      "3    hola me le pe se llamo pepe y tengo un perro\n",
      "4    hola me le pe se llamo pepe y tengo un perro\n",
      "5    hola me le pe se llamo pepe y tengo un perro\n",
      "6    hola me le pe se llamo pepe y tengo un perro\n",
      "7    hola me le pe se llamo pepe y tengo un perro\n",
      "8    hola me le pe se llamo pepe y tengo un perro\n",
      "9    hola me le pe se llamo pepe y tengo un perro\n",
      "dtype: object \\s\\w{1,2}\\s\n",
      "0    hola le se llamo pepe tengo perro\n",
      "1    hola le se llamo pepe tengo perro\n",
      "2    hola le se llamo pepe tengo perro\n",
      "3    hola le se llamo pepe tengo perro\n",
      "4    hola le se llamo pepe tengo perro\n",
      "5    hola le se llamo pepe tengo perro\n",
      "6    hola le se llamo pepe tengo perro\n",
      "7    hola le se llamo pepe tengo perro\n",
      "8    hola le se llamo pepe tengo perro\n",
      "9    hola le se llamo pepe tengo perro\n",
      "dtype: object \\s\\w{1,2}\\s\n",
      "0    hola se llamo pepe tengo perro\n",
      "1    hola se llamo pepe tengo perro\n",
      "2    hola se llamo pepe tengo perro\n",
      "3    hola se llamo pepe tengo perro\n",
      "4    hola se llamo pepe tengo perro\n",
      "5    hola se llamo pepe tengo perro\n",
      "6    hola se llamo pepe tengo perro\n",
      "7    hola se llamo pepe tengo perro\n",
      "8    hola se llamo pepe tengo perro\n",
      "9    hola se llamo pepe tengo perro\n",
      "dtype: object \\s\\w{1,2}\\s\n",
      "0    hola llamo pepe tengo perro\n",
      "1    hola llamo pepe tengo perro\n",
      "2    hola llamo pepe tengo perro\n",
      "3    hola llamo pepe tengo perro\n",
      "4    hola llamo pepe tengo perro\n",
      "5    hola llamo pepe tengo perro\n",
      "6    hola llamo pepe tengo perro\n",
      "7    hola llamo pepe tengo perro\n",
      "8    hola llamo pepe tengo perro\n",
      "9    hola llamo pepe tengo perro\n",
      "dtype: object \\s\\w{1,2}\\s\n",
      "0    hola llamo pepe tengo perro\n",
      "1    hola llamo pepe tengo perro\n",
      "2    hola llamo pepe tengo perro\n",
      "3    hola llamo pepe tengo perro\n",
      "4    hola llamo pepe tengo perro\n",
      "5    hola llamo pepe tengo perro\n",
      "6    hola llamo pepe tengo perro\n",
      "7    hola llamo pepe tengo perro\n",
      "8    hola llamo pepe tengo perro\n",
      "9    hola llamo pepe tengo perro\n",
      "dtype: object\n"
     ]
    }
   ],
   "source": [
    "\"\"\"\n",
    "def clean_1to2_ch (serie):\n",
    "    #Esta función elimina palabras de 2 o menos caracteres.\n",
    "    aux = serie.replace(\"\\s\\w{1,2}\\s\", \" \")\n",
    "    aux1 = aux.replace(\"\\s\\w{1,2}\\s\", \" \")\n",
    "    aux2 = aux1.replace(\"\\s\\w{1,2}\\s\", \" \")\n",
    "    return aux2.replace(\"\\s\\w{1,2}\\s\", \" \")\n",
    "\"\"\"\n",
    "\n",
    "operations = [\n",
    "    \"\\s\\w{1,2}\\s\",\n",
    "    \"\\s\\w{1,2}\\s\",\n",
    "    \"\\s\\w{1,2}\\s\",\n",
    "    \"\\s\\w{1,2}\\s\"\n",
    "]\n",
    "serie = pd.Series([\"hola me le pe se llamo pepe y tengo un perro\"]*10)\n",
    "\n",
    "def limpia(acc,op):\n",
    "    print(acc,op)\n",
    "    return acc.replace(re.compile(op), \" \")\n",
    "\n",
    "#limpia = lambda acc,op: acc.replace(op,\" \")\n",
    "\n",
    "x = reduce( limpia ,operations, serie)\n",
    "\n",
    "print(x)\n",
    "\n",
    "\n",
    "\n",
    "\n",
    "\n",
    "\n"
   ]
  },
  {
   "cell_type": "code",
   "execution_count": 38,
   "metadata": {},
   "outputs": [
    {
     "name": "stdout",
     "output_type": "stream",
     "text": [
      "[5, 6, 7, 8, 9]\n",
      "\tACC 0\n",
      "\telemento 5\n",
      "retorno 1.0\n",
      "\tACC 1.0\n",
      "\telemento 6\n",
      "retorno 2.2\n",
      "\tACC 2.2\n",
      "\telemento 7\n",
      "retorno 3.6\n",
      "\tACC 3.6\n",
      "\telemento 8\n",
      "retorno 5.2\n",
      "\tACC 5.2\n",
      "\telemento 9\n",
      "retorno 7.0\n",
      "7.0 7\n"
     ]
    }
   ],
   "source": [
    "from statistics import mean\n",
    "a = list(range(5,10))\n",
    "\n",
    "print(a)\n",
    "#hazmedia = lambda acc, e: acc+(e)/len(a)\n",
    "\n",
    "def hazmedia(acc,e):\n",
    "    print(\"\\tACC\",acc)\n",
    "    print(\"\\telemento\", e)\n",
    "    retorno = acc+e/len(a)\n",
    "    print(\"retorno\", retorno)\n",
    "    return retorno\n",
    "\n",
    "media = reduce(hazmedia, a, 0)\n",
    "print(media, mean(a))"
   ]
  },
  {
   "cell_type": "code",
   "execution_count": 62,
   "metadata": {},
   "outputs": [
    {
     "data": {
      "text/plain": [
       "[]"
      ]
     },
     "execution_count": 62,
     "metadata": {},
     "output_type": "execute_result"
    }
   ],
   "source": [
    "triangulos = list(map(lambda x: (x,x+1,(x**2+(x+1)**2)**(1/2)), range(1,101)))\n",
    "soluciones = list(map(lambda e: (e[0]**2+e[1]**2,round(e[2]**2,0)) , triangulos))\n",
    "list(filter(lambda e: e[0]!=e[1], soluciones))\n",
    "\n"
   ]
  },
  {
   "cell_type": "code",
   "execution_count": 75,
   "metadata": {},
   "outputs": [
    {
     "data": {
      "text/plain": [
       "[('Hotel0', 5),\n",
       " ('Hotel1', 5),\n",
       " ('Hotel2', 5),\n",
       " ('Hotel3', 5),\n",
       " ('Hotel4', 5),\n",
       " ('Hotel5', 5),\n",
       " ('Hotel6', 5),\n",
       " ('Hotel7', 5),\n",
       " ('Hotel8', 5),\n",
       " ('Hotel9', 5)]"
      ]
     },
     "execution_count": 75,
     "metadata": {},
     "output_type": "execute_result"
    }
   ],
   "source": [
    "hoteles = [(\"Hotel\",5)]*10\n",
    "\n",
    "list(map(lambda t: (lambda index,name,stars: (name+str(index),stars))(t[0],*t[1]), enumerate(hoteles)))\n",
    "\n"
   ]
  },
  {
   "cell_type": "code",
   "execution_count": 73,
   "metadata": {},
   "outputs": [
    {
     "data": {
      "text/plain": [
       "10"
      ]
     },
     "execution_count": 73,
     "metadata": {},
     "output_type": "execute_result"
    }
   ],
   "source": [
    "(lambda a,b: a+b)(5,5)"
   ]
  },
  {
   "cell_type": "code",
   "execution_count": 78,
   "metadata": {},
   "outputs": [
    {
     "data": {
      "text/plain": [
       "[(0, ('Hotel', 5)),\n",
       " (1, ('Hotel', 5)),\n",
       " (2, ('Hotel', 5)),\n",
       " (3, ('Hotel', 5)),\n",
       " (4, ('Hotel', 5)),\n",
       " (5, ('Hotel', 5)),\n",
       " (6, ('Hotel', 5)),\n",
       " (7, ('Hotel', 5)),\n",
       " (8, ('Hotel', 5)),\n",
       " (9, ('Hotel', 5))]"
      ]
     },
     "execution_count": 78,
     "metadata": {},
     "output_type": "execute_result"
    }
   ],
   "source": [
    "list(enumerate([(\"Hotel\",5)]*10))\n"
   ]
  },
  {
   "cell_type": "code",
   "execution_count": 79,
   "metadata": {},
   "outputs": [
    {
     "data": {
      "text/plain": [
       "False"
      ]
     },
     "execution_count": 79,
     "metadata": {},
     "output_type": "execute_result"
    }
   ],
   "source": [
    "esdiferente(5,5)\n",
    "# 5 != 5"
   ]
  },
  {
   "cell_type": "code",
   "execution_count": null,
   "metadata": {},
   "outputs": [],
   "source": []
  }
 ],
 "metadata": {
  "kernelspec": {
   "display_name": "Python 3",
   "language": "python",
   "name": "python3"
  },
  "language_info": {
   "codemirror_mode": {
    "name": "ipython",
    "version": 3
   },
   "file_extension": ".py",
   "mimetype": "text/x-python",
   "name": "python",
   "nbconvert_exporter": "python",
   "pygments_lexer": "ipython3",
   "version": "3.7.3"
  }
 },
 "nbformat": 4,
 "nbformat_minor": 2
}
