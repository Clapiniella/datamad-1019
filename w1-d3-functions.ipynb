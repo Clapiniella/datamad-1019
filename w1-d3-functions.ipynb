{
 "cells": [
  {
   "cell_type": "code",
   "execution_count": 8,
   "metadata": {},
   "outputs": [
    {
     "data": {
      "text/plain": [
       "15"
      ]
     },
     "execution_count": 8,
     "metadata": {},
     "output_type": "execute_result"
    }
   ],
   "source": [
    "def cualquiercosa(a,b):\n",
    "    return a+b\n",
    "\n",
    "cualquiercosa(5,10)"
   ]
  },
  {
   "cell_type": "code",
   "execution_count": 4,
   "metadata": {
    "scrolled": true
   },
   "outputs": [
    {
     "name": "stdout",
     "output_type": "stream",
     "text": [
      "Hola\n",
      "None\n"
     ]
    }
   ],
   "source": [
    "a = print(\"Hola\")\n",
    "print(a)"
   ]
  },
  {
   "cell_type": "code",
   "execution_count": 16,
   "metadata": {},
   "outputs": [
    {
     "name": "stdout",
     "output_type": "stream",
     "text": [
      "5 3\n"
     ]
    },
    {
     "data": {
      "text/plain": [
       "8"
      ]
     },
     "execution_count": 16,
     "metadata": {},
     "output_type": "execute_result"
    }
   ],
   "source": [
    "def suma(a,b=3):\n",
    "    print(a,b)\n",
    "    return a+b\n",
    "\n",
    "suma(5)"
   ]
  },
  {
   "cell_type": "code",
   "execution_count": 19,
   "metadata": {},
   "outputs": [
    {
     "name": "stdout",
     "output_type": "stream",
     "text": [
      "5 3 5\n"
     ]
    },
    {
     "data": {
      "text/plain": [
       "13"
      ]
     },
     "execution_count": 19,
     "metadata": {},
     "output_type": "execute_result"
    }
   ],
   "source": [
    "def suma(b,a=3,c=5):\n",
    "    print(b,a,c)\n",
    "    return a+b+c\n",
    "\n",
    "suma(5)"
   ]
  },
  {
   "cell_type": "code",
   "execution_count": 24,
   "metadata": {},
   "outputs": [
    {
     "data": {
      "text/plain": [
       "5.333333333333333"
      ]
     },
     "execution_count": 24,
     "metadata": {},
     "output_type": "execute_result"
    }
   ],
   "source": [
    "def media(notas):\n",
    "    suma = 0\n",
    "    for e in notas:\n",
    "        suma += e\n",
    "    return suma/len(notas)\n",
    "\n",
    "\n",
    "media([4,5,6,7,2,8])"
   ]
  },
  {
   "cell_type": "code",
   "execution_count": 34,
   "metadata": {},
   "outputs": [
    {
     "name": "stdout",
     "output_type": "stream",
     "text": [
      "Buenas tardes Pepe\n",
      "Buenas tardes Pepe\n"
     ]
    }
   ],
   "source": [
    "def saluda(nombre, idioma=\"es\", escolega=True):\n",
    "    if escolega:\n",
    "        print(\"Que pasa \"+ nombre)\n",
    "    else:\n",
    "        print(\"Buenas tardes \"+nombre)\n",
    "\n",
    "saluda(\"Pepe\",escolega=False)\n",
    "saluda(escolega=False, nombre=\"Pepe\")"
   ]
  },
  {
   "cell_type": "code",
   "execution_count": 37,
   "metadata": {},
   "outputs": [
    {
     "ename": "SyntaxError",
     "evalue": "non-default argument follows default argument (<ipython-input-37-f97642722d54>, line 1)",
     "output_type": "error",
     "traceback": [
      "\u001b[0;36m  File \u001b[0;32m\"<ipython-input-37-f97642722d54>\"\u001b[0;36m, line \u001b[0;32m1\u001b[0m\n\u001b[0;31m    def suma(a,b=5,c):\u001b[0m\n\u001b[0m            ^\u001b[0m\n\u001b[0;31mSyntaxError\u001b[0m\u001b[0;31m:\u001b[0m non-default argument follows default argument\n"
     ]
    }
   ],
   "source": [
    "def suma(a,b,c):\n",
    "    return a+b+c\n",
    "\n",
    "suma(c=5,b=4,a=3)\n",
    "suma(3,4,5)"
   ]
  },
  {
   "cell_type": "code",
   "execution_count": 52,
   "metadata": {},
   "outputs": [
    {
     "data": {
      "text/plain": [
       "'Buenas tardes'"
      ]
     },
     "execution_count": 52,
     "metadata": {},
     "output_type": "execute_result"
    }
   ],
   "source": [
    "def saludador(idioma):\n",
    "    if idioma == \"es\":\n",
    "        return \"Buenas tardes\"\n",
    "    elif idioma == \"en\":\n",
    "        return \"Welcome\"\n",
    "    return \"<InvalidLang>\"\n",
    "\n",
    "def saludadorColega(idioma):\n",
    "    if idioma == \"es\":\n",
    "        return \"Que pasa\"\n",
    "    elif idioma == \"en\":\n",
    "        return \"Hey\"\n",
    "    return \"<InvalidLang>\"\n",
    "\n",
    "saludador(\"es\")"
   ]
  },
  {
   "cell_type": "code",
   "execution_count": 60,
   "metadata": {},
   "outputs": [
    {
     "name": "stdout",
     "output_type": "stream",
     "text": [
      "Que pasa Pepe\n",
      "Buenas tardes Juan\n"
     ]
    }
   ],
   "source": [
    "def saluda(nombre, idioma=\"es\", escolega=True):\n",
    "    if escolega:\n",
    "        return \"{} {}\".format(saludadorColega(idioma),nombre)\n",
    "    else:\n",
    "        return \"{} {}\".format(saludador(idioma),nombre)\n",
    "\n",
    "print(saluda(\"Pepe\",escolega=True))\n",
    "print(saluda(\"Juan\",escolega=False))"
   ]
  },
  {
   "cell_type": "code",
   "execution_count": 61,
   "metadata": {},
   "outputs": [
    {
     "name": "stdout",
     "output_type": "stream",
     "text": [
      "Que pasa Pepe\n",
      "Buenas tardes Juan\n"
     ]
    }
   ],
   "source": [
    "def saluda(nombre, idioma=\"es\", escolega=True):\n",
    "    if escolega:\n",
    "        saludo = \"{} {}\".format(saludadorColega(idioma),nombre)\n",
    "    else:\n",
    "        saludo = \"{} {}\".format(saludador(idioma),nombre)\n",
    "    return saludo\n",
    "\n",
    "print(saluda(\"Pepe\",escolega=True))\n",
    "print(saluda(\"Juan\",escolega=False))"
   ]
  },
  {
   "cell_type": "code",
   "execution_count": 70,
   "metadata": {},
   "outputs": [
    {
     "name": "stdout",
     "output_type": "stream",
     "text": [
      "10\n"
     ]
    },
    {
     "ename": "TypeError",
     "evalue": "suma() missing 2 required positional arguments: 'a' and 'b'",
     "output_type": "error",
     "traceback": [
      "\u001b[0;31m---------------------------------------------------------------------------\u001b[0m",
      "\u001b[0;31mTypeError\u001b[0m                                 Traceback (most recent call last)",
      "\u001b[0;32m<ipython-input-70-e0994f426734>\u001b[0m in \u001b[0;36m<module>\u001b[0;34m\u001b[0m\n\u001b[1;32m      5\u001b[0m \u001b[0;34m\u001b[0m\u001b[0m\n\u001b[1;32m      6\u001b[0m \u001b[0mprint\u001b[0m\u001b[0;34m(\u001b[0m\u001b[0mpepe\u001b[0m\u001b[0;34m(\u001b[0m\u001b[0;36m5\u001b[0m\u001b[0;34m,\u001b[0m\u001b[0;36m5\u001b[0m\u001b[0;34m)\u001b[0m\u001b[0;34m)\u001b[0m\u001b[0;34m\u001b[0m\u001b[0;34m\u001b[0m\u001b[0m\n\u001b[0;32m----> 7\u001b[0;31m \u001b[0mprint\u001b[0m\u001b[0;34m(\u001b[0m\u001b[0mpepe\u001b[0m\u001b[0;34m(\u001b[0m\u001b[0;34m)\u001b[0m\u001b[0;34m)\u001b[0m\u001b[0;34m\u001b[0m\u001b[0;34m\u001b[0m\u001b[0m\n\u001b[0m",
      "\u001b[0;31mTypeError\u001b[0m: suma() missing 2 required positional arguments: 'a' and 'b'"
     ]
    }
   ],
   "source": [
    "def suma(a,b):\n",
    "    return a+b\n",
    "\n",
    "pepe = suma\n",
    "\n",
    "print(pepe(5,5))\n",
    "print(pepe)"
   ]
  },
  {
   "cell_type": "code",
   "execution_count": 73,
   "metadata": {},
   "outputs": [
    {
     "data": {
      "text/plain": [
       "'Que pasa Pepe'"
      ]
     },
     "execution_count": 73,
     "metadata": {},
     "output_type": "execute_result"
    }
   ],
   "source": [
    "def saluda(nombre, idioma=\"es\", tipo=\"colega\"):\n",
    "    if tipo==\"colega\":\n",
    "        return \"{} {}\".format(saludadorColega(idioma),nombre)\n",
    "    else:\n",
    "        return \"{} {}\".format(saludador(idioma),nombre)\n",
    "\n",
    "saluda(\"Pepe\")"
   ]
  },
  {
   "cell_type": "code",
   "execution_count": 79,
   "metadata": {},
   "outputs": [
    {
     "data": {
      "text/plain": [
       "'Hello Pepe'"
      ]
     },
     "execution_count": 79,
     "metadata": {},
     "output_type": "execute_result"
    }
   ],
   "source": [
    "\n",
    "def saludador(idioma):\n",
    "    if idioma == \"es\":\n",
    "        return \"Buenas tardes\"\n",
    "    elif idioma == \"en\":\n",
    "        return \"Welcome\"\n",
    "    return \"<InvalidLang>\"\n",
    "\n",
    "def saludadorColega(idioma):\n",
    "    if idioma == \"es\":\n",
    "        return \"Que pasa\"\n",
    "    elif idioma == \"en\":\n",
    "        return \"Hey\"\n",
    "    return \"<InvalidLang>\"\n",
    "\n",
    "def saludadorDesconocido(idioma):\n",
    "    if idioma == \"es\":\n",
    "        return \"Hola\"\n",
    "    elif idioma == \"en\":\n",
    "        return \"Hello\"\n",
    "    return \"<InvalidLang>\"\n",
    "\n",
    "def saluda(nombre, tipo, idioma=\"es\"):\n",
    "    return \"{} {}\".format(tipo(idioma),nombre)\n",
    "\n",
    "saluda(\"Pepe\", saludadorDesconocido, \"en\")"
   ]
  },
  {
   "cell_type": "code",
   "execution_count": 93,
   "metadata": {},
   "outputs": [
    {
     "name": "stdout",
     "output_type": "stream",
     "text": [
      "(4, 5, 6, 8, 1, 99, 5, 4, 3, 2, 9)\n"
     ]
    },
    {
     "data": {
      "text/plain": [
       "99"
      ]
     },
     "execution_count": 93,
     "metadata": {},
     "output_type": "execute_result"
    }
   ],
   "source": [
    "def calcularMaximo(*valores):\n",
    "    print(valores)\n",
    "    mx = valores[0]\n",
    "    for e in valores:\n",
    "        if e > mx:\n",
    "            mx = e\n",
    "    return mx\n",
    "        \n",
    "\n",
    "lst = [4,5,6,8,1,99,5,4,3,2,9]\n",
    "calcularMaximo(*lst)"
   ]
  },
  {
   "cell_type": "code",
   "execution_count": 106,
   "metadata": {},
   "outputs": [
    {
     "name": "stdout",
     "output_type": "stream",
     "text": [
      "(5, 4, 3) 4 5\n"
     ]
    },
    {
     "ename": "TypeError",
     "evalue": "can only concatenate tuple (not \"int\") to tuple",
     "output_type": "error",
     "traceback": [
      "\u001b[0;31m---------------------------------------------------------------------------\u001b[0m",
      "\u001b[0;31mTypeError\u001b[0m                                 Traceback (most recent call last)",
      "\u001b[0;32m<ipython-input-106-2e051cfb6607>\u001b[0m in \u001b[0;36m<module>\u001b[0;34m\u001b[0m\n\u001b[1;32m      4\u001b[0m \u001b[0;34m\u001b[0m\u001b[0m\n\u001b[1;32m      5\u001b[0m \u001b[0mx\u001b[0m \u001b[0;34m=\u001b[0m \u001b[0;34m[\u001b[0m\u001b[0;36m5\u001b[0m\u001b[0;34m,\u001b[0m\u001b[0;36m4\u001b[0m\u001b[0;34m,\u001b[0m\u001b[0;36m3\u001b[0m\u001b[0;34m]\u001b[0m\u001b[0;34m\u001b[0m\u001b[0;34m\u001b[0m\u001b[0m\n\u001b[0;32m----> 6\u001b[0;31m \u001b[0msuma\u001b[0m\u001b[0;34m(\u001b[0m\u001b[0;34m*\u001b[0m\u001b[0mx\u001b[0m\u001b[0;34m,\u001b[0m\u001b[0mc\u001b[0m\u001b[0;34m=\u001b[0m\u001b[0;36m5\u001b[0m\u001b[0;34m,\u001b[0m\u001b[0mb\u001b[0m\u001b[0;34m=\u001b[0m\u001b[0;36m4\u001b[0m\u001b[0;34m)\u001b[0m\u001b[0;34m\u001b[0m\u001b[0;34m\u001b[0m\u001b[0m\n\u001b[0m",
      "\u001b[0;32m<ipython-input-106-2e051cfb6607>\u001b[0m in \u001b[0;36msuma\u001b[0;34m(b, c, *a)\u001b[0m\n\u001b[1;32m      1\u001b[0m \u001b[0;32mdef\u001b[0m \u001b[0msuma\u001b[0m\u001b[0;34m(\u001b[0m\u001b[0;34m*\u001b[0m\u001b[0ma\u001b[0m\u001b[0;34m,\u001b[0m\u001b[0mb\u001b[0m\u001b[0;34m,\u001b[0m\u001b[0mc\u001b[0m\u001b[0;34m)\u001b[0m\u001b[0;34m:\u001b[0m\u001b[0;34m\u001b[0m\u001b[0;34m\u001b[0m\u001b[0m\n\u001b[1;32m      2\u001b[0m     \u001b[0mprint\u001b[0m\u001b[0;34m(\u001b[0m\u001b[0ma\u001b[0m\u001b[0;34m,\u001b[0m\u001b[0mb\u001b[0m\u001b[0;34m,\u001b[0m\u001b[0mc\u001b[0m\u001b[0;34m)\u001b[0m\u001b[0;34m\u001b[0m\u001b[0;34m\u001b[0m\u001b[0m\n\u001b[0;32m----> 3\u001b[0;31m     \u001b[0;32mreturn\u001b[0m \u001b[0ma\u001b[0m\u001b[0;34m+\u001b[0m\u001b[0mb\u001b[0m\u001b[0;34m+\u001b[0m\u001b[0mc\u001b[0m\u001b[0;34m\u001b[0m\u001b[0;34m\u001b[0m\u001b[0m\n\u001b[0m\u001b[1;32m      4\u001b[0m \u001b[0;34m\u001b[0m\u001b[0m\n\u001b[1;32m      5\u001b[0m \u001b[0mx\u001b[0m \u001b[0;34m=\u001b[0m \u001b[0;34m[\u001b[0m\u001b[0;36m5\u001b[0m\u001b[0;34m,\u001b[0m\u001b[0;36m4\u001b[0m\u001b[0;34m,\u001b[0m\u001b[0;36m3\u001b[0m\u001b[0;34m]\u001b[0m\u001b[0;34m\u001b[0m\u001b[0;34m\u001b[0m\u001b[0m\n",
      "\u001b[0;31mTypeError\u001b[0m: can only concatenate tuple (not \"int\") to tuple"
     ]
    }
   ],
   "source": [
    "def suma(*a,b,c):\n",
    "    print(a,b,c)\n",
    "    return a+b+c\n",
    "\n",
    "x = [5,4,3]\n",
    "suma(*x,c=5,b=4)"
   ]
  },
  {
   "cell_type": "code",
   "execution_count": 115,
   "metadata": {},
   "outputs": [
    {
     "name": "stdout",
     "output_type": "stream",
     "text": [
      "hola Pepe Garcia tienes 30 años\n",
      "hola Pepe Garcia tienes 30 años\n",
      "hola Pepe Garcia tienes 30 años\n"
     ]
    }
   ],
   "source": [
    "def saludame(nombre, apellidos, edad):\n",
    "    print(\"hola {} {} tienes {} años\".format(nombre,apellidos,edad))\n",
    "    \n",
    "    \n",
    "alumno = {\n",
    "    \"nombre\":\"Pepe\",\n",
    "    \"apellidos\":\"Garcia\",\n",
    "    \"edad\":30\n",
    "}\n",
    "    \n",
    "saludame(\"Pepe\", \"Garcia\", 30)\n",
    "saludame(alumno[\"nombre\"],alumno[\"apellidos\"],alumno[\"edad\"])\n",
    "saludame(**alumno)"
   ]
  },
  {
   "cell_type": "code",
   "execution_count": 126,
   "metadata": {},
   "outputs": [
    {
     "name": "stdout",
     "output_type": "stream",
     "text": [
      "{'pedro': {'nombre': 'Pepe', 'apellidos': 'Garcia', 'edad': 30}, 'paco': {'nombre': 'Pepe', 'apellidos': 'Garcia', 'edad': 30}}\n"
     ]
    }
   ],
   "source": [
    "def hola(**x):\n",
    "    print(x)\n",
    "    \n",
    "alumno = {\n",
    "    \"nombre\":\"Pepe\",\n",
    "    \"apellidos\":\"Garcia\",\n",
    "    \"edad\":30\n",
    "}\n",
    "\n",
    "hola(pedro=alumno, paco=alumno)\n",
    "\n"
   ]
  },
  {
   "cell_type": "code",
   "execution_count": 137,
   "metadata": {},
   "outputs": [
    {
     "name": "stdout",
     "output_type": "stream",
     "text": [
      "Generic FN:\n",
      "\tArgs (5, 4, 3)\n",
      "\tKwargs {}\n",
      "Generic FN:\n",
      "\tArgs ()\n",
      "\tKwargs {'a': 1, 'b': 2, 'c': 4}\n",
      "Generic FN:\n",
      "\tArgs ([4, 3, 2, 5, 6],)\n",
      "\tKwargs {}\n",
      "Generic FN:\n",
      "\tArgs (4, 3, 2, 5, 6)\n",
      "\tKwargs {}\n",
      "Generic FN:\n",
      "\tArgs (4, 3, 2, 5, 6)\n",
      "\tKwargs {'hola': 'quetal'}\n"
     ]
    }
   ],
   "source": [
    "\n",
    "def fn(*args,**kwargs):\n",
    "    print(\"Generic FN:\")\n",
    "    print(\"\\tArgs\", args)\n",
    "    print(\"\\tKwargs\", kwargs)\n",
    "    \n",
    "fn(5,4,3)\n",
    "fn(a=1,b=2,c=4)\n",
    "fn([4,3,2,5,6])\n",
    "fn(*[4,3,2,5,6])\n",
    "fn(*[4,3,2,5,6], hola=\"quetal\")\n"
   ]
  },
  {
   "cell_type": "code",
   "execution_count": 139,
   "metadata": {},
   "outputs": [
    {
     "data": {
      "text/plain": [
       "[10, 4, 5]"
      ]
     },
     "execution_count": 139,
     "metadata": {},
     "output_type": "execute_result"
    }
   ],
   "source": [
    "max([3,4,5,6,6])"
   ]
  },
  {
   "cell_type": "code",
   "execution_count": 148,
   "metadata": {},
   "outputs": [
    {
     "name": "stdout",
     "output_type": "stream",
     "text": [
      "nombre apellidos edad\n"
     ]
    }
   ],
   "source": [
    "def listameLasKeys(**kwargs):\n",
    "    print(*kwargs.keys())\n",
    "    \n",
    "alumno = {\n",
    "    \"nombre\":\"Pepe\",\n",
    "    \"apellidos\":\"Garcia\",\n",
    "    \"edad\":30\n",
    "}\n",
    "\n",
    "listameLasKeys(**alumno)"
   ]
  },
  {
   "cell_type": "code",
   "execution_count": 147,
   "metadata": {},
   "outputs": [
    {
     "name": "stdout",
     "output_type": "stream",
     "text": [
      "Hola que tal\n",
      "Hola que tal\n"
     ]
    }
   ],
   "source": [
    "print(*[\"Hola\",\"que\",\"tal\"])\n",
    "print(\"Hola\",\"que\",\"tal\")"
   ]
  },
  {
   "cell_type": "code",
   "execution_count": null,
   "metadata": {},
   "outputs": [],
   "source": []
  }
 ],
 "metadata": {
  "kernelspec": {
   "display_name": "Python 3",
   "language": "python",
   "name": "python3"
  },
  "language_info": {
   "codemirror_mode": {
    "name": "ipython",
    "version": 3
   },
   "file_extension": ".py",
   "mimetype": "text/x-python",
   "name": "python",
   "nbconvert_exporter": "python",
   "pygments_lexer": "ipython3",
   "version": "3.7.3"
  }
 },
 "nbformat": 4,
 "nbformat_minor": 2
}
