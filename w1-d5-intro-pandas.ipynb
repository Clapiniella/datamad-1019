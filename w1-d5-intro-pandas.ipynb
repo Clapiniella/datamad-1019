{
 "cells": [
  {
   "cell_type": "code",
   "execution_count": 3,
   "metadata": {},
   "outputs": [
    {
     "data": {
      "text/plain": [
       "[[1], [1, 1], [1, 1, 1], [1, 1, 1, 1], [1, 1, 1, 1, 1]]"
      ]
     },
     "execution_count": 3,
     "metadata": {},
     "output_type": "execute_result"
    }
   ],
   "source": [
    "lst = [[1]*(i+1) for i in range(5)]\n",
    "lst"
   ]
  },
  {
   "cell_type": "code",
   "execution_count": 17,
   "metadata": {},
   "outputs": [],
   "source": [
    "import pandas as pd\n",
    "import numpy as np\n",
    "x = np.random.random((5,5))"
   ]
  },
  {
   "cell_type": "code",
   "execution_count": 19,
   "metadata": {},
   "outputs": [
    {
     "data": {
      "text/html": [
       "<div>\n",
       "<style scoped>\n",
       "    .dataframe tbody tr th:only-of-type {\n",
       "        vertical-align: middle;\n",
       "    }\n",
       "\n",
       "    .dataframe tbody tr th {\n",
       "        vertical-align: top;\n",
       "    }\n",
       "\n",
       "    .dataframe thead th {\n",
       "        text-align: right;\n",
       "    }\n",
       "</style>\n",
       "<table border=\"1\" class=\"dataframe\">\n",
       "  <thead>\n",
       "    <tr style=\"text-align: right;\">\n",
       "      <th></th>\n",
       "      <th>col0</th>\n",
       "      <th>col1</th>\n",
       "      <th>col2</th>\n",
       "      <th>col3</th>\n",
       "      <th>col4</th>\n",
       "    </tr>\n",
       "  </thead>\n",
       "  <tbody>\n",
       "    <tr>\n",
       "      <th>0</th>\n",
       "      <td>0.381356</td>\n",
       "      <td>0.948165</td>\n",
       "      <td>0.083552</td>\n",
       "      <td>0.208257</td>\n",
       "      <td>0.516020</td>\n",
       "    </tr>\n",
       "    <tr>\n",
       "      <th>1</th>\n",
       "      <td>0.145749</td>\n",
       "      <td>0.104098</td>\n",
       "      <td>0.300087</td>\n",
       "      <td>0.398263</td>\n",
       "      <td>0.660491</td>\n",
       "    </tr>\n",
       "    <tr>\n",
       "      <th>2</th>\n",
       "      <td>0.168878</td>\n",
       "      <td>0.738567</td>\n",
       "      <td>0.123160</td>\n",
       "      <td>0.881641</td>\n",
       "      <td>0.262279</td>\n",
       "    </tr>\n",
       "    <tr>\n",
       "      <th>3</th>\n",
       "      <td>0.001832</td>\n",
       "      <td>0.660509</td>\n",
       "      <td>0.867112</td>\n",
       "      <td>0.534126</td>\n",
       "      <td>0.163382</td>\n",
       "    </tr>\n",
       "    <tr>\n",
       "      <th>4</th>\n",
       "      <td>0.767650</td>\n",
       "      <td>0.583775</td>\n",
       "      <td>0.646304</td>\n",
       "      <td>0.777617</td>\n",
       "      <td>0.873298</td>\n",
       "    </tr>\n",
       "  </tbody>\n",
       "</table>\n",
       "</div>"
      ],
      "text/plain": [
       "       col0      col1      col2      col3      col4\n",
       "0  0.381356  0.948165  0.083552  0.208257  0.516020\n",
       "1  0.145749  0.104098  0.300087  0.398263  0.660491\n",
       "2  0.168878  0.738567  0.123160  0.881641  0.262279\n",
       "3  0.001832  0.660509  0.867112  0.534126  0.163382\n",
       "4  0.767650  0.583775  0.646304  0.777617  0.873298"
      ]
     },
     "metadata": {},
     "output_type": "display_data"
    },
    {
     "name": "stdout",
     "output_type": "stream",
     "text": [
      "<class 'pandas.core.frame.DataFrame'>\n"
     ]
    }
   ],
   "source": [
    "colnames = [\"col\"+str(i) for i in range(5)]\n",
    "df = pd.DataFrame(x, columns=colnames)\n",
    "display(df)\n",
    "print(type(df))"
   ]
  },
  {
   "cell_type": "code",
   "execution_count": 30,
   "metadata": {},
   "outputs": [
    {
     "name": "stdout",
     "output_type": "stream",
     "text": [
      "0    0.083552\n",
      "1    0.300087\n",
      "2    0.123160\n",
      "3    0.867112\n",
      "4    0.646304\n",
      "Name: col2, dtype: float64\n",
      "<class 'pandas.core.series.Series'>\n",
      "0.12316001093164863\n"
     ]
    }
   ],
   "source": [
    "c = df[\"col2\"]\n",
    "print(c)\n",
    "print(type(c))\n",
    "print(c[2])\n"
   ]
  },
  {
   "cell_type": "code",
   "execution_count": 42,
   "metadata": {},
   "outputs": [
    {
     "data": {
      "text/html": [
       "<div>\n",
       "<style scoped>\n",
       "    .dataframe tbody tr th:only-of-type {\n",
       "        vertical-align: middle;\n",
       "    }\n",
       "\n",
       "    .dataframe tbody tr th {\n",
       "        vertical-align: top;\n",
       "    }\n",
       "\n",
       "    .dataframe thead th {\n",
       "        text-align: right;\n",
       "    }\n",
       "</style>\n",
       "<table border=\"1\" class=\"dataframe\">\n",
       "  <thead>\n",
       "    <tr style=\"text-align: right;\">\n",
       "      <th></th>\n",
       "      <th>col0</th>\n",
       "      <th>col1</th>\n",
       "      <th>col2</th>\n",
       "      <th>col3</th>\n",
       "      <th>col4</th>\n",
       "    </tr>\n",
       "  </thead>\n",
       "  <tbody>\n",
       "    <tr>\n",
       "      <th>0</th>\n",
       "      <td>0.381356</td>\n",
       "      <td>0.948165</td>\n",
       "      <td>0.083552</td>\n",
       "      <td>0.208257</td>\n",
       "      <td>0.516020</td>\n",
       "    </tr>\n",
       "    <tr>\n",
       "      <th>1</th>\n",
       "      <td>0.145749</td>\n",
       "      <td>0.104098</td>\n",
       "      <td>0.300087</td>\n",
       "      <td>0.398263</td>\n",
       "      <td>0.660491</td>\n",
       "    </tr>\n",
       "    <tr>\n",
       "      <th>2</th>\n",
       "      <td>0.168878</td>\n",
       "      <td>0.738567</td>\n",
       "      <td>0.123160</td>\n",
       "      <td>0.881641</td>\n",
       "      <td>0.262279</td>\n",
       "    </tr>\n",
       "    <tr>\n",
       "      <th>3</th>\n",
       "      <td>0.001832</td>\n",
       "      <td>0.660509</td>\n",
       "      <td>0.867112</td>\n",
       "      <td>0.534126</td>\n",
       "      <td>0.163382</td>\n",
       "    </tr>\n",
       "    <tr>\n",
       "      <th>4</th>\n",
       "      <td>0.767650</td>\n",
       "      <td>0.583775</td>\n",
       "      <td>0.646304</td>\n",
       "      <td>0.777617</td>\n",
       "      <td>0.873298</td>\n",
       "    </tr>\n",
       "  </tbody>\n",
       "</table>\n",
       "</div>"
      ],
      "text/plain": [
       "       col0      col1      col2      col3      col4\n",
       "0  0.381356  0.948165  0.083552  0.208257  0.516020\n",
       "1  0.145749  0.104098  0.300087  0.398263  0.660491\n",
       "2  0.168878  0.738567  0.123160  0.881641  0.262279\n",
       "3  0.001832  0.660509  0.867112  0.534126  0.163382\n",
       "4  0.767650  0.583775  0.646304  0.777617  0.873298"
      ]
     },
     "metadata": {},
     "output_type": "display_data"
    },
    {
     "data": {
      "text/html": [
       "<div>\n",
       "<style scoped>\n",
       "    .dataframe tbody tr th:only-of-type {\n",
       "        vertical-align: middle;\n",
       "    }\n",
       "\n",
       "    .dataframe tbody tr th {\n",
       "        vertical-align: top;\n",
       "    }\n",
       "\n",
       "    .dataframe thead th {\n",
       "        text-align: right;\n",
       "    }\n",
       "</style>\n",
       "<table border=\"1\" class=\"dataframe\">\n",
       "  <thead>\n",
       "    <tr style=\"text-align: right;\">\n",
       "      <th></th>\n",
       "      <th>col0</th>\n",
       "      <th>col1</th>\n",
       "    </tr>\n",
       "  </thead>\n",
       "  <tbody>\n",
       "    <tr>\n",
       "      <th>0</th>\n",
       "      <td>0.381356</td>\n",
       "      <td>0.948165</td>\n",
       "    </tr>\n",
       "    <tr>\n",
       "      <th>1</th>\n",
       "      <td>0.145749</td>\n",
       "      <td>0.104098</td>\n",
       "    </tr>\n",
       "    <tr>\n",
       "      <th>2</th>\n",
       "      <td>0.168878</td>\n",
       "      <td>0.738567</td>\n",
       "    </tr>\n",
       "    <tr>\n",
       "      <th>3</th>\n",
       "      <td>0.001832</td>\n",
       "      <td>0.660509</td>\n",
       "    </tr>\n",
       "    <tr>\n",
       "      <th>4</th>\n",
       "      <td>0.767650</td>\n",
       "      <td>0.583775</td>\n",
       "    </tr>\n",
       "  </tbody>\n",
       "</table>\n",
       "</div>"
      ],
      "text/plain": [
       "       col0      col1\n",
       "0  0.381356  0.948165\n",
       "1  0.145749  0.104098\n",
       "2  0.168878  0.738567\n",
       "3  0.001832  0.660509\n",
       "4  0.767650  0.583775"
      ]
     },
     "metadata": {},
     "output_type": "display_data"
    }
   ],
   "source": [
    "display(df)\n",
    "df2 = df[[\"col0\",\"col1\"]]\n",
    "display(df2)"
   ]
  },
  {
   "cell_type": "code",
   "execution_count": 48,
   "metadata": {},
   "outputs": [
    {
     "name": "stdout",
     "output_type": "stream",
     "text": [
      "             0         1         2         3         4\n",
      "col0  0.381356  0.145749  0.168878  0.001832  0.767650\n",
      "col1  0.948165  0.104098  0.738567  0.660509  0.583775\n"
     ]
    },
    {
     "data": {
      "text/plain": [
       "0    0.381356\n",
       "1    0.145749\n",
       "2    0.168878\n",
       "3    0.001832\n",
       "4    0.767650\n",
       "Name: col0, dtype: float64"
      ]
     },
     "execution_count": 48,
     "metadata": {},
     "output_type": "execute_result"
    }
   ],
   "source": [
    "# Acces to row by index with iloc\n",
    "df2t = df2.T\n",
    "print(df2t)\n",
    "\n",
    "df2t.iloc[0]"
   ]
  },
  {
   "cell_type": "code",
   "execution_count": 55,
   "metadata": {},
   "outputs": [
    {
     "name": "stdout",
     "output_type": "stream",
     "text": [
      "             0         1         2         3         4\n",
      "col0  0.381356  0.145749  0.168878  0.001832  0.767650\n",
      "col1  0.948165  0.104098  0.738567  0.660509  0.583775\n"
     ]
    },
    {
     "data": {
      "text/plain": [
       "0    0.948165\n",
       "1    0.104098\n",
       "2    0.738567\n",
       "3    0.660509\n",
       "4    0.583775\n",
       "Name: col1, dtype: float64"
      ]
     },
     "execution_count": 55,
     "metadata": {},
     "output_type": "execute_result"
    }
   ],
   "source": [
    "# Acces to row by name with loc\n",
    "df2t = df2.T\n",
    "print(df2t)\n",
    "\n",
    "df2t.loc[\"col1\"] # return series\n",
    "#df2t.loc[[\"col1\",\"col0\"]] # return df"
   ]
  },
  {
   "cell_type": "code",
   "execution_count": 62,
   "metadata": {},
   "outputs": [
    {
     "name": "stdout",
     "output_type": "stream",
     "text": [
      "[{'name': 'Pension Pepe', 'stars': 3, 'precionoche': 20}, {'name': 'Wellington', 'stars': 5, 'precionoche': 300}, {'name': 'Velazquez', 'stars': 5, 'precionoche': 190}, {'name': 'Pension Loli', 'stars': 1, 'precionoche': 4.5}]\n"
     ]
    },
    {
     "data": {
      "text/html": [
       "<div>\n",
       "<style scoped>\n",
       "    .dataframe tbody tr th:only-of-type {\n",
       "        vertical-align: middle;\n",
       "    }\n",
       "\n",
       "    .dataframe tbody tr th {\n",
       "        vertical-align: top;\n",
       "    }\n",
       "\n",
       "    .dataframe thead th {\n",
       "        text-align: right;\n",
       "    }\n",
       "</style>\n",
       "<table border=\"1\" class=\"dataframe\">\n",
       "  <thead>\n",
       "    <tr style=\"text-align: right;\">\n",
       "      <th></th>\n",
       "      <th>name</th>\n",
       "      <th>precionoche</th>\n",
       "      <th>stars</th>\n",
       "    </tr>\n",
       "  </thead>\n",
       "  <tbody>\n",
       "    <tr>\n",
       "      <th>0</th>\n",
       "      <td>Pension Pepe</td>\n",
       "      <td>20.0</td>\n",
       "      <td>3</td>\n",
       "    </tr>\n",
       "    <tr>\n",
       "      <th>1</th>\n",
       "      <td>Wellington</td>\n",
       "      <td>300.0</td>\n",
       "      <td>5</td>\n",
       "    </tr>\n",
       "    <tr>\n",
       "      <th>2</th>\n",
       "      <td>Velazquez</td>\n",
       "      <td>190.0</td>\n",
       "      <td>5</td>\n",
       "    </tr>\n",
       "    <tr>\n",
       "      <th>3</th>\n",
       "      <td>Pension Loli</td>\n",
       "      <td>4.5</td>\n",
       "      <td>1</td>\n",
       "    </tr>\n",
       "  </tbody>\n",
       "</table>\n",
       "</div>"
      ],
      "text/plain": [
       "           name  precionoche  stars\n",
       "0  Pension Pepe         20.0      3\n",
       "1    Wellington        300.0      5\n",
       "2     Velazquez        190.0      5\n",
       "3  Pension Loli          4.5      1"
      ]
     },
     "execution_count": 62,
     "metadata": {},
     "output_type": "execute_result"
    }
   ],
   "source": [
    "data = [\n",
    "    {\"name\":\"Pension Pepe\", \"stars\":3, \"precionoche\":20},\n",
    "    {\"name\":\"Wellington\", \"stars\":5, \"precionoche\":300},\n",
    "    {\"name\":\"Velazquez\", \"stars\":5, \"precionoche\":190},\n",
    "    {\"name\":\"Pension Loli\", \"stars\":1, \"precionoche\":4.5}\n",
    "]\n",
    "\n",
    "print(data)\n",
    "\n",
    "df = pd.DataFrame(data)\n",
    "df"
   ]
  },
  {
   "cell_type": "code",
   "execution_count": 74,
   "metadata": {},
   "outputs": [
    {
     "data": {
      "text/html": [
       "<div>\n",
       "<style scoped>\n",
       "    .dataframe tbody tr th:only-of-type {\n",
       "        vertical-align: middle;\n",
       "    }\n",
       "\n",
       "    .dataframe tbody tr th {\n",
       "        vertical-align: top;\n",
       "    }\n",
       "\n",
       "    .dataframe thead th {\n",
       "        text-align: right;\n",
       "    }\n",
       "</style>\n",
       "<table border=\"1\" class=\"dataframe\">\n",
       "  <thead>\n",
       "    <tr style=\"text-align: right;\">\n",
       "      <th></th>\n",
       "      <th>name</th>\n",
       "      <th>precionoche</th>\n",
       "      <th>piscina</th>\n",
       "      <th>stars</th>\n",
       "    </tr>\n",
       "  </thead>\n",
       "  <tbody>\n",
       "    <tr>\n",
       "      <th>0</th>\n",
       "      <td>Pension Pepe</td>\n",
       "      <td>20.0</td>\n",
       "      <td>True</td>\n",
       "      <td>3</td>\n",
       "    </tr>\n",
       "    <tr>\n",
       "      <th>1</th>\n",
       "      <td>Wellington</td>\n",
       "      <td>300.0</td>\n",
       "      <td>False</td>\n",
       "      <td>5</td>\n",
       "    </tr>\n",
       "    <tr>\n",
       "      <th>2</th>\n",
       "      <td>Velazquez</td>\n",
       "      <td>190.0</td>\n",
       "      <td>True</td>\n",
       "      <td>5</td>\n",
       "    </tr>\n",
       "    <tr>\n",
       "      <th>3</th>\n",
       "      <td>Pension Loli</td>\n",
       "      <td>4.5</td>\n",
       "      <td>False</td>\n",
       "      <td>1</td>\n",
       "    </tr>\n",
       "  </tbody>\n",
       "</table>\n",
       "</div>"
      ],
      "text/plain": [
       "           name  precionoche  piscina  stars\n",
       "0  Pension Pepe         20.0     True      3\n",
       "1    Wellington        300.0    False      5\n",
       "2     Velazquez        190.0     True      5\n",
       "3  Pension Loli          4.5    False      1"
      ]
     },
     "execution_count": 74,
     "metadata": {},
     "output_type": "execute_result"
    }
   ],
   "source": [
    "piscina = [True,False,True,False]\n",
    "\n",
    "df[\"piscina\"] = piscina\n",
    "df = df[[\"name\",\"precionoche\",\"piscina\",\"stars\"]]\n",
    "df"
   ]
  },
  {
   "cell_type": "code",
   "execution_count": 77,
   "metadata": {},
   "outputs": [
    {
     "data": {
      "text/html": [
       "<div>\n",
       "<style scoped>\n",
       "    .dataframe tbody tr th:only-of-type {\n",
       "        vertical-align: middle;\n",
       "    }\n",
       "\n",
       "    .dataframe tbody tr th {\n",
       "        vertical-align: top;\n",
       "    }\n",
       "\n",
       "    .dataframe thead th {\n",
       "        text-align: right;\n",
       "    }\n",
       "</style>\n",
       "<table border=\"1\" class=\"dataframe\">\n",
       "  <thead>\n",
       "    <tr style=\"text-align: right;\">\n",
       "      <th></th>\n",
       "      <th>name</th>\n",
       "      <th>precionoche</th>\n",
       "      <th>piscina</th>\n",
       "      <th>stars</th>\n",
       "      <th>preciodescuento</th>\n",
       "    </tr>\n",
       "  </thead>\n",
       "  <tbody>\n",
       "    <tr>\n",
       "      <th>0</th>\n",
       "      <td>Pension Pepe</td>\n",
       "      <td>20.0</td>\n",
       "      <td>True</td>\n",
       "      <td>3</td>\n",
       "      <td>16.0</td>\n",
       "    </tr>\n",
       "    <tr>\n",
       "      <th>1</th>\n",
       "      <td>Wellington</td>\n",
       "      <td>300.0</td>\n",
       "      <td>False</td>\n",
       "      <td>5</td>\n",
       "      <td>240.0</td>\n",
       "    </tr>\n",
       "    <tr>\n",
       "      <th>2</th>\n",
       "      <td>Velazquez</td>\n",
       "      <td>190.0</td>\n",
       "      <td>True</td>\n",
       "      <td>5</td>\n",
       "      <td>152.0</td>\n",
       "    </tr>\n",
       "    <tr>\n",
       "      <th>3</th>\n",
       "      <td>Pension Loli</td>\n",
       "      <td>4.5</td>\n",
       "      <td>False</td>\n",
       "      <td>1</td>\n",
       "      <td>3.6</td>\n",
       "    </tr>\n",
       "  </tbody>\n",
       "</table>\n",
       "</div>"
      ],
      "text/plain": [
       "           name  precionoche  piscina  stars  preciodescuento\n",
       "0  Pension Pepe         20.0     True      3             16.0\n",
       "1    Wellington        300.0    False      5            240.0\n",
       "2     Velazquez        190.0     True      5            152.0\n",
       "3  Pension Loli          4.5    False      1              3.6"
      ]
     },
     "execution_count": 77,
     "metadata": {},
     "output_type": "execute_result"
    }
   ],
   "source": [
    "df[\"preciodescuento\"] = df[\"precionoche\"] * 0.8\n",
    "df"
   ]
  },
  {
   "cell_type": "code",
   "execution_count": 80,
   "metadata": {},
   "outputs": [],
   "source": [
    "df[\"precio3\"] = [e*0.8 for e in df[\"precionoche\"]]\n"
   ]
  },
  {
   "cell_type": "code",
   "execution_count": 81,
   "metadata": {},
   "outputs": [
    {
     "data": {
      "text/html": [
       "<div>\n",
       "<style scoped>\n",
       "    .dataframe tbody tr th:only-of-type {\n",
       "        vertical-align: middle;\n",
       "    }\n",
       "\n",
       "    .dataframe tbody tr th {\n",
       "        vertical-align: top;\n",
       "    }\n",
       "\n",
       "    .dataframe thead th {\n",
       "        text-align: right;\n",
       "    }\n",
       "</style>\n",
       "<table border=\"1\" class=\"dataframe\">\n",
       "  <thead>\n",
       "    <tr style=\"text-align: right;\">\n",
       "      <th></th>\n",
       "      <th>name</th>\n",
       "      <th>precionoche</th>\n",
       "      <th>piscina</th>\n",
       "      <th>stars</th>\n",
       "      <th>preciodescuento</th>\n",
       "      <th>precio3</th>\n",
       "    </tr>\n",
       "  </thead>\n",
       "  <tbody>\n",
       "    <tr>\n",
       "      <th>0</th>\n",
       "      <td>Pension Pepe</td>\n",
       "      <td>20.0</td>\n",
       "      <td>True</td>\n",
       "      <td>3</td>\n",
       "      <td>16.0</td>\n",
       "      <td>16.0</td>\n",
       "    </tr>\n",
       "    <tr>\n",
       "      <th>1</th>\n",
       "      <td>Wellington</td>\n",
       "      <td>300.0</td>\n",
       "      <td>False</td>\n",
       "      <td>5</td>\n",
       "      <td>240.0</td>\n",
       "      <td>240.0</td>\n",
       "    </tr>\n",
       "    <tr>\n",
       "      <th>2</th>\n",
       "      <td>Velazquez</td>\n",
       "      <td>190.0</td>\n",
       "      <td>True</td>\n",
       "      <td>5</td>\n",
       "      <td>152.0</td>\n",
       "      <td>152.0</td>\n",
       "    </tr>\n",
       "    <tr>\n",
       "      <th>3</th>\n",
       "      <td>Pension Loli</td>\n",
       "      <td>4.5</td>\n",
       "      <td>False</td>\n",
       "      <td>1</td>\n",
       "      <td>3.6</td>\n",
       "      <td>3.6</td>\n",
       "    </tr>\n",
       "  </tbody>\n",
       "</table>\n",
       "</div>"
      ],
      "text/plain": [
       "           name  precionoche  piscina  stars  preciodescuento  precio3\n",
       "0  Pension Pepe         20.0     True      3             16.0     16.0\n",
       "1    Wellington        300.0    False      5            240.0    240.0\n",
       "2     Velazquez        190.0     True      5            152.0    152.0\n",
       "3  Pension Loli          4.5    False      1              3.6      3.6"
      ]
     },
     "execution_count": 81,
     "metadata": {},
     "output_type": "execute_result"
    }
   ],
   "source": [
    "df"
   ]
  },
  {
   "cell_type": "code",
   "execution_count": 87,
   "metadata": {},
   "outputs": [],
   "source": [
    "colsnew = [col for col in df.columns  if col != \"preciodescuento\"]\n",
    "df = df[colsnew]"
   ]
  },
  {
   "cell_type": "code",
   "execution_count": 88,
   "metadata": {},
   "outputs": [
    {
     "data": {
      "text/html": [
       "<div>\n",
       "<style scoped>\n",
       "    .dataframe tbody tr th:only-of-type {\n",
       "        vertical-align: middle;\n",
       "    }\n",
       "\n",
       "    .dataframe tbody tr th {\n",
       "        vertical-align: top;\n",
       "    }\n",
       "\n",
       "    .dataframe thead th {\n",
       "        text-align: right;\n",
       "    }\n",
       "</style>\n",
       "<table border=\"1\" class=\"dataframe\">\n",
       "  <thead>\n",
       "    <tr style=\"text-align: right;\">\n",
       "      <th></th>\n",
       "      <th>name</th>\n",
       "      <th>precionoche</th>\n",
       "      <th>piscina</th>\n",
       "      <th>stars</th>\n",
       "      <th>precio3</th>\n",
       "    </tr>\n",
       "  </thead>\n",
       "  <tbody>\n",
       "    <tr>\n",
       "      <th>0</th>\n",
       "      <td>Pension Pepe</td>\n",
       "      <td>20.0</td>\n",
       "      <td>True</td>\n",
       "      <td>3</td>\n",
       "      <td>16.0</td>\n",
       "    </tr>\n",
       "    <tr>\n",
       "      <th>1</th>\n",
       "      <td>Wellington</td>\n",
       "      <td>300.0</td>\n",
       "      <td>False</td>\n",
       "      <td>5</td>\n",
       "      <td>240.0</td>\n",
       "    </tr>\n",
       "    <tr>\n",
       "      <th>2</th>\n",
       "      <td>Velazquez</td>\n",
       "      <td>190.0</td>\n",
       "      <td>True</td>\n",
       "      <td>5</td>\n",
       "      <td>152.0</td>\n",
       "    </tr>\n",
       "    <tr>\n",
       "      <th>3</th>\n",
       "      <td>Pension Loli</td>\n",
       "      <td>4.5</td>\n",
       "      <td>False</td>\n",
       "      <td>1</td>\n",
       "      <td>3.6</td>\n",
       "    </tr>\n",
       "  </tbody>\n",
       "</table>\n",
       "</div>"
      ],
      "text/plain": [
       "           name  precionoche  piscina  stars  precio3\n",
       "0  Pension Pepe         20.0     True      3     16.0\n",
       "1    Wellington        300.0    False      5    240.0\n",
       "2     Velazquez        190.0     True      5    152.0\n",
       "3  Pension Loli          4.5    False      1      3.6"
      ]
     },
     "execution_count": 88,
     "metadata": {},
     "output_type": "execute_result"
    }
   ],
   "source": [
    "df"
   ]
  },
  {
   "cell_type": "code",
   "execution_count": null,
   "metadata": {},
   "outputs": [],
   "source": []
  }
 ],
 "metadata": {
  "kernelspec": {
   "display_name": "Python 3",
   "language": "python",
   "name": "python3"
  },
  "language_info": {
   "codemirror_mode": {
    "name": "ipython",
    "version": 3
   },
   "file_extension": ".py",
   "mimetype": "text/x-python",
   "name": "python",
   "nbconvert_exporter": "python",
   "pygments_lexer": "ipython3",
   "version": "3.7.3"
  }
 },
 "nbformat": 4,
 "nbformat_minor": 2
}
