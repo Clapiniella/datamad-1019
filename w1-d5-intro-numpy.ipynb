{
 "cells": [
  {
   "cell_type": "code",
   "execution_count": 59,
   "metadata": {},
   "outputs": [],
   "source": [
    "import numpy as np"
   ]
  },
  {
   "cell_type": "code",
   "execution_count": 60,
   "metadata": {},
   "outputs": [
    {
     "data": {
      "text/plain": [
       "52"
      ]
     },
     "execution_count": 60,
     "metadata": {},
     "output_type": "execute_result"
    }
   ],
   "source": [
    "def randomNumber(start=0, stop=100):\n",
    "    return int(np.random.random()*(stop-start) + start)\n",
    "\n",
    "randomNumber(50,100)"
   ]
  },
  {
   "cell_type": "code",
   "execution_count": 61,
   "metadata": {},
   "outputs": [
    {
     "name": "stdout",
     "output_type": "stream",
     "text": [
      "[0.17870615 0.01439678 0.49109126 0.2227021  0.60451676]\n",
      "<class 'numpy.ndarray'>\n",
      "[1, 2, 3, 4, 5]\n",
      "<class 'list'>\n",
      "0.17870614637351634\n",
      "0.014396783866239327\n",
      "0.4910912567224056\n",
      "0.22270209984605738\n",
      "0.604516761472475\n"
     ]
    }
   ],
   "source": [
    "a = np.random.random(5)\n",
    "b = [1,2,3,4,5]\n",
    "print(a)\n",
    "print(type(a))\n",
    "print(b)\n",
    "print(type(b))\n",
    "\n",
    "for e in a:\n",
    "    print(e)\n"
   ]
  },
  {
   "cell_type": "code",
   "execution_count": 62,
   "metadata": {},
   "outputs": [
    {
     "name": "stdout",
     "output_type": "stream",
     "text": [
      "[[0.01672208 0.80697015 0.28906303]\n",
      " [0.60153376 0.62885791 0.77059259]\n",
      " [0.90382825 0.84650975 0.83142431]]\n",
      "Dimensions:2 Shape:(3, 3)\n"
     ]
    }
   ],
   "source": [
    "a = np.random.random((3,3))\n",
    "print(a)\n",
    "print(\"Dimensions:{} Shape:{}\".format(len(a.shape),a.shape))"
   ]
  },
  {
   "cell_type": "code",
   "execution_count": 63,
   "metadata": {},
   "outputs": [
    {
     "name": "stdout",
     "output_type": "stream",
     "text": [
      "[[0.48925278 0.5609386  0.54289138]\n",
      " [0.47686445 0.30824968 0.26546189]\n",
      " [0.1527062  0.08612484 0.89395197]]\n",
      "float64\n"
     ]
    }
   ],
   "source": [
    "a = np.random.random((3,3))\n",
    "print(a)\n",
    "print(a.dtype)"
   ]
  },
  {
   "cell_type": "code",
   "execution_count": 65,
   "metadata": {},
   "outputs": [
    {
     "data": {
      "text/plain": [
       "array([[1., 0., 0., 0., 0.],\n",
       "       [0., 1., 0., 0., 0.],\n",
       "       [0., 0., 1., 0., 0.],\n",
       "       [0., 0., 0., 1., 0.],\n",
       "       [0., 0., 0., 0., 1.]])"
      ]
     },
     "execution_count": 65,
     "metadata": {},
     "output_type": "execute_result"
    }
   ],
   "source": [
    "np.eye(5)"
   ]
  },
  {
   "cell_type": "code",
   "execution_count": 67,
   "metadata": {},
   "outputs": [
    {
     "data": {
      "text/plain": [
       "array([[1., 1., 1., 1., 1.],\n",
       "       [1., 1., 1., 1., 1.],\n",
       "       [1., 1., 1., 1., 1.],\n",
       "       [1., 1., 1., 1., 1.],\n",
       "       [1., 1., 1., 1., 1.]])"
      ]
     },
     "execution_count": 67,
     "metadata": {},
     "output_type": "execute_result"
    }
   ],
   "source": [
    "np.ones((5,5))"
   ]
  },
  {
   "cell_type": "code",
   "execution_count": 68,
   "metadata": {},
   "outputs": [
    {
     "data": {
      "text/plain": [
       "array([[0., 0., 0., 0., 0.],\n",
       "       [0., 0., 0., 0., 0.],\n",
       "       [0., 0., 0., 0., 0.],\n",
       "       [0., 0., 0., 0., 0.],\n",
       "       [0., 0., 0., 0., 0.]])"
      ]
     },
     "execution_count": 68,
     "metadata": {},
     "output_type": "execute_result"
    }
   ],
   "source": [
    "np.zeros((5,5))"
   ]
  },
  {
   "cell_type": "code",
   "execution_count": 78,
   "metadata": {},
   "outputs": [
    {
     "data": {
      "text/plain": [
       "array([[100.,   0.,   0.,   0.,   0.],\n",
       "       [  0., 100.,   0.,   0.,   0.],\n",
       "       [  0.,   0., 100.,   0.,   0.],\n",
       "       [  0.,   0.,   0., 100.,   0.],\n",
       "       [  0.,   0.,   0.,   0., 100.]])"
      ]
     },
     "execution_count": 78,
     "metadata": {},
     "output_type": "execute_result"
    }
   ],
   "source": [
    "(np.ones((5,5)) * 100) * np.eye(5)"
   ]
  },
  {
   "cell_type": "code",
   "execution_count": 80,
   "metadata": {},
   "outputs": [
    {
     "data": {
      "text/plain": [
       "array([[1., 1., 1., 1., 1.],\n",
       "       [1., 1., 1., 1., 1.],\n",
       "       [1., 1., 1., 1., 1.]])"
      ]
     },
     "execution_count": 80,
     "metadata": {},
     "output_type": "execute_result"
    }
   ],
   "source": [
    "a = np.ones((5,3))\n",
    "a.T"
   ]
  },
  {
   "cell_type": "code",
   "execution_count": 84,
   "metadata": {},
   "outputs": [
    {
     "name": "stdout",
     "output_type": "stream",
     "text": [
      "[[1. 0. 0. 0. 0.]\n",
      " [0. 1. 0. 0. 0.]\n",
      " [0. 0. 1. 0. 0.]\n",
      " [0. 0. 0. 1. 0.]\n",
      " [0. 0. 0. 0. 1.]]\n",
      "25\n"
     ]
    }
   ],
   "source": [
    "a = np.eye(5).T\n",
    "print(a)\n",
    "print(a.size)"
   ]
  },
  {
   "cell_type": "code",
   "execution_count": 91,
   "metadata": {},
   "outputs": [
    {
     "name": "stdout",
     "output_type": "stream",
     "text": [
      "<class 'list'> <class 'numpy.ndarray'>\n",
      "[[1, 2, 3, 4, 5, 6, 7, 8, 8]] [[1 2 3 4 5 6 7 8 8]]\n",
      "[[1]\n",
      " [2]\n",
      " [3]\n",
      " [4]\n",
      " [5]\n",
      " [6]\n",
      " [7]\n",
      " [8]\n",
      " [8]]\n"
     ]
    }
   ],
   "source": [
    "a = [[1,2,3,4,5,6,7,8,8]]\n",
    "b = np.asarray(a)\n",
    "print(type(a),type(b))\n",
    "print(a,b)\n",
    "print(b.T)"
   ]
  },
  {
   "cell_type": "code",
   "execution_count": 99,
   "metadata": {},
   "outputs": [
    {
     "data": {
      "text/plain": [
       "array([[[1, 5],\n",
       "        [3, 7]],\n",
       "\n",
       "       [[2, 6],\n",
       "        [4, 8]]])"
      ]
     },
     "execution_count": 99,
     "metadata": {},
     "output_type": "execute_result"
    }
   ],
   "source": [
    "c = np.asarray([1,2,3,4,5,6,7,8])\n",
    "np.reshape(c,(2,2,2))"
   ]
  },
  {
   "cell_type": "code",
   "execution_count": 109,
   "metadata": {},
   "outputs": [
    {
     "name": "stdout",
     "output_type": "stream",
     "text": [
      "[0 1 2 3 4] int64\n"
     ]
    }
   ],
   "source": [
    "c = np.asarray(range(5))\n",
    "c.dtype\n",
    "print(c,c.dtype)"
   ]
  },
  {
   "cell_type": "code",
   "execution_count": 110,
   "metadata": {},
   "outputs": [
    {
     "name": "stdout",
     "output_type": "stream",
     "text": [
      "[0. 1. 2. 3. 4.] float64\n"
     ]
    }
   ],
   "source": [
    "c = np.asarray(range(5), dtype='float64')\n",
    "c.dtype\n",
    "print(c,c.dtype)"
   ]
  },
  {
   "cell_type": "code",
   "execution_count": 132,
   "metadata": {},
   "outputs": [
    {
     "name": "stdout",
     "output_type": "stream",
     "text": [
      "[[0.43275854 0.10804474 0.76285691 0.1149011  0.92557273]\n",
      " [0.20170292 0.74178671 0.9093628  0.37878944 0.07057383]\n",
      " [0.54524711 0.1074913  0.72152285 0.14296884 0.56127465]\n",
      " [0.33911671 0.60347834 0.15405679 0.95591904 0.18284611]\n",
      " [0.9963191  0.86676217 0.91838008 0.81834131 0.48626429]]\n"
     ]
    },
    {
     "data": {
      "text/plain": [
       "array([[0.43275854, 0.10804474],\n",
       "       [0.20170292, 0.74178671]])"
      ]
     },
     "execution_count": 132,
     "metadata": {},
     "output_type": "execute_result"
    }
   ],
   "source": [
    "c = np.random.random((5,5))\n",
    "print(c)\n",
    "\n",
    "# same\n",
    "#c[0][0]\n",
    "#c[0,0]\n",
    "\n",
    "# same\n",
    "#c[0]\n",
    "#c[0,:]\n",
    "\n",
    "# slicing\n",
    "#c[1:-1,1:-1]\n",
    "c[0:2,0:2]"
   ]
  },
  {
   "cell_type": "code",
   "execution_count": 138,
   "metadata": {},
   "outputs": [
    {
     "name": "stdout",
     "output_type": "stream",
     "text": [
      "[[1. 1. 1. 1. 1.]\n",
      " [1. 1. 1. 1. 1.]\n",
      " [1. 1. 1. 1. 1.]]\n"
     ]
    },
    {
     "data": {
      "text/plain": [
       "array([3., 3., 3., 3., 3.])"
      ]
     },
     "execution_count": 138,
     "metadata": {},
     "output_type": "execute_result"
    }
   ],
   "source": [
    "c = np.ones((5,3)).T\n",
    "print(c)\n",
    "#np.sum(c)\n",
    "np.sum(c,axis=0)"
   ]
  },
  {
   "cell_type": "code",
   "execution_count": 142,
   "metadata": {},
   "outputs": [
    {
     "name": "stdout",
     "output_type": "stream",
     "text": [
      "[[[0.98622604 0.5460116  0.54285699]\n",
      "  [0.18253128 0.35141826 0.03520049]\n",
      "  [0.08165841 0.0237793  0.55890022]]\n",
      "\n",
      " [[0.50214395 0.16107948 0.39575185]\n",
      "  [0.39311661 0.3553764  0.12072209]\n",
      "  [0.09772078 0.92310778 0.88803524]]\n",
      "\n",
      " [[0.48416096 0.13395478 0.52636871]\n",
      "  [0.00165867 0.61735486 0.03423583]\n",
      "  [0.69079043 0.42692296 0.89176074]]]\n",
      "[[1.97253095 0.84104585 1.46497756]\n",
      " [0.57730656 1.32414952 0.19015841]\n",
      " [0.87016961 1.37381004 2.3386962 ]]\n"
     ]
    },
    {
     "data": {
      "text/plain": [
       "array([4.27855435, 2.09161449, 4.58267585])"
      ]
     },
     "execution_count": 142,
     "metadata": {},
     "output_type": "execute_result"
    }
   ],
   "source": [
    "a = np.random.random((3,3,3))\n",
    "print(a)\n",
    "c = np.sum(a,axis=0)\n",
    "print(c)\n",
    "np.sum(c,axis=1)"
   ]
  },
  {
   "cell_type": "code",
   "execution_count": 150,
   "metadata": {},
   "outputs": [
    {
     "name": "stdout",
     "output_type": "stream",
     "text": [
      "27\n"
     ]
    },
    {
     "data": {
      "text/plain": [
       "array([0.08409478, 0.64449428, 0.32711821, 0.85064104, 0.73877535,\n",
       "       0.28505798, 0.65671296, 0.72390723, 0.04301731, 0.54261218,\n",
       "       0.72593597, 0.02011736, 0.21891344, 0.08937921, 0.47399243,\n",
       "       0.76173493, 0.01839946, 0.89415416, 0.97458821, 0.57464758,\n",
       "       0.8264994 , 0.10375223, 0.92842117, 0.85836248, 0.87388318,\n",
       "       0.97113353, 0.95907318])"
      ]
     },
     "execution_count": 150,
     "metadata": {},
     "output_type": "execute_result"
    }
   ],
   "source": [
    "a = np.random.random((3,3,3))\n",
    "print(a.size)\n",
    "# np.hstack(np.hstack(a))\n",
    "a.reshape(a.size)"
   ]
  },
  {
   "cell_type": "code",
   "execution_count": 169,
   "metadata": {},
   "outputs": [
    {
     "name": "stdout",
     "output_type": "stream",
     "text": [
      "[[0.14642938 0.89262862 0.76915216 0.74199982]\n",
      " [0.68737641 0.67657905 0.86562075 0.12743942]\n",
      " [0.03076997 0.45672648 0.43498284 0.55690397]]\n",
      "[[0.68737641 0.67657905 0.86562075 0.12743942]\n",
      " [0.03076997 0.45672648 0.43498284 0.55690397]]\n"
     ]
    },
    {
     "data": {
      "text/plain": [
       "array([0.32657199, 0.0866823 , 0.19587405])"
      ]
     },
     "execution_count": 169,
     "metadata": {},
     "output_type": "execute_result"
    }
   ],
   "source": [
    "a = np.random.random((3,4))\n",
    "print(a)\n",
    "print(a[1:3,:])\n",
    "#np.mean(a[:,0:3], axis=1)\n",
    "np.std(a[:,0:3], axis=1)\n"
   ]
  },
  {
   "cell_type": "code",
   "execution_count": 198,
   "metadata": {},
   "outputs": [
    {
     "name": "stdout",
     "output_type": "stream",
     "text": [
      "[0 1 2 3 4] (5,)\n",
      "[[0]\n",
      " [1]\n",
      " [2]\n",
      " [3]\n",
      " [4]] (5, 1)\n",
      "[[4]\n",
      " [3]\n",
      " [2]\n",
      " [1]\n",
      " [0]]\n",
      "[[0 4 0 4 0]\n",
      " [1 3 1 3 1]\n",
      " [2 2 2 2 2]\n",
      " [3 1 3 1 3]\n",
      " [4 0 4 0 4]]\n"
     ]
    },
    {
     "data": {
      "text/plain": [
       "array([1.6, 1.8, 2. , 2.2, 2.4])"
      ]
     },
     "execution_count": 198,
     "metadata": {},
     "output_type": "execute_result"
    }
   ],
   "source": [
    "x = np.arange(5)\n",
    "print(x, x.shape)\n",
    "x = np.expand_dims(x, axis=0).T\n",
    "print(x, x.shape)\n",
    "y = np.flip(x,axis=0)\n",
    "print(y)\n",
    "lst = [x,y,x,y,x]\n",
    "d = np.concatenate(lst, axis=1)\n",
    "print(d)\n",
    "np.mean(d,axis=1)"
   ]
  },
  {
   "cell_type": "code",
   "execution_count": null,
   "metadata": {},
   "outputs": [],
   "source": []
  }
 ],
 "metadata": {
  "kernelspec": {
   "display_name": "Python 3",
   "language": "python",
   "name": "python3"
  },
  "language_info": {
   "codemirror_mode": {
    "name": "ipython",
    "version": 3
   },
   "file_extension": ".py",
   "mimetype": "text/x-python",
   "name": "python",
   "nbconvert_exporter": "python",
   "pygments_lexer": "ipython3",
   "version": "3.7.3"
  }
 },
 "nbformat": 4,
 "nbformat_minor": 2
}
