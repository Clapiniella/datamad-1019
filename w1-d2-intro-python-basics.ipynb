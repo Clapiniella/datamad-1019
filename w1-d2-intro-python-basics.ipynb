{
 "cells": [
  {
   "cell_type": "code",
   "execution_count": 41,
   "metadata": {},
   "outputs": [
    {
     "name": "stdout",
     "output_type": "stream",
     "text": [
      "Hola que talBien\n"
     ]
    }
   ],
   "source": [
    "a = \"Hola que tal\"\n",
    "b = \"Bien\"\n",
    "c = a + b\n",
    "print(c)"
   ]
  },
  {
   "cell_type": "code",
   "execution_count": 42,
   "metadata": {},
   "outputs": [
    {
     "name": "stdout",
     "output_type": "stream",
     "text": [
      "<class 'str'>\n",
      "<class 'int'>\n",
      "<class 'float'>\n",
      "<class 'list'>\n",
      "<class 'bool'>\n",
      "<class 'dict'>\n",
      "<class 'set'>\n",
      "<class 'tuple'>\n",
      "<class 'NoneType'>\n"
     ]
    }
   ],
   "source": [
    "c = \"Hola\"\n",
    "print(type(c))\n",
    "c = 1\n",
    "print(type(c))\n",
    "c = 1.5\n",
    "print(type(c))\n",
    "c = [\"Hola\"]\n",
    "print(type(c))\n",
    "c = True\n",
    "print(type(c))\n",
    "c = dict()\n",
    "print(type(c))\n",
    "c = set()\n",
    "print(type(c))\n",
    "c = (3,)\n",
    "print(type(c))\n",
    "c = None\n",
    "print(type(c))"
   ]
  },
  {
   "cell_type": "code",
   "execution_count": 43,
   "metadata": {},
   "outputs": [
    {
     "data": {
      "text/plain": [
       "[255, 'a', 255]"
      ]
     },
     "execution_count": 43,
     "metadata": {},
     "output_type": "execute_result"
    }
   ],
   "source": [
    "a = [255,'a',255]\n",
    "\n",
    "a"
   ]
  },
  {
   "cell_type": "code",
   "execution_count": 44,
   "metadata": {},
   "outputs": [
    {
     "name": "stdout",
     "output_type": "stream",
     "text": [
      "1\n",
      "2\n",
      "4\n",
      "Hola\n",
      "😎\n",
      "🔥\n"
     ]
    }
   ],
   "source": [
    "z = [1,2,4,\"Hola\",\"😎\", \"🔥\"]\n",
    "for i in range(len(z)):\n",
    "    print(z[i])"
   ]
  },
  {
   "cell_type": "code",
   "execution_count": 45,
   "metadata": {},
   "outputs": [
    {
     "name": "stdout",
     "output_type": "stream",
     "text": [
      "1\n",
      "hola\n",
      "2\n",
      "hola\n",
      "4\n",
      "hola\n",
      "Hola\n",
      "hola\n",
      "😎\n",
      "hola\n",
      "🔥\n",
      "hola\n",
      "-> 🔥\n",
      "-> 🔥\n"
     ]
    }
   ],
   "source": [
    "z = [1,2,4,\"Hola\",\"😎\", \"🔥\"]\n",
    "for e in z:\n",
    "    print(e)\n",
    "    print(\"hola\")\n",
    "print(\"-> \"+ e)\n",
    "print(\"-> \"+ e)"
   ]
  },
  {
   "cell_type": "code",
   "execution_count": 46,
   "metadata": {},
   "outputs": [
    {
     "data": {
      "text/plain": [
       "[0, 1, 2, 3, 4]"
      ]
     },
     "execution_count": 46,
     "metadata": {},
     "output_type": "execute_result"
    }
   ],
   "source": [
    "list(range(5))"
   ]
  },
  {
   "cell_type": "code",
   "execution_count": 47,
   "metadata": {},
   "outputs": [
    {
     "name": "stdout",
     "output_type": "stream",
     "text": [
      "Garfield 😺1\n",
      "Misifu 😺2\n",
      "Con botas 😺3\n",
      "Tom 😺4\n",
      "Silvestre 😺5\n"
     ]
    }
   ],
   "source": [
    "a = [\"Garfield\",\"Misifu\",\"Con botas\",\"Tom\", \"Silvestre\"]\n",
    "b = [\"😺1\",\"😺2\",\"😺3\",\"😺4\",\"😺5\"]\n",
    "\n",
    "for i in range(len(a)):\n",
    "    print(a[i], b[i])\n",
    "\n"
   ]
  },
  {
   "cell_type": "code",
   "execution_count": 48,
   "metadata": {},
   "outputs": [
    {
     "data": {
      "text/plain": [
       "[('Garfield', '😺1'),\n",
       " ('Misifu', '😺2'),\n",
       " ('Con botas', '😺3'),\n",
       " ('Tom', '😺4'),\n",
       " ('Silvestre', '😺5')]"
      ]
     },
     "execution_count": 48,
     "metadata": {},
     "output_type": "execute_result"
    }
   ],
   "source": [
    "list(zip(a,b))"
   ]
  },
  {
   "cell_type": "code",
   "execution_count": 49,
   "metadata": {},
   "outputs": [
    {
     "name": "stdout",
     "output_type": "stream",
     "text": [
      "(1, 2, 3)\n"
     ]
    },
    {
     "ename": "AttributeError",
     "evalue": "'tuple' object has no attribute 'append'",
     "output_type": "error",
     "traceback": [
      "\u001b[0;31m---------------------------------------------------------------------------\u001b[0m",
      "\u001b[0;31mAttributeError\u001b[0m                            Traceback (most recent call last)",
      "\u001b[0;32m<ipython-input-49-5037fc34d5f6>\u001b[0m in \u001b[0;36m<module>\u001b[0;34m\u001b[0m\n\u001b[1;32m      1\u001b[0m \u001b[0mx\u001b[0m \u001b[0;34m=\u001b[0m \u001b[0;34m(\u001b[0m\u001b[0;36m1\u001b[0m\u001b[0;34m,\u001b[0m\u001b[0;36m2\u001b[0m\u001b[0;34m,\u001b[0m\u001b[0;36m3\u001b[0m\u001b[0;34m)\u001b[0m\u001b[0;34m\u001b[0m\u001b[0;34m\u001b[0m\u001b[0m\n\u001b[1;32m      2\u001b[0m \u001b[0mprint\u001b[0m\u001b[0;34m(\u001b[0m\u001b[0mx\u001b[0m\u001b[0;34m)\u001b[0m\u001b[0;34m\u001b[0m\u001b[0;34m\u001b[0m\u001b[0m\n\u001b[0;32m----> 3\u001b[0;31m \u001b[0mx\u001b[0m\u001b[0;34m.\u001b[0m\u001b[0mappend\u001b[0m\u001b[0;34m(\u001b[0m\u001b[0;36m5\u001b[0m\u001b[0;34m)\u001b[0m\u001b[0;34m\u001b[0m\u001b[0;34m\u001b[0m\u001b[0m\n\u001b[0m\u001b[1;32m      4\u001b[0m \u001b[0mprint\u001b[0m\u001b[0;34m(\u001b[0m\u001b[0mx\u001b[0m\u001b[0;34m)\u001b[0m\u001b[0;34m\u001b[0m\u001b[0;34m\u001b[0m\u001b[0m\n",
      "\u001b[0;31mAttributeError\u001b[0m: 'tuple' object has no attribute 'append'"
     ]
    }
   ],
   "source": [
    "x = (1,2,3) \n",
    "print(x)\n",
    "x.append(5)\n",
    "print(x)"
   ]
  },
  {
   "cell_type": "code",
   "execution_count": 50,
   "metadata": {},
   "outputs": [
    {
     "name": "stdout",
     "output_type": "stream",
     "text": [
      "[('Garfield', '😺1'), ('Misifu', '😺2'), ('Con botas', '😺3'), ('Tom', '😺4'), ('Silvestre', '😺5')]\n"
     ]
    },
    {
     "data": {
      "text/plain": [
       "'😺1'"
      ]
     },
     "execution_count": 50,
     "metadata": {},
     "output_type": "execute_result"
    }
   ],
   "source": [
    "c = list(zip(a,b))\n",
    "print(c)\n",
    "c[0][1]"
   ]
  },
  {
   "cell_type": "code",
   "execution_count": 51,
   "metadata": {},
   "outputs": [
    {
     "name": "stdout",
     "output_type": "stream",
     "text": [
      "Garfield 😺1\n",
      "Misifu 😺2\n",
      "Con botas 😺3\n",
      "Tom 😺4\n",
      "Silvestre 😺5\n"
     ]
    }
   ],
   "source": [
    "a = [\"Garfield\",\"Misifu\",\"Con botas\",\"Tom\", \"Silvestre\",\"🔥\"]\n",
    "b = (\"😺1\",\"😺2\",\"😺3\",\"😺4\",\"😺5\")\n",
    "\n",
    "q = zip(a,b)\n",
    "for x,y in q:\n",
    "    print(x,y)\n"
   ]
  },
  {
   "cell_type": "code",
   "execution_count": 52,
   "metadata": {},
   "outputs": [
    {
     "name": "stdout",
     "output_type": "stream",
     "text": [
      "0\n",
      "1\n",
      "2\n",
      "3\n",
      "4\n",
      "[['Garfield', '😺1'], ['Misifu', '😺2'], ['Con botas', '😺3'], ['Tom', '😺4'], ['Silvestre', '😺5']]\n"
     ]
    }
   ],
   "source": [
    "a = [\"Garfield\",\"Misifu\",\"Con botas\",\"Tom\", \"Silvestre\",\"🔥\"]\n",
    "b = [\"😺1\",\"😺2\",\"😺3\",\"😺4\",\"😺5\"]\n",
    "    \n",
    "c = []\n",
    "for i in range(min(len(a),len(b))):\n",
    "    print(i)\n",
    "    c.append([a[i],b[i]])\n",
    "\n",
    "print(c)\n",
    "    \n",
    "     "
   ]
  },
  {
   "cell_type": "code",
   "execution_count": 53,
   "metadata": {},
   "outputs": [
    {
     "data": {
      "text/plain": [
       "['😺3', '😺4']"
      ]
     },
     "execution_count": 53,
     "metadata": {},
     "output_type": "execute_result"
    }
   ],
   "source": [
    "b = [\"😺1\",\"😺2\",\"😺3\",\"😺4\",\"😺5\"]\n",
    "b[2:4]"
   ]
  },
  {
   "cell_type": "code",
   "execution_count": 54,
   "metadata": {},
   "outputs": [
    {
     "name": "stdout",
     "output_type": "stream",
     "text": [
      "['H', 'o', 'l', 'a', ' ', 'q', 'u', 'e', ' ', 't', 'a', 'l']\n"
     ]
    }
   ],
   "source": [
    "x = list(\"Hola que tal\")\n",
    "print(x)"
   ]
  },
  {
   "cell_type": "code",
   "execution_count": 55,
   "metadata": {},
   "outputs": [
    {
     "name": "stdout",
     "output_type": "stream",
     "text": [
      "Hola ->  H\n",
      "Hola ->  o\n",
      "Hola ->  l\n",
      "Hola ->  a\n"
     ]
    }
   ],
   "source": [
    "for l in \"Hola\":\n",
    "    print(\"Hola -> \",l)"
   ]
  },
  {
   "cell_type": "code",
   "execution_count": 56,
   "metadata": {},
   "outputs": [
    {
     "name": "stdout",
     "output_type": "stream",
     "text": [
      "a\n"
     ]
    }
   ],
   "source": [
    "a = \"Hola\"\n",
    "print(a[3])"
   ]
  },
  {
   "cell_type": "code",
   "execution_count": 57,
   "metadata": {},
   "outputs": [
    {
     "data": {
      "text/plain": [
       "4"
      ]
     },
     "execution_count": 57,
     "metadata": {},
     "output_type": "execute_result"
    }
   ],
   "source": [
    "len(a)"
   ]
  },
  {
   "cell_type": "code",
   "execution_count": 58,
   "metadata": {},
   "outputs": [
    {
     "name": "stdout",
     "output_type": "stream",
     "text": [
      "HolaAdios\n"
     ]
    }
   ],
   "source": [
    "a = \"Hola\"\n",
    "b = \"Adios\"\n",
    "\n",
    "c = a + b\n",
    "print(c)"
   ]
  },
  {
   "cell_type": "code",
   "execution_count": 59,
   "metadata": {},
   "outputs": [
    {
     "name": "stdout",
     "output_type": "stream",
     "text": [
      "[1, 2, 3, 4, 5, 6]\n"
     ]
    }
   ],
   "source": [
    "a = [1,2,3]\n",
    "b = [4,5,6]\n",
    "print(a+b)"
   ]
  },
  {
   "cell_type": "code",
   "execution_count": 60,
   "metadata": {},
   "outputs": [
    {
     "name": "stdout",
     "output_type": "stream",
     "text": [
      "[1, 2, 3, 1, 2, 3, 1, 2, 3]\n"
     ]
    }
   ],
   "source": [
    "a = [1,2,3]\n",
    "print(a*3)"
   ]
  },
  {
   "cell_type": "code",
   "execution_count": 61,
   "metadata": {},
   "outputs": [
    {
     "data": {
      "text/plain": [
       "'Hola5'"
      ]
     },
     "execution_count": 61,
     "metadata": {},
     "output_type": "execute_result"
    }
   ],
   "source": [
    "c = \"Hola\" + str(5)\n",
    "c"
   ]
  },
  {
   "cell_type": "code",
   "execution_count": 62,
   "metadata": {},
   "outputs": [
    {
     "name": "stdout",
     "output_type": "stream",
     "text": [
      "<class 'str'>\n",
      "<class 'int'>\n"
     ]
    }
   ],
   "source": [
    "c = \"55\"\n",
    "print(type(c))\n",
    "c = int(c)\n",
    "print(type(c))"
   ]
  },
  {
   "cell_type": "code",
   "execution_count": 63,
   "metadata": {},
   "outputs": [
    {
     "ename": "ValueError",
     "evalue": "could not convert string to float: 'Hola5.5'",
     "output_type": "error",
     "traceback": [
      "\u001b[0;31m---------------------------------------------------------------------------\u001b[0m",
      "\u001b[0;31mValueError\u001b[0m                                Traceback (most recent call last)",
      "\u001b[0;32m<ipython-input-63-c8c81e1cb011>\u001b[0m in \u001b[0;36m<module>\u001b[0;34m\u001b[0m\n\u001b[0;32m----> 1\u001b[0;31m \u001b[0mfloat\u001b[0m\u001b[0;34m(\u001b[0m\u001b[0;34m\"Hola5.5\"\u001b[0m\u001b[0;34m)\u001b[0m\u001b[0;34m\u001b[0m\u001b[0;34m\u001b[0m\u001b[0m\n\u001b[0m",
      "\u001b[0;31mValueError\u001b[0m: could not convert string to float: 'Hola5.5'"
     ]
    }
   ],
   "source": [
    "float(\"Hola5.5\")"
   ]
  },
  {
   "cell_type": "code",
   "execution_count": 64,
   "metadata": {},
   "outputs": [
    {
     "name": "stdout",
     "output_type": "stream",
     "text": [
      "Adios\n"
     ]
    }
   ],
   "source": [
    "a = 6\n",
    "\n",
    "if a <= 5:\n",
    "    print(\"hola\")\n",
    "else:\n",
    "    print(\"Adios\")"
   ]
  },
  {
   "cell_type": "code",
   "execution_count": 65,
   "metadata": {},
   "outputs": [
    {
     "name": "stdout",
     "output_type": "stream",
     "text": [
      "<class 'list'>\n",
      "🔥\n"
     ]
    }
   ],
   "source": [
    "a = [0]\n",
    "print(type(a))\n",
    "if a[0]:\n",
    "    print(\"✅\")\n",
    "else:\n",
    "    print(\"🔥\")"
   ]
  },
  {
   "cell_type": "code",
   "execution_count": 66,
   "metadata": {},
   "outputs": [
    {
     "name": "stdout",
     "output_type": "stream",
     "text": [
      "mas o menos diez\n",
      "mas o menos diez\n"
     ]
    }
   ],
   "source": [
    "c = 10\n",
    "\n",
    "if c < 5:\n",
    "    print(\"hola\")\n",
    "elif c <= 10:\n",
    "    print(\"mas o menos diez\")\n",
    "\n",
    "if c <= 10:\n",
    "    print(\"mas o menos diez\")\n",
    "else:\n",
    "    print(\"🔥\")"
   ]
  },
  {
   "cell_type": "code",
   "execution_count": 67,
   "metadata": {},
   "outputs": [
    {
     "name": "stdout",
     "output_type": "stream",
     "text": [
      "{1, 2, 3, 4, 5, 9}\n"
     ]
    }
   ],
   "source": [
    "# Sets - https://docs.python.org/3.8/library/stdtypes.html#set\n",
    "a = set([1,2,3,4,4,1,1,2,5,9])\n",
    "print(a)"
   ]
  },
  {
   "cell_type": "code",
   "execution_count": 68,
   "metadata": {},
   "outputs": [
    {
     "name": "stdout",
     "output_type": "stream",
     "text": [
      "letra-> c\n",
      "letra-> e\n",
      "letra-> a\n",
      "letra-> d\n",
      "letra-> b\n"
     ]
    }
   ],
   "source": [
    "set(\"Hola que tal como estás\")\n",
    "for e in set(\"abcdeeeee\"):\n",
    "    print(\"letra->\",e)"
   ]
  },
  {
   "cell_type": "code",
   "execution_count": 69,
   "metadata": {},
   "outputs": [
    {
     "name": "stdout",
     "output_type": "stream",
     "text": [
      "{1, 2, 3, 4, 5, 6}\n",
      "{1, 2, 3}\n",
      "{5, 6}\n",
      "{4}\n",
      "{1, 2, 3, 4}\n",
      "1\n",
      "2\n",
      "3\n",
      "4\n"
     ]
    }
   ],
   "source": [
    "a = set([1,2,3,4])\n",
    "b = set([4,5,6])\n",
    "\n",
    "print(a.union(b))\n",
    "print(a.difference(b))\n",
    "print(b.difference(a))\n",
    "print(a.intersection(b))\n",
    "\n",
    "print(a.union(a.difference(b)))\n",
    "\n",
    "c = a.union(a.difference(b))\n",
    "\n",
    "for e in c:\n",
    "    print(e)"
   ]
  },
  {
   "cell_type": "code",
   "execution_count": 70,
   "metadata": {},
   "outputs": [
    {
     "data": {
      "text/plain": [
       "'Pepe Garcia'"
      ]
     },
     "execution_count": 70,
     "metadata": {},
     "output_type": "execute_result"
    }
   ],
   "source": [
    "# Diccionarios\n",
    "\n",
    "alumno = {\n",
    "    \"nombre\": \"Pepe\",\n",
    "    \"apellido\": \"Garcia\",\n",
    "    \"notas\": [4,5,3,5,6,8,9]\n",
    "}\n",
    "\n",
    "alumno[\"nombre\"] + \" \" + alumno[\"apellido\"]"
   ]
  },
  {
   "cell_type": "code",
   "execution_count": 71,
   "metadata": {},
   "outputs": [
    {
     "ename": "KeyError",
     "evalue": "'nlaskdf'",
     "output_type": "error",
     "traceback": [
      "\u001b[0;31m---------------------------------------------------------------------------\u001b[0m",
      "\u001b[0;31mKeyError\u001b[0m                                  Traceback (most recent call last)",
      "\u001b[0;32m<ipython-input-71-e50ae6e0d93b>\u001b[0m in \u001b[0;36m<module>\u001b[0;34m\u001b[0m\n\u001b[0;32m----> 1\u001b[0;31m \u001b[0malumno\u001b[0m\u001b[0;34m[\u001b[0m\u001b[0;34m\"nlaskdf\"\u001b[0m\u001b[0;34m]\u001b[0m\u001b[0;34m\u001b[0m\u001b[0;34m\u001b[0m\u001b[0m\n\u001b[0m",
      "\u001b[0;31mKeyError\u001b[0m: 'nlaskdf'"
     ]
    }
   ],
   "source": [
    "alumno[\"nlaskdf\"]"
   ]
  },
  {
   "cell_type": "code",
   "execution_count": 72,
   "metadata": {},
   "outputs": [
    {
     "data": {
      "text/plain": [
       "'Pepe'"
      ]
     },
     "execution_count": 72,
     "metadata": {},
     "output_type": "execute_result"
    }
   ],
   "source": [
    "c = \"nombre\"\n",
    "alumno[c]"
   ]
  },
  {
   "cell_type": "code",
   "execution_count": 73,
   "metadata": {},
   "outputs": [
    {
     "name": "stdout",
     "output_type": "stream",
     "text": [
      "Pepe\n",
      "Garcia\n",
      "[4, 5, 3, 5, 6, 8, 9]\n",
      "{'nombre': 'Pepe', 'apellido': 'Garcia', 'notas': [4, 5, 3, 5, 6, 8, 9]}\n",
      "{'nombre': 'Pepe', 'apellido': 'Garcia', 'notas': [4, 5, 3, 5, 6, 8, 9], 'graduado': True}\n"
     ]
    }
   ],
   "source": [
    "alumno = {\n",
    "    \"nombre\": \"Pepe\",\n",
    "    \"apellido\": \"Garcia\",\n",
    "    \"notas\": [4,5,3,5,6,8,9]\n",
    "}\n",
    "\n",
    "for key in alumno:\n",
    "    print(alumno[key])\n",
    "\n",
    "print(alumno)\n",
    "alumno[\"graduado\"] = True\n",
    "print(alumno)"
   ]
  },
  {
   "cell_type": "code",
   "execution_count": 74,
   "metadata": {},
   "outputs": [
    {
     "data": {
      "text/plain": [
       "dict_items([('nombre', 'Pepe'), ('apellido', 'Garcia'), ('notas', [4, 5, 3, 5, 6, 8, 9]), ('graduado', True)])"
      ]
     },
     "execution_count": 74,
     "metadata": {},
     "output_type": "execute_result"
    }
   ],
   "source": [
    "alumno.keys()\n",
    "alumno.values()\n",
    "alumno.items()"
   ]
  },
  {
   "cell_type": "code",
   "execution_count": 75,
   "metadata": {},
   "outputs": [
    {
     "name": "stdout",
     "output_type": "stream",
     "text": [
      "Clave: nombre -valor: Pepe\n",
      "Clave: apellido -valor: Garcia\n",
      "Clave: notas -valor: [4, 5, 3, 5, 6, 8, 9]\n",
      "Clave: graduado -valor: True\n"
     ]
    }
   ],
   "source": [
    "#for key in alumno:\n",
    "#    value = alumno[key]\n",
    "#    print(\"Clave:\",key, \"-valor:\", value)\n",
    "\n",
    "\n",
    "for key, value in alumno.items():\n",
    "    print(\"Clave:\",key, \"-valor:\", value)"
   ]
  },
  {
   "cell_type": "code",
   "execution_count": 76,
   "metadata": {},
   "outputs": [
    {
     "data": {
      "text/plain": [
       "5.714285714285714"
      ]
     },
     "execution_count": 76,
     "metadata": {},
     "output_type": "execute_result"
    }
   ],
   "source": [
    "# Nota media\n",
    "sum(alumno[\"notas\"])/len(alumno[\"notas\"])"
   ]
  },
  {
   "cell_type": "code",
   "execution_count": 77,
   "metadata": {},
   "outputs": [
    {
     "name": "stdout",
     "output_type": "stream",
     "text": [
      "{'es_ta': 33, 'nombre': 'Noelia', 'proyectos': [{'nombre': 'Demo 1', 'nota': 10}, {'nombre': 'Demo 2', 'nota': 3}]}\n"
     ]
    }
   ],
   "source": [
    "noe = {\n",
    "    \"es_ta\": True,\n",
    "    \"es_ta\": 33,\n",
    "    \"nombre\":\"Noelia\",\n",
    "    \"proyectos\":[\n",
    "        {\n",
    "            \"nombre\":\"Demo 1\",\n",
    "            \"nota\": 10\n",
    "        },{\n",
    "            \"nombre\":\"Demo 2\",\n",
    "            \"nota\": 3\n",
    "        }\n",
    "    ]\n",
    "}\n",
    "\n",
    "noe[\"proyectos\"][0][\"nombre\"]\n",
    "print(noe)"
   ]
  },
  {
   "cell_type": "code",
   "execution_count": 78,
   "metadata": {},
   "outputs": [
    {
     "name": "stdout",
     "output_type": "stream",
     "text": [
      "{True: 'Hola', False: 'Adios'}\n"
     ]
    },
    {
     "data": {
      "text/plain": [
       "'Adios'"
      ]
     },
     "execution_count": 78,
     "metadata": {},
     "output_type": "execute_result"
    }
   ],
   "source": [
    "x = {\n",
    "    True:\"Hola\",\n",
    "    False:\"Adios\"\n",
    "}\n",
    "print(x)\n",
    "\n",
    "x[0]"
   ]
  },
  {
   "cell_type": "code",
   "execution_count": 79,
   "metadata": {},
   "outputs": [
    {
     "name": "stdout",
     "output_type": "stream",
     "text": [
      "La llave de garcía es ->  apellido\n"
     ]
    }
   ],
   "source": [
    "alumno = {\n",
    "    \"nombre\": \"Pepe\",\n",
    "    \"apellido\": \"Garcia\",\n",
    "    \"juan\":\"Garcia\"\n",
    "}\n",
    "\n",
    "for key in alumno:\n",
    "    if alumno[key] == \"Garcia\":\n",
    "        print(\"La llave de garcía es -> \",key)\n",
    "        break\n"
   ]
  },
  {
   "cell_type": "code",
   "execution_count": 80,
   "metadata": {},
   "outputs": [],
   "source": [
    "if \"hola\":\n",
    "    pass"
   ]
  },
  {
   "cell_type": "code",
   "execution_count": 81,
   "metadata": {},
   "outputs": [
    {
     "name": "stdout",
     "output_type": "stream",
     "text": [
      "1\n",
      "2\n",
      "3\n",
      "4\n",
      "5\n",
      "6\n",
      "7\n",
      "8\n",
      "9\n",
      "10\n"
     ]
    }
   ],
   "source": [
    "i = 0\n",
    "while i < 10:\n",
    "    i += 1\n",
    "    print(i)"
   ]
  },
  {
   "cell_type": "code",
   "execution_count": 82,
   "metadata": {},
   "outputs": [],
   "source": [
    "# 🚧 bucle infinito, no pasar\n",
    "# while True:\n",
    "#    print(\"Hola\")"
   ]
  },
  {
   "cell_type": "code",
   "execution_count": 83,
   "metadata": {},
   "outputs": [
    {
     "name": "stdout",
     "output_type": "stream",
     "text": [
      "Hola\n"
     ]
    }
   ],
   "source": [
    "print(\"Hola\")"
   ]
  },
  {
   "cell_type": "code",
   "execution_count": null,
   "metadata": {},
   "outputs": [],
   "source": []
  },
  {
   "cell_type": "code",
   "execution_count": null,
   "metadata": {},
   "outputs": [],
   "source": []
  }
 ],
 "metadata": {
  "kernelspec": {
   "display_name": "Python 3",
   "language": "python",
   "name": "python3"
  },
  "language_info": {
   "codemirror_mode": {
    "name": "ipython",
    "version": 3
   },
   "file_extension": ".py",
   "mimetype": "text/x-python",
   "name": "python",
   "nbconvert_exporter": "python",
   "pygments_lexer": "ipython3",
   "version": "3.7.3"
  }
 },
 "nbformat": 4,
 "nbformat_minor": 2
}
