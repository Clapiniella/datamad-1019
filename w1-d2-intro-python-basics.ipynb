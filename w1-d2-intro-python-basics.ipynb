{
 "cells": [
  {
   "cell_type": "code",
   "execution_count": 3,
   "metadata": {},
   "outputs": [
    {
     "name": "stdout",
     "output_type": "stream",
     "text": [
      "Hola que talBien\n"
     ]
    }
   ],
   "source": [
    "a = \"Hola que tal\"\n",
    "b = \"Bien\"\n",
    "c = a + b\n",
    "print(c)"
   ]
  },
  {
   "cell_type": "code",
   "execution_count": 11,
   "metadata": {},
   "outputs": [
    {
     "name": "stdout",
     "output_type": "stream",
     "text": [
      "<class 'str'>\n",
      "<class 'int'>\n",
      "<class 'float'>\n",
      "<class 'list'>\n",
      "<class 'bool'>\n",
      "<class 'dict'>\n",
      "<class 'set'>\n",
      "<class 'tuple'>\n",
      "<class 'NoneType'>\n"
     ]
    }
   ],
   "source": [
    "c = \"Hola\"\n",
    "print(type(c))\n",
    "c = 1\n",
    "print(type(c))\n",
    "c = 1.5\n",
    "print(type(c))\n",
    "c = [\"Hola\"]\n",
    "print(type(c))\n",
    "c = True\n",
    "print(type(c))\n",
    "c = dict()\n",
    "print(type(c))\n",
    "c = set()\n",
    "print(type(c))\n",
    "c = (3,)\n",
    "print(type(c))\n",
    "c = None\n",
    "print(type(c))"
   ]
  },
  {
   "cell_type": "code",
   "execution_count": 12,
   "metadata": {},
   "outputs": [
    {
     "data": {
      "text/plain": [
       "[255, 255, 255]"
      ]
     },
     "execution_count": 12,
     "metadata": {},
     "output_type": "execute_result"
    }
   ],
   "source": [
    "a = [255,'a',255]\n",
    "\n",
    "a"
   ]
  },
  {
   "cell_type": "code",
   "execution_count": 21,
   "metadata": {},
   "outputs": [
    {
     "name": "stdout",
     "output_type": "stream",
     "text": [
      "1\n",
      "2\n",
      "4\n",
      "Hola\n",
      "😎\n",
      "🔥\n"
     ]
    }
   ],
   "source": [
    "z = [1,2,4,\"Hola\",\"😎\", \"🔥\"]\n",
    "for i in range(len(z)):\n",
    "    print(z[i])"
   ]
  },
  {
   "cell_type": "code",
   "execution_count": 31,
   "metadata": {},
   "outputs": [
    {
     "name": "stdout",
     "output_type": "stream",
     "text": [
      "1\n",
      "hola\n",
      "2\n",
      "hola\n",
      "4\n",
      "hola\n",
      "Hola\n",
      "hola\n",
      "😎\n",
      "hola\n",
      "🔥\n",
      "hola\n",
      "-> 🔥\n",
      "-> 🔥\n"
     ]
    }
   ],
   "source": [
    "z = [1,2,4,\"Hola\",\"😎\", \"🔥\"]\n",
    "for e in z:\n",
    "    print(e)\n",
    "    print(\"hola\")\n",
    "print(\"-> \"+ e)\n",
    "print(\"-> \"+ e)"
   ]
  },
  {
   "cell_type": "code",
   "execution_count": 26,
   "metadata": {},
   "outputs": [
    {
     "data": {
      "text/plain": [
       "[0, 1, 2, 3, 4]"
      ]
     },
     "execution_count": 26,
     "metadata": {},
     "output_type": "execute_result"
    }
   ],
   "source": [
    "list(range(5))"
   ]
  },
  {
   "cell_type": "code",
   "execution_count": 40,
   "metadata": {},
   "outputs": [
    {
     "name": "stdout",
     "output_type": "stream",
     "text": [
      "Garfield 😺1\n",
      "Misifu 😺2\n",
      "Con botas 😺3\n",
      "Tom 😺4\n",
      "Silvestre 😺5\n"
     ]
    }
   ],
   "source": [
    "a = [\"Garfield\",\"Misifu\",\"Con botas\",\"Tom\", \"Silvestre\"]\n",
    "b = [\"😺1\",\"😺2\",\"😺3\",\"😺4\",\"😺5\"]\n",
    "\n",
    "for i in range(len(a)):\n",
    "    print(a[i], b[i])\n",
    "\n"
   ]
  },
  {
   "cell_type": "code",
   "execution_count": 41,
   "metadata": {},
   "outputs": [
    {
     "data": {
      "text/plain": [
       "[('Garfield', '😺1'),\n",
       " ('Misifu', '😺2'),\n",
       " ('Con botas', '😺3'),\n",
       " ('Tom', '😺4'),\n",
       " ('Silvestre', '😺5')]"
      ]
     },
     "execution_count": 41,
     "metadata": {},
     "output_type": "execute_result"
    }
   ],
   "source": [
    "list(zip(a,b))"
   ]
  },
  {
   "cell_type": "code",
   "execution_count": 42,
   "metadata": {},
   "outputs": [
    {
     "name": "stdout",
     "output_type": "stream",
     "text": [
      "(1, 2, 3)\n"
     ]
    },
    {
     "ename": "AttributeError",
     "evalue": "'tuple' object has no attribute 'append'",
     "output_type": "error",
     "traceback": [
      "\u001b[0;31m---------------------------------------------------------------------------\u001b[0m",
      "\u001b[0;31mAttributeError\u001b[0m                            Traceback (most recent call last)",
      "\u001b[0;32m<ipython-input-42-5037fc34d5f6>\u001b[0m in \u001b[0;36m<module>\u001b[0;34m\u001b[0m\n\u001b[1;32m      1\u001b[0m \u001b[0mx\u001b[0m \u001b[0;34m=\u001b[0m \u001b[0;34m(\u001b[0m\u001b[0;36m1\u001b[0m\u001b[0;34m,\u001b[0m\u001b[0;36m2\u001b[0m\u001b[0;34m,\u001b[0m\u001b[0;36m3\u001b[0m\u001b[0;34m)\u001b[0m\u001b[0;34m\u001b[0m\u001b[0;34m\u001b[0m\u001b[0m\n\u001b[1;32m      2\u001b[0m \u001b[0mprint\u001b[0m\u001b[0;34m(\u001b[0m\u001b[0mx\u001b[0m\u001b[0;34m)\u001b[0m\u001b[0;34m\u001b[0m\u001b[0;34m\u001b[0m\u001b[0m\n\u001b[0;32m----> 3\u001b[0;31m \u001b[0mx\u001b[0m\u001b[0;34m.\u001b[0m\u001b[0mappend\u001b[0m\u001b[0;34m(\u001b[0m\u001b[0;36m5\u001b[0m\u001b[0;34m)\u001b[0m\u001b[0;34m\u001b[0m\u001b[0;34m\u001b[0m\u001b[0m\n\u001b[0m\u001b[1;32m      4\u001b[0m \u001b[0mprint\u001b[0m\u001b[0;34m(\u001b[0m\u001b[0mx\u001b[0m\u001b[0;34m)\u001b[0m\u001b[0;34m\u001b[0m\u001b[0;34m\u001b[0m\u001b[0m\n",
      "\u001b[0;31mAttributeError\u001b[0m: 'tuple' object has no attribute 'append'"
     ]
    }
   ],
   "source": [
    "x = (1,2,3) \n",
    "print(x)\n",
    "x.append(5)\n",
    "print(x)"
   ]
  },
  {
   "cell_type": "code",
   "execution_count": 46,
   "metadata": {},
   "outputs": [
    {
     "name": "stdout",
     "output_type": "stream",
     "text": [
      "[('Garfield', '😺1'), ('Misifu', '😺2'), ('Con botas', '😺3'), ('Tom', '😺4'), ('Silvestre', '😺5')]\n"
     ]
    },
    {
     "data": {
      "text/plain": [
       "'😺1'"
      ]
     },
     "execution_count": 46,
     "metadata": {},
     "output_type": "execute_result"
    }
   ],
   "source": [
    "c = list(zip(a,b))\n",
    "print(c)\n",
    "c[0][1]"
   ]
  },
  {
   "cell_type": "code",
   "execution_count": 52,
   "metadata": {},
   "outputs": [
    {
     "name": "stdout",
     "output_type": "stream",
     "text": [
      "Garfield 😺1\n",
      "Misifu 😺2\n",
      "Con botas 😺3\n",
      "Tom 😺4\n",
      "Silvestre 😺5\n"
     ]
    }
   ],
   "source": [
    "a = [\"Garfield\",\"Misifu\",\"Con botas\",\"Tom\", \"Silvestre\",\"🔥\"]\n",
    "b = (\"😺1\",\"😺2\",\"😺3\",\"😺4\",\"😺5\")\n",
    "\n",
    "q = zip(a,b)\n",
    "for x,y in q:\n",
    "    print(x,y)\n"
   ]
  },
  {
   "cell_type": "code",
   "execution_count": 56,
   "metadata": {},
   "outputs": [
    {
     "name": "stdout",
     "output_type": "stream",
     "text": [
      "0\n",
      "1\n",
      "2\n",
      "3\n",
      "4\n",
      "[['Garfield', '😺1'], ['Misifu', '😺2'], ['Con botas', '😺3'], ['Tom', '😺4'], ['Silvestre', '😺5']]\n"
     ]
    }
   ],
   "source": [
    "a = [\"Garfield\",\"Misifu\",\"Con botas\",\"Tom\", \"Silvestre\",\"🔥\"]\n",
    "b = [\"😺1\",\"😺2\",\"😺3\",\"😺4\",\"😺5\"]\n",
    "    \n",
    "c = []\n",
    "for i in range(min(len(a),len(b))):\n",
    "    print(i)\n",
    "    c.append([a[i],b[i]])\n",
    "\n",
    "print(c)\n",
    "    \n",
    "     "
   ]
  },
  {
   "cell_type": "code",
   "execution_count": 62,
   "metadata": {},
   "outputs": [
    {
     "data": {
      "text/plain": [
       "['😺3', '😺4']"
      ]
     },
     "execution_count": 62,
     "metadata": {},
     "output_type": "execute_result"
    }
   ],
   "source": [
    "b = [\"😺1\",\"😺2\",\"😺3\",\"😺4\",\"😺5\"]\n",
    "b[2:4]"
   ]
  },
  {
   "cell_type": "code",
   "execution_count": 64,
   "metadata": {},
   "outputs": [
    {
     "name": "stdout",
     "output_type": "stream",
     "text": [
      "['H', 'o', 'l', 'a', ' ', 'q', 'u', 'e', ' ', 't', 'a', 'l']\n"
     ]
    }
   ],
   "source": [
    "x = list(\"Hola que tal\")\n",
    "print(x)"
   ]
  },
  {
   "cell_type": "code",
   "execution_count": 65,
   "metadata": {},
   "outputs": [
    {
     "name": "stdout",
     "output_type": "stream",
     "text": [
      "Hola ->  H\n",
      "Hola ->  o\n",
      "Hola ->  l\n",
      "Hola ->  a\n"
     ]
    }
   ],
   "source": [
    "for l in \"Hola\":\n",
    "    print(\"Hola -> \",l)"
   ]
  },
  {
   "cell_type": "code",
   "execution_count": 66,
   "metadata": {},
   "outputs": [
    {
     "name": "stdout",
     "output_type": "stream",
     "text": [
      "a\n"
     ]
    }
   ],
   "source": [
    "a = \"Hola\"\n",
    "print(a[3])"
   ]
  },
  {
   "cell_type": "code",
   "execution_count": 67,
   "metadata": {},
   "outputs": [
    {
     "data": {
      "text/plain": [
       "4"
      ]
     },
     "execution_count": 67,
     "metadata": {},
     "output_type": "execute_result"
    }
   ],
   "source": [
    "len(a)"
   ]
  },
  {
   "cell_type": "code",
   "execution_count": 68,
   "metadata": {},
   "outputs": [
    {
     "name": "stdout",
     "output_type": "stream",
     "text": [
      "HolaAdios\n"
     ]
    }
   ],
   "source": [
    "a = \"Hola\"\n",
    "b = \"Adios\"\n",
    "\n",
    "c = a + b\n",
    "print(c)"
   ]
  },
  {
   "cell_type": "code",
   "execution_count": 69,
   "metadata": {},
   "outputs": [
    {
     "name": "stdout",
     "output_type": "stream",
     "text": [
      "[1, 2, 3, 4, 5, 6]\n"
     ]
    }
   ],
   "source": [
    "a = [1,2,3]\n",
    "b = [4,5,6]\n",
    "print(a+b)"
   ]
  },
  {
   "cell_type": "code",
   "execution_count": 70,
   "metadata": {},
   "outputs": [
    {
     "name": "stdout",
     "output_type": "stream",
     "text": [
      "[1, 2, 3, 1, 2, 3, 1, 2, 3]\n"
     ]
    }
   ],
   "source": [
    "a = [1,2,3]\n",
    "print(a*3)"
   ]
  },
  {
   "cell_type": "code",
   "execution_count": 75,
   "metadata": {},
   "outputs": [
    {
     "data": {
      "text/plain": [
       "'Hola5'"
      ]
     },
     "execution_count": 75,
     "metadata": {},
     "output_type": "execute_result"
    }
   ],
   "source": [
    "c = \"Hola\" + str(5)\n",
    "c"
   ]
  },
  {
   "cell_type": "code",
   "execution_count": 77,
   "metadata": {},
   "outputs": [
    {
     "name": "stdout",
     "output_type": "stream",
     "text": [
      "<class 'str'>\n",
      "<class 'int'>\n"
     ]
    }
   ],
   "source": [
    "c = \"55\"\n",
    "print(type(c))\n",
    "c = int(c)\n",
    "print(type(c))"
   ]
  },
  {
   "cell_type": "code",
   "execution_count": 82,
   "metadata": {},
   "outputs": [
    {
     "ename": "ValueError",
     "evalue": "could not convert string to float: 'Hola5.5'",
     "output_type": "error",
     "traceback": [
      "\u001b[0;31m---------------------------------------------------------------------------\u001b[0m",
      "\u001b[0;31mValueError\u001b[0m                                Traceback (most recent call last)",
      "\u001b[0;32m<ipython-input-82-c8c81e1cb011>\u001b[0m in \u001b[0;36m<module>\u001b[0;34m\u001b[0m\n\u001b[0;32m----> 1\u001b[0;31m \u001b[0mfloat\u001b[0m\u001b[0;34m(\u001b[0m\u001b[0;34m\"Hola5.5\"\u001b[0m\u001b[0;34m)\u001b[0m\u001b[0;34m\u001b[0m\u001b[0;34m\u001b[0m\u001b[0m\n\u001b[0m",
      "\u001b[0;31mValueError\u001b[0m: could not convert string to float: 'Hola5.5'"
     ]
    }
   ],
   "source": [
    "float(\"Hola5.5\")"
   ]
  },
  {
   "cell_type": "code",
   "execution_count": 89,
   "metadata": {},
   "outputs": [
    {
     "name": "stdout",
     "output_type": "stream",
     "text": [
      "Adios\n"
     ]
    }
   ],
   "source": [
    "a = 6\n",
    "\n",
    "if a <= 5:\n",
    "    print(\"hola\")\n",
    "else:\n",
    "    print(\"Adios\")"
   ]
  },
  {
   "cell_type": "code",
   "execution_count": 107,
   "metadata": {},
   "outputs": [
    {
     "name": "stdout",
     "output_type": "stream",
     "text": [
      "<class 'list'>\n",
      "🔥\n"
     ]
    }
   ],
   "source": [
    "a = [0]\n",
    "print(type(a))\n",
    "if a[0]:\n",
    "    print(\"✅\")\n",
    "else:\n",
    "    print(\"🔥\")"
   ]
  },
  {
   "cell_type": "code",
   "execution_count": 108,
   "metadata": {},
   "outputs": [
    {
     "ename": "SyntaxError",
     "evalue": "invalid syntax (<ipython-input-108-07bc3f7ce866>, line 5)",
     "output_type": "error",
     "traceback": [
      "\u001b[0;36m  File \u001b[0;32m\"<ipython-input-108-07bc3f7ce866>\"\u001b[0;36m, line \u001b[0;32m5\u001b[0m\n\u001b[0;31m    elif c <= 10\u001b[0m\n\u001b[0m                ^\u001b[0m\n\u001b[0;31mSyntaxError\u001b[0m\u001b[0;31m:\u001b[0m invalid syntax\n"
     ]
    }
   ],
   "source": [
    "c = 10\n",
    "\n",
    "if c < 5:\n",
    "    print(\"hola\")\n",
    "elif c <= 10:\n",
    "    print(\"mas o menos diez\")\n",
    "\n",
    "if c <= 10:\n",
    "    print(\"mas o menos diez\")\n",
    "else:\n",
    "    print(\"🔥\")"
   ]
  },
  {
   "cell_type": "code",
   "execution_count": null,
   "metadata": {},
   "outputs": [],
   "source": []
  }
 ],
 "metadata": {
  "kernelspec": {
   "display_name": "Python 3",
   "language": "python",
   "name": "python3"
  },
  "language_info": {
   "codemirror_mode": {
    "name": "ipython",
    "version": 3
   },
   "file_extension": ".py",
   "mimetype": "text/x-python",
   "name": "python",
   "nbconvert_exporter": "python",
   "pygments_lexer": "ipython3",
   "version": "3.7.3"
  }
 },
 "nbformat": 4,
 "nbformat_minor": 2
}
