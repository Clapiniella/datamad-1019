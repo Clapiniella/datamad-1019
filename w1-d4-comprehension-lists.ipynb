{
 "cells": [
  {
   "cell_type": "code",
   "execution_count": 10,
   "metadata": {},
   "outputs": [],
   "source": [
    "huespedes=[\"🙎\",\"💁\",\"🙅\",\"🙋\"]"
   ]
  },
  {
   "cell_type": "code",
   "execution_count": 19,
   "metadata": {},
   "outputs": [
    {
     "name": "stdout",
     "output_type": "stream",
     "text": [
      "['🙎🔥', '💁⛱', '🙅⛱', '🙋⛱']\n"
     ]
    }
   ],
   "source": [
    "# ⛱\n",
    "def asignaHamaca(huesped):\n",
    "    if huesped == \"🙎\":\n",
    "        return huesped + \"🔥\"\n",
    "    return huesped + \"⛱\"\n",
    "\n",
    "# Iterate\n",
    "l = []\n",
    "for h in huespedes:\n",
    "    l.append(asignaHamaca(h))\n",
    "print(l)"
   ]
  },
  {
   "cell_type": "code",
   "execution_count": 20,
   "metadata": {},
   "outputs": [
    {
     "data": {
      "text/plain": [
       "['🙎⛱⛱', '💁⛱⛱', '🙅⛱⛱', '🙋⛱⛱']"
      ]
     },
     "execution_count": 20,
     "metadata": {},
     "output_type": "execute_result"
    }
   ],
   "source": [
    "# Transform\n",
    "[h+\"⛱⛱\" for h in huespedes]"
   ]
  },
  {
   "cell_type": "code",
   "execution_count": 95,
   "metadata": {},
   "outputs": [
    {
     "name": "stdout",
     "output_type": "stream",
     "text": [
      "[['🙎🥥', '🙎🔥', '🙎🍹'], ['💁🥥', '💁⛱', '💁🍹'], ['🙅🥥', '🙅⛱', '🙅🍹'], ['🙋🥥', '🙋⛱', '🙋🍹']]\n"
     ]
    },
    {
     "data": {
      "text/plain": [
       "['🙎🥥', '🙎🔥', '🙎🍹', '💁🥥', '💁⛱', '💁🍹', '🙅🥥', '🙅⛱', '🙅🍹', '🙋🥥', '🙋⛱', '🙋🍹']"
      ]
     },
     "execution_count": 95,
     "metadata": {},
     "output_type": "execute_result"
    }
   ],
   "source": [
    "# 🍹🥥⛱\n",
    "huespedes=[\"🙎\",\"💁\",\"🙅\",\"🙋\"]\n",
    "\n",
    "def sirveBebida(huesped):\n",
    "    return huesped + \"🍹\"\n",
    " \n",
    "def algoParaPicar(huesped):\n",
    "    return huesped + \"🥥\"\n",
    "\n",
    "def asignaHamaca(huesped):\n",
    "    if huesped == \"🙎\":\n",
    "        return huesped + \"🔥\"\n",
    "    return huesped + \"⛱\"\n",
    "\n",
    "# Ejemplo 1\n",
    "[ algoParaPicar(asignaHamaca(sirveBebida(h))) for h in huespedes]\n",
    "\n",
    "#ejemplo2\n",
    "listFn = [\n",
    "    algoParaPicar,\n",
    "    asignaHamaca,\n",
    "    sirveBebida\n",
    "]\n",
    "\n",
    "m = [ [fn(h) for fn in listFn] for h in huespedes]\n",
    "print(m)\n",
    "[q for p in m for q in p]\n",
    "\n",
    "#[ h+''.join([fn(h)[1] for fn in listFn]) for h in huespedes]\n",
    "\n"
   ]
  },
  {
   "cell_type": "code",
   "execution_count": 4,
   "metadata": {},
   "outputs": [],
   "source": []
  },
  {
   "cell_type": "code",
   "execution_count": 5,
   "metadata": {},
   "outputs": [],
   "source": []
  },
  {
   "cell_type": "code",
   "execution_count": 32,
   "metadata": {},
   "outputs": [
    {
     "data": {
      "text/plain": [
       "['Julia', 'Maria']"
      ]
     },
     "execution_count": 32,
     "metadata": {},
     "output_type": "execute_result"
    }
   ],
   "source": [
    "# Filter & Conditions\n",
    "huespedes=[\n",
    "    { \"nombre\": \"Julia\", \"foto\":\"🙎\", \"edad\": 20},\n",
    "    { \"nombre\": \"Carla\", \"foto\":\"💁\", \"edad\": 15},\n",
    "    { \"nombre\": \"Ramona\", \"foto\":\"🙅\", \"edad\": 30},\n",
    "    { \"nombre\": \"Maria\", \"foto\":\"🙋\", \"edad\": 41}\n",
    "]\n",
    "\n",
    "def permiteEntrada(h):\n",
    "    return h[\"edad\"] > 18 and h[\"nombre\"]!=\"Ramona\"\n",
    "\n",
    "[h[\"nombre\"] for h in huespedes if permiteEntrada(h) ]\n"
   ]
  },
  {
   "cell_type": "code",
   "execution_count": 72,
   "metadata": {},
   "outputs": [
    {
     "data": {
      "text/plain": [
       "'\\ni = 0\\nfor grupo in huespedesMatrix:\\n    for t in grupo:\\n        i += 1\\n        print(\"{}-{}\".format(i,t[\\'nombre\\']))\\n'"
      ]
     },
     "execution_count": 72,
     "metadata": {},
     "output_type": "execute_result"
    }
   ],
   "source": [
    "huespedes=[\n",
    "    { \"nombre\": \"Julia\", \"foto\":\"🙎\", \"edad\": 20},\n",
    "    { \"nombre\": \"Carla\", \"foto\":\"💁\", \"edad\": 15},\n",
    "    { \"nombre\": \"Ramona\", \"foto\":\"🙅\", \"edad\": 30},\n",
    "    { \"nombre\": \"Maria\", \"foto\":\"🙋\", \"edad\": 41}\n",
    "]\n",
    "huespedesMatrix=[(h,h) for h in huespedes]\n",
    "#print(huespedesMatrix)\n",
    "\n",
    "'''\n",
    "i = 0\n",
    "for grupo in huespedesMatrix:\n",
    "    for t in grupo:\n",
    "        i += 1\n",
    "        print(\"{}-{}\".format(i,t['nombre']))\n",
    "'''"
   ]
  },
  {
   "cell_type": "code",
   "execution_count": 78,
   "metadata": {},
   "outputs": [
    {
     "data": {
      "text/plain": [
       "[(0, 'Hola'), (1, 'que'), (2, 'tal')]"
      ]
     },
     "execution_count": 78,
     "metadata": {},
     "output_type": "execute_result"
    }
   ],
   "source": [
    "list(enumerate([\"Hola\", \"que\", \"tal\"]))"
   ]
  },
  {
   "cell_type": "code",
   "execution_count": 8,
   "metadata": {},
   "outputs": [],
   "source": [
    "# Mutliple for loops to Flatten an arrray\n",
    "lst_h = [h['nombre'] for grupo in huespedesMatrix for h in grupo]\n",
    "q = [\"{}-{}\".format(a+1,b) for a,b in enumerate(lst_h)]\n",
    "print(q)\n",
    "print(\"\\n\".join(q))"
   ]
  },
  {
   "cell_type": "code",
   "execution_count": 75,
   "metadata": {},
   "outputs": [],
   "source": [
    "# https://cmdlinetips.com/2018/01/5-examples-using-dict-comprehension/\n",
    "# Comprehension dicts\n",
    "\n"
   ]
  },
  {
   "cell_type": "code",
   "execution_count": null,
   "metadata": {},
   "outputs": [],
   "source": []
  }
 ],
 "metadata": {
  "kernelspec": {
   "display_name": "Python 3",
   "language": "python",
   "name": "python3"
  },
  "language_info": {
   "codemirror_mode": {
    "name": "ipython",
    "version": 3
   },
   "file_extension": ".py",
   "mimetype": "text/x-python",
   "name": "python",
   "nbconvert_exporter": "python",
   "pygments_lexer": "ipython3",
   "version": "3.7.3"
  }
 },
 "nbformat": 4,
 "nbformat_minor": 2
}
