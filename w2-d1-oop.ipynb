{
 "cells": [
  {
   "cell_type": "code",
   "execution_count": 19,
   "metadata": {},
   "outputs": [],
   "source": [
    "mando = {\n",
    "    \"tipo\":\"Mando Proyector\",\n",
    "    \"descripcion\": \"Pa encender el proyector\",\n",
    "    \"color\":[255,255,255],\n",
    "    \"pilas\":[\n",
    "        {\"tipo\":\"AAA\", \"carga\":100},\n",
    "        {\"tipo\":\"AAA\", \"carga\":51}\n",
    "    ],\n",
    "    \"tamaño\": {\n",
    "        \"w\":5,\n",
    "        \"h\":10,\n",
    "        \"depth\":2\n",
    "    },\n",
    "    \"fabricante\":\"Casio\",\n",
    "    \"botones\":{\n",
    "        \"power\":{\n",
    "            \"desc\":\"enciende y apaga\",\n",
    "            \"state\":True\n",
    "        },\n",
    "        \"menu\":{\n",
    "            \"desc\":\"accede a las opciones de config.\",\n",
    "            \"state\":False\n",
    "        }\n",
    "    }\n",
    "}\n",
    "\n"
   ]
  },
  {
   "cell_type": "code",
   "execution_count": 20,
   "metadata": {},
   "outputs": [
    {
     "name": "stdout",
     "output_type": "stream",
     "text": [
      "El boton ya esta pulsado\n"
     ]
    }
   ],
   "source": [
    "def pulsaBoton(m):\n",
    "    if m[\"botones\"][\"power\"][\"state\"]:\n",
    "        print(\"El boton ya esta pulsado\")\n",
    "    else:\n",
    "        m[\"botones\"][\"power\"][\"state\"] = True\n",
    "\n",
    "\n",
    "pulsaBoton(mando)\n"
   ]
  },
  {
   "cell_type": "code",
   "execution_count": 23,
   "metadata": {},
   "outputs": [
    {
     "name": "stdout",
     "output_type": "stream",
     "text": [
      "{'tipo': 'Mando Proyector', 'descripcion': 'Pa encender el proyector', 'color': [255, 255, 255], 'pilas': [{'tipo': 'AAA', 'carga': 100}, {'tipo': 'AAA', 'carga': 51}], 'tamaño': {'w': 5, 'h': 10, 'depth': 2}, 'fabricante': 'Casio', 'botones': {'power': {'desc': 'enciende y apaga', 'state': True}, 'menu': {'desc': 'accede a las opciones de config.', 'state': False}}}\n",
      "{'tipo': 'Mando Proyector', 'descripcion': 'Pa encender el proyector', 'color': [255, 255, 255], 'pilas': [{'tipo': 'AAA', 'carga': 100}, {'tipo': 'AAA', 'carga': 51}], 'tamaño': {'w': 5, 'h': 10, 'depth': 2}, 'fabricante': 'Casio', 'botones': {'power': {'desc': 'enciende y apaga', 'state': True}, 'menu': {'desc': 'accede a las opciones de config.', 'state': False}}}\n"
     ]
    }
   ],
   "source": [
    "def generaPila():\n",
    "    return {\"tipo\":\"AAA\", \"carga\":100}\n",
    "\n",
    "# paso de diccionario por referencia\n",
    "def cambiaPilas(m):\n",
    "    m = 5\n",
    "#    m[\"pilas\"] = [\n",
    "#        generaPila(),\n",
    "#        generaPila()\n",
    "#    ]\n",
    "    \n",
    "print(mando)\n",
    "cambiaPilas(mando)\n",
    "print(mando)"
   ]
  },
  {
   "cell_type": "code",
   "execution_count": 24,
   "metadata": {},
   "outputs": [
    {
     "name": "stdout",
     "output_type": "stream",
     "text": [
      "5\n",
      "5\n"
     ]
    }
   ],
   "source": [
    "a = 5\n",
    "\n",
    "def cambiaA(x):\n",
    "    x = 10\n",
    "    \n",
    "print(a)\n",
    "cambiaA(a)\n",
    "print(a)"
   ]
  },
  {
   "cell_type": "code",
   "execution_count": 25,
   "metadata": {},
   "outputs": [
    {
     "name": "stdout",
     "output_type": "stream",
     "text": [
      "<__main__.Mando object at 0x108ae9e10>\n",
      "<__main__.Mando object at 0x108ae9dd8>\n",
      "<class '__main__.Mando'>\n"
     ]
    }
   ],
   "source": [
    "class Mando:\n",
    "    pass\n",
    "\n",
    "\n",
    "m1 = Mando()\n",
    "m2 = Mando()\n",
    "\n",
    "print(m1)\n",
    "print(m2)\n",
    "print(type(m1))\n",
    "\n"
   ]
  },
  {
   "cell_type": "code",
   "execution_count": 46,
   "metadata": {},
   "outputs": [
    {
     "name": "stdout",
     "output_type": "stream",
     "text": [
      "hola\n",
      "black\n",
      "negro\n",
      "[]\n",
      "hola\n",
      "azul\n"
     ]
    },
    {
     "ename": "AttributeError",
     "evalue": "'Mando' object has no attribute 'size'",
     "output_type": "error",
     "traceback": [
      "\u001b[0;31m---------------------------------------------------------------------------\u001b[0m",
      "\u001b[0;31mAttributeError\u001b[0m                            Traceback (most recent call last)",
      "\u001b[0;32m<ipython-input-46-9041bfccbfc4>\u001b[0m in \u001b[0;36m<module>\u001b[0;34m\u001b[0m\n\u001b[1;32m     16\u001b[0m \u001b[0mprint\u001b[0m\u001b[0;34m(\u001b[0m\u001b[0mm2\u001b[0m\u001b[0;34m.\u001b[0m\u001b[0mcolor\u001b[0m\u001b[0;34m)\u001b[0m\u001b[0;34m\u001b[0m\u001b[0;34m\u001b[0m\u001b[0m\n\u001b[1;32m     17\u001b[0m \u001b[0;34m\u001b[0m\u001b[0m\n\u001b[0;32m---> 18\u001b[0;31m \u001b[0mprint\u001b[0m\u001b[0;34m(\u001b[0m\u001b[0mm2\u001b[0m\u001b[0;34m.\u001b[0m\u001b[0msize\u001b[0m\u001b[0;34m)\u001b[0m\u001b[0;34m\u001b[0m\u001b[0;34m\u001b[0m\u001b[0m\n\u001b[0m",
      "\u001b[0;31mAttributeError\u001b[0m: 'Mando' object has no attribute 'size'"
     ]
    }
   ],
   "source": [
    "class Mando:\n",
    "    def __init__(self, colorcito=\"black\",size=[5,4,2]):\n",
    "        self.tipo = \"Mando Proyector\"\n",
    "        self.color = colorcito\n",
    "        self.pilas = []\n",
    "        print(\"hola\")\n",
    "    \n",
    "    \n",
    "\n",
    "\n",
    "m1 = Mando()\n",
    "print(m1.color)\n",
    "m1.color = \"negro\"\n",
    "m1.pilas = []\n",
    "print(m1.color)\n",
    "print(m1.pilas)\n",
    "\n",
    "m2 = Mando(\"azul\")\n",
    "print(m2.color)\n",
    "print(m2.size)"
   ]
  },
  {
   "cell_type": "code",
   "execution_count": 113,
   "metadata": {},
   "outputs": [
    {
     "name": "stdout",
     "output_type": "stream",
     "text": [
      "[]\n",
      "[{'tipo': 'AAA', 'carga': 100}, {'tipo': 'AAA', 'carga': 100}]\n",
      "El mando ya tiene pilas\n",
      "[{'tipo': 'AAA', 'carga': 96}, {'tipo': 'AAA', 'carga': 96}]\n",
      "False\n",
      "[{'tipo': 'AAA', 'carga': 100}, {'tipo': 'AAA', 'carga': 100}]\n",
      "tipo:Mando Proyector color:black cargaMedia:100.0\n",
      "{'tipo': 'Mando Proyector', 'color': 'black', 'pilas': [{'tipo': 'AAA', 'carga': 100}, {'tipo': 'AAA', 'carga': 100}], 'on': False}\n"
     ]
    }
   ],
   "source": [
    "def generaPila():\n",
    "    return {\"tipo\":\"AAA\", \"carga\":100}\n",
    "\n",
    "class Mando:\n",
    "    def __init__(self, colorcito=\"black\"):\n",
    "        self.tipo = \"Mando Proyector\"\n",
    "        self.color = colorcito\n",
    "        self.pilas = []\n",
    "    \n",
    "    def quitaPilas(self):\n",
    "        self.pilas = []\n",
    "        self.on = False\n",
    "    \n",
    "    def cambiaPilas(self):\n",
    "        if len(self.pilas) == 0:\n",
    "            self.pilas.append(generaPila())\n",
    "            self.pilas.append(generaPila())\n",
    "        else:\n",
    "            print(\"El mando ya tiene pilas\")\n",
    "\n",
    "    def usaMando(self):\n",
    "        for pila in self.pilas:\n",
    "            pila[\"carga\"] -= 1\n",
    "            \n",
    "    def __str__(self):\n",
    "        cargaMedia = sum([p[\"carga\"] for p in self.pilas])/len(self.pilas)\n",
    "        return \"tipo:{} color:{} cargaMedia:{}\".format(self.tipo,self.color,cargaMedia)\n",
    "\n",
    "m1 = Mando()\n",
    "print(m1.pilas)\n",
    "m1.cambiaPilas()\n",
    "print(m1.pilas)\n",
    "m1.cambiaPilas()\n",
    "m1.usaMando()\n",
    "m1.usaMando()\n",
    "m1.usaMando()\n",
    "m1.usaMando()\n",
    "print(m1.pilas)\n",
    "#print(m1.on) # da un error porque no existe la propiedad hasta llamar a quitaPilas()\n",
    "m1.quitaPilas()\n",
    "print(m1.on)\n",
    "m1.cambiaPilas()\n",
    "print(m1.pilas)\n",
    "\n",
    "print(m1)\n",
    "print(m1.__dict__)\n",
    "\n",
    "m2 = Mando()\n",
    "m2.cambiaPilas()"
   ]
  },
  {
   "cell_type": "code",
   "execution_count": 69,
   "metadata": {},
   "outputs": [
    {
     "name": "stdout",
     "output_type": "stream",
     "text": [
      "<class '__main__.AparatoConPilas'> <class '__main__.Mando'>\n",
      "True\n",
      "True\n",
      "False\n",
      "True\n"
     ]
    }
   ],
   "source": [
    "class AparatoConPilas:\n",
    "    def __init__(self):\n",
    "        self.pilas = []\n",
    "      \n",
    "    def quitaPilas(self):\n",
    "        self.pilas = []\n",
    "    \n",
    "    def cambiaPilas(self):\n",
    "        if len(self.pilas) == 0:\n",
    "            self.pilas.append(generaPila())\n",
    "            self.pilas.append(generaPila())\n",
    "        else:\n",
    "            print(\"El mando ya tiene pilas\")\n",
    "\n",
    "class Mando(AparatoConPilas):\n",
    "    pass\n",
    "\n",
    "ap = AparatoConPilas()\n",
    "m1 = Mando()\n",
    "print(type(ap),type(m1))\n",
    "print(isinstance(ap,AparatoConPilas))\n",
    "print(isinstance(m1,AparatoConPilas))\n",
    "print(isinstance(ap,Mando))\n",
    "print(isinstance([],object))"
   ]
  },
  {
   "cell_type": "code",
   "execution_count": 97,
   "metadata": {},
   "outputs": [
    {
     "name": "stdout",
     "output_type": "stream",
     "text": [
      "Hola\n",
      "Constructor\n",
      "Mando\n",
      "Hola\n",
      "[{'tipo': 'AAA', 'carga': 90}, {'tipo': 'AAA', 'carga': 90}]\n"
     ]
    }
   ],
   "source": [
    "class AparatoConPilas:\n",
    "    def __init__(self):\n",
    "        print(\"Constructor\")\n",
    "        self.tipo = \"Generico\"\n",
    "        self.pilas = []\n",
    "      \n",
    "    def quitaPilas(self):\n",
    "        self.pilas = []\n",
    "    \n",
    "    def cambiaPilas(self):\n",
    "        if len(self.pilas) == 0:\n",
    "            self.pilas.append(generaPila())\n",
    "            self.pilas.append(generaPila())\n",
    "        else:\n",
    "            print(\"El mando ya tiene pilas\")\n",
    "        return \"Hola\"\n",
    "\n",
    "    def usaDispositivo(self, porcentaje=1):\n",
    "        for pila in self.pilas:\n",
    "            pila[\"carga\"] -= porcentaje\n",
    "\n",
    "class Mando(AparatoConPilas):\n",
    "    # https://docs.python.org/3/library/functions.html#super\n",
    "    def __init__(self):\n",
    "        print(\"Hola\")\n",
    "        super().__init__()\n",
    "        self.tipo = \"Mando\"\n",
    "\n",
    "    def usaMando(self):\n",
    "        self.usaDispositivo(10)\n",
    "        #same: super().usaDispositivo(10)\n",
    "\n",
    "m1 = Mando()\n",
    "print(m1.tipo)\n",
    "#print(m1.pilas)\n",
    "print(m1.cambiaPilas())\n",
    "m1.usaMando()\n",
    "print(m1.pilas)\n"
   ]
  },
  {
   "cell_type": "code",
   "execution_count": 112,
   "metadata": {},
   "outputs": [
    {
     "name": "stdout",
     "output_type": "stream",
     "text": [
      "miau\n",
      "Generico\n",
      "Gato\n",
      "{}\n"
     ]
    }
   ],
   "source": [
    "class Animal:\n",
    "    def sonido(self):\n",
    "        print(\"Generico\")\n",
    "\n",
    "class Gato(Animal):\n",
    "    def sonido(self):\n",
    "        print(\"miau\")\n",
    "\n",
    "    def sonidoOriginal(self):\n",
    "        super().sonido()\n",
    "    \n",
    "    def __str__(self):\n",
    "        return \"Gato\"\n",
    "        \n",
    "#a = Animal()\n",
    "a = Gato()\n",
    "\n",
    "a.sonido()\n",
    "a.sonidoOriginal()\n",
    "print(a)\n",
    "print(a.__dict__)"
   ]
  },
  {
   "cell_type": "code",
   "execution_count": 119,
   "metadata": {},
   "outputs": [
    {
     "data": {
      "text/html": [
       "<div>\n",
       "<style scoped>\n",
       "    .dataframe tbody tr th:only-of-type {\n",
       "        vertical-align: middle;\n",
       "    }\n",
       "\n",
       "    .dataframe tbody tr th {\n",
       "        vertical-align: top;\n",
       "    }\n",
       "\n",
       "    .dataframe thead th {\n",
       "        text-align: right;\n",
       "    }\n",
       "</style>\n",
       "<table border=\"1\" class=\"dataframe\">\n",
       "  <thead>\n",
       "    <tr style=\"text-align: right;\">\n",
       "      <th></th>\n",
       "      <th>0</th>\n",
       "      <th>1</th>\n",
       "      <th>2</th>\n",
       "    </tr>\n",
       "  </thead>\n",
       "  <tbody>\n",
       "    <tr>\n",
       "      <th>0</th>\n",
       "      <td>0.091881</td>\n",
       "      <td>0.344014</td>\n",
       "      <td>0.789573</td>\n",
       "    </tr>\n",
       "    <tr>\n",
       "      <th>1</th>\n",
       "      <td>0.591255</td>\n",
       "      <td>0.363887</td>\n",
       "      <td>0.386028</td>\n",
       "    </tr>\n",
       "    <tr>\n",
       "      <th>2</th>\n",
       "      <td>0.109639</td>\n",
       "      <td>0.111918</td>\n",
       "      <td>0.434854</td>\n",
       "    </tr>\n",
       "  </tbody>\n",
       "</table>\n",
       "</div>"
      ],
      "text/plain": [
       "          0         1         2\n",
       "0  0.091881  0.344014  0.789573\n",
       "1  0.591255  0.363887  0.386028\n",
       "2  0.109639  0.111918  0.434854"
      ]
     },
     "metadata": {},
     "output_type": "display_data"
    },
    {
     "data": {
      "text/plain": [
       "{'_is_copy': None, '_data': BlockManager\n",
       " Items: RangeIndex(start=0, stop=3, step=1)\n",
       " Axis 1: RangeIndex(start=0, stop=3, step=1)\n",
       " FloatBlock: slice(0, 3, 1), 3 x 3, dtype: float64, '_item_cache': {}}"
      ]
     },
     "execution_count": 119,
     "metadata": {},
     "output_type": "execute_result"
    }
   ],
   "source": [
    "import pandas as pd\n",
    "import numpy as np\n",
    "\n",
    "df = pd.DataFrame(np.random.random((3,3)))\n",
    "display(df)\n",
    "df.__dict__"
   ]
  },
  {
   "cell_type": "code",
   "execution_count": null,
   "metadata": {},
   "outputs": [],
   "source": []
  }
 ],
 "metadata": {
  "kernelspec": {
   "display_name": "Python 3",
   "language": "python",
   "name": "python3"
  },
  "language_info": {
   "codemirror_mode": {
    "name": "ipython",
    "version": 3
   },
   "file_extension": ".py",
   "mimetype": "text/x-python",
   "name": "python",
   "nbconvert_exporter": "python",
   "pygments_lexer": "ipython3",
   "version": "3.7.3"
  }
 },
 "nbformat": 4,
 "nbformat_minor": 2
}
