{
 "cells": [
  {
   "cell_type": "code",
   "execution_count": 2,
   "metadata": {},
   "outputs": [
    {
     "name": "stdout",
     "output_type": "stream",
     "text": [
      "<function suma at 0x1085a3268>\n"
     ]
    }
   ],
   "source": [
    "def suma(a,b):\n",
    "    return a+b\n",
    "\n",
    "suma(5,5)\n",
    "print(suma)"
   ]
  },
  {
   "cell_type": "code",
   "execution_count": 4,
   "metadata": {},
   "outputs": [
    {
     "data": {
      "text/plain": [
       "10"
      ]
     },
     "execution_count": 4,
     "metadata": {},
     "output_type": "execute_result"
    }
   ],
   "source": [
    "\"\"\"\n",
    "def exp(e):\n",
    "    return e**2\n",
    "\"\"\"\n",
    "\n",
    "lambda e: e**2\n",
    "x = lambda a,b: a+b\n",
    "\n",
    "x(5,5)"
   ]
  },
  {
   "cell_type": "code",
   "execution_count": 6,
   "metadata": {},
   "outputs": [
    {
     "data": {
      "text/plain": [
       "9"
      ]
     },
     "execution_count": 6,
     "metadata": {},
     "output_type": "execute_result"
    }
   ],
   "source": [
    "hoteles = [\n",
    "    {\"name\":\"Hotel Legazpi\", \"stars\":3},\n",
    "    {\"name\":\"Pension Loli\", \"stars\":1},\n",
    "    {\"name\":\"Hilton\", \"stars\":5},\n",
    "]\n",
    "\n",
    "# Transforma la lista de hoteles en sus estrellas\n",
    "\n",
    "total = 0\n",
    "for h in hoteles:\n",
    "    total += h[\"stars\"]\n",
    "total\n"
   ]
  },
  {
   "cell_type": "code",
   "execution_count": 8,
   "metadata": {},
   "outputs": [
    {
     "data": {
      "text/plain": [
       "9"
      ]
     },
     "execution_count": 8,
     "metadata": {},
     "output_type": "execute_result"
    }
   ],
   "source": [
    "sum([h[\"stars\"] for h in hoteles])"
   ]
  },
  {
   "cell_type": "code",
   "execution_count": 13,
   "metadata": {},
   "outputs": [
    {
     "data": {
      "text/plain": [
       "9"
      ]
     },
     "execution_count": 13,
     "metadata": {},
     "output_type": "execute_result"
    }
   ],
   "source": [
    "sum(map(lambda h: h[\"stars\"], hoteles))"
   ]
  },
  {
   "cell_type": "code",
   "execution_count": 18,
   "metadata": {},
   "outputs": [
    {
     "data": {
      "text/plain": [
       "['Hola0',\n",
       " 'Hola1',\n",
       " 'Hola2',\n",
       " 'Hola3',\n",
       " 'Hola4',\n",
       " 'Hola5',\n",
       " 'Hola6',\n",
       " 'Hola7',\n",
       " 'Hola8',\n",
       " 'Hola9']"
      ]
     },
     "execution_count": 18,
     "metadata": {},
     "output_type": "execute_result"
    }
   ],
   "source": [
    "x = lambda i: \"Hola\"+str(i)\n",
    "\n",
    "list(map(x, range(10)))"
   ]
  },
  {
   "cell_type": "code",
   "execution_count": 75,
   "metadata": {},
   "outputs": [
    {
     "name": "stdout",
     "output_type": "stream",
     "text": [
      "[{'name': 'Hilton', 'stars': 5}]\n",
      "[{'name': 'Pension Loli', 'stars': 3}]\n",
      "[{'name': 'Hotel Legazpi', 'stars': 3}, {'name': 'Pension Loli', 'stars': 3}, {'name': 'Hilton', 'stars': 5}]\n"
     ]
    }
   ],
   "source": [
    "import re \n",
    "hoteles = [\n",
    "    {\"name\":\"Hotel Legazpi\", \"stars\":3},\n",
    "    {\"name\":\"Pension Loli\", \"stars\":3},\n",
    "    {\"name\":\"Hilton\", \"stars\":5},\n",
    "]\n",
    "\n",
    "\n",
    "hotelName = lambda needle, heystack: bool(re.search(re.compile(needle, re.IGNORECASE),heystack))\n",
    "hotelLujo = lambda h: h[\"stars\"] >= 4\n",
    "pension = lambda h: bool(re.search(\"pension\",h))\n",
    "\n",
    "print(list(filter(hotelLujo, hoteles)))\n",
    "print(list(filter(lambda h: hotelName(\"loli\",h[\"name\"]), hoteles)))\n",
    "print(list(filter(lambda h: hotelName(\"l\",h[\"name\"]), hoteles)))\n"
   ]
  },
  {
   "cell_type": "code",
   "execution_count": 86,
   "metadata": {},
   "outputs": [
    {
     "data": {
      "text/html": [
       "<div>\n",
       "<style scoped>\n",
       "    .dataframe tbody tr th:only-of-type {\n",
       "        vertical-align: middle;\n",
       "    }\n",
       "\n",
       "    .dataframe tbody tr th {\n",
       "        vertical-align: top;\n",
       "    }\n",
       "\n",
       "    .dataframe thead th {\n",
       "        text-align: right;\n",
       "    }\n",
       "</style>\n",
       "<table border=\"1\" class=\"dataframe\">\n",
       "  <thead>\n",
       "    <tr style=\"text-align: right;\">\n",
       "      <th></th>\n",
       "      <th>0</th>\n",
       "      <th>1</th>\n",
       "      <th>2</th>\n",
       "      <th>3</th>\n",
       "      <th>4</th>\n",
       "      <th>5</th>\n",
       "      <th>6</th>\n",
       "      <th>7</th>\n",
       "      <th>8</th>\n",
       "      <th>9</th>\n",
       "    </tr>\n",
       "  </thead>\n",
       "  <tbody>\n",
       "    <tr>\n",
       "      <th>0</th>\n",
       "      <td>0.310411</td>\n",
       "      <td>0.577245</td>\n",
       "      <td>0.362586</td>\n",
       "      <td>0.995352</td>\n",
       "      <td>0.264605</td>\n",
       "      <td>0.998100</td>\n",
       "      <td>0.792183</td>\n",
       "      <td>0.607362</td>\n",
       "      <td>0.908078</td>\n",
       "      <td>0.819816</td>\n",
       "    </tr>\n",
       "    <tr>\n",
       "      <th>1</th>\n",
       "      <td>0.400171</td>\n",
       "      <td>0.277665</td>\n",
       "      <td>0.530357</td>\n",
       "      <td>0.175989</td>\n",
       "      <td>0.821325</td>\n",
       "      <td>0.078694</td>\n",
       "      <td>0.703217</td>\n",
       "      <td>0.832572</td>\n",
       "      <td>0.119677</td>\n",
       "      <td>0.392320</td>\n",
       "    </tr>\n",
       "    <tr>\n",
       "      <th>2</th>\n",
       "      <td>0.920682</td>\n",
       "      <td>0.756436</td>\n",
       "      <td>0.332994</td>\n",
       "      <td>0.039983</td>\n",
       "      <td>0.317702</td>\n",
       "      <td>0.644552</td>\n",
       "      <td>0.296397</td>\n",
       "      <td>0.993487</td>\n",
       "      <td>0.062097</td>\n",
       "      <td>0.394374</td>\n",
       "    </tr>\n",
       "    <tr>\n",
       "      <th>3</th>\n",
       "      <td>0.144421</td>\n",
       "      <td>0.795516</td>\n",
       "      <td>0.333483</td>\n",
       "      <td>0.792018</td>\n",
       "      <td>0.759508</td>\n",
       "      <td>0.955749</td>\n",
       "      <td>0.796879</td>\n",
       "      <td>0.825752</td>\n",
       "      <td>0.552592</td>\n",
       "      <td>0.467755</td>\n",
       "    </tr>\n",
       "    <tr>\n",
       "      <th>4</th>\n",
       "      <td>0.525639</td>\n",
       "      <td>0.464778</td>\n",
       "      <td>0.114148</td>\n",
       "      <td>0.693903</td>\n",
       "      <td>0.196886</td>\n",
       "      <td>0.014326</td>\n",
       "      <td>0.358719</td>\n",
       "      <td>0.764667</td>\n",
       "      <td>0.467590</td>\n",
       "      <td>0.627476</td>\n",
       "    </tr>\n",
       "  </tbody>\n",
       "</table>\n",
       "</div>"
      ],
      "text/plain": [
       "          0         1         2         3         4         5         6  \\\n",
       "0  0.310411  0.577245  0.362586  0.995352  0.264605  0.998100  0.792183   \n",
       "1  0.400171  0.277665  0.530357  0.175989  0.821325  0.078694  0.703217   \n",
       "2  0.920682  0.756436  0.332994  0.039983  0.317702  0.644552  0.296397   \n",
       "3  0.144421  0.795516  0.333483  0.792018  0.759508  0.955749  0.796879   \n",
       "4  0.525639  0.464778  0.114148  0.693903  0.196886  0.014326  0.358719   \n",
       "\n",
       "          7         8         9  \n",
       "0  0.607362  0.908078  0.819816  \n",
       "1  0.832572  0.119677  0.392320  \n",
       "2  0.993487  0.062097  0.394374  \n",
       "3  0.825752  0.552592  0.467755  \n",
       "4  0.764667  0.467590  0.627476  "
      ]
     },
     "execution_count": 86,
     "metadata": {},
     "output_type": "execute_result"
    }
   ],
   "source": [
    "import numpy as np\n",
    "import pandas as pd\n",
    "\n",
    "df = pd.DataFrame(np.random.random((5,10)))\n",
    "df"
   ]
  },
  {
   "cell_type": "code",
   "execution_count": 94,
   "metadata": {},
   "outputs": [
    {
     "data": {
      "text/html": [
       "<div>\n",
       "<style scoped>\n",
       "    .dataframe tbody tr th:only-of-type {\n",
       "        vertical-align: middle;\n",
       "    }\n",
       "\n",
       "    .dataframe tbody tr th {\n",
       "        vertical-align: top;\n",
       "    }\n",
       "\n",
       "    .dataframe thead th {\n",
       "        text-align: right;\n",
       "    }\n",
       "</style>\n",
       "<table border=\"1\" class=\"dataframe\">\n",
       "  <thead>\n",
       "    <tr style=\"text-align: right;\">\n",
       "      <th></th>\n",
       "      <th>0</th>\n",
       "      <th>1</th>\n",
       "      <th>2</th>\n",
       "      <th>3</th>\n",
       "      <th>4</th>\n",
       "      <th>5</th>\n",
       "      <th>6</th>\n",
       "      <th>7</th>\n",
       "      <th>8</th>\n",
       "      <th>9</th>\n",
       "    </tr>\n",
       "  </thead>\n",
       "  <tbody>\n",
       "    <tr>\n",
       "      <th>0</th>\n",
       "      <td>Hola0.31041080709606694</td>\n",
       "      <td>Hola0.5772448033005073</td>\n",
       "      <td>Hola0.36258594239230946</td>\n",
       "      <td>Hola0.9953518906507182</td>\n",
       "      <td>Hola0.26460465357509055</td>\n",
       "      <td>Hola0.9981001135358412</td>\n",
       "      <td>Hola0.7921832375631782</td>\n",
       "      <td>Hola0.6073623827815352</td>\n",
       "      <td>Hola0.9080777502714774</td>\n",
       "      <td>Hola0.8198160665029773</td>\n",
       "    </tr>\n",
       "    <tr>\n",
       "      <th>1</th>\n",
       "      <td>Hola0.40017077889420305</td>\n",
       "      <td>Hola0.27766537395700175</td>\n",
       "      <td>Hola0.5303570738973541</td>\n",
       "      <td>Hola0.17598895316691499</td>\n",
       "      <td>Hola0.8213248434791914</td>\n",
       "      <td>Hola0.07869420040873676</td>\n",
       "      <td>Hola0.7032166967108288</td>\n",
       "      <td>Hola0.8325716519646502</td>\n",
       "      <td>Hola0.1196769419514675</td>\n",
       "      <td>Hola0.3923202716891948</td>\n",
       "    </tr>\n",
       "    <tr>\n",
       "      <th>2</th>\n",
       "      <td>Hola0.9206816615180754</td>\n",
       "      <td>Hola0.756435515164577</td>\n",
       "      <td>Hola0.3329942152881671</td>\n",
       "      <td>Hola0.03998303117168345</td>\n",
       "      <td>Hola0.317702369440126</td>\n",
       "      <td>Hola0.6445519827517011</td>\n",
       "      <td>Hola0.2963970469729782</td>\n",
       "      <td>Hola0.9934872032581918</td>\n",
       "      <td>Hola0.062096651234430755</td>\n",
       "      <td>Hola0.39437395965076516</td>\n",
       "    </tr>\n",
       "    <tr>\n",
       "      <th>3</th>\n",
       "      <td>Hola0.14442082265797618</td>\n",
       "      <td>Hola0.7955155853330305</td>\n",
       "      <td>Hola0.3334833452959758</td>\n",
       "      <td>Hola0.7920184894558989</td>\n",
       "      <td>Hola0.7595077716234265</td>\n",
       "      <td>Hola0.9557486464787837</td>\n",
       "      <td>Hola0.7968790562970748</td>\n",
       "      <td>Hola0.8257518233365193</td>\n",
       "      <td>Hola0.5525916080385412</td>\n",
       "      <td>Hola0.4677550920821886</td>\n",
       "    </tr>\n",
       "    <tr>\n",
       "      <th>4</th>\n",
       "      <td>Hola0.5256387175956877</td>\n",
       "      <td>Hola0.4647781751270671</td>\n",
       "      <td>Hola0.11414803618879632</td>\n",
       "      <td>Hola0.6939028874351645</td>\n",
       "      <td>Hola0.19688615432766965</td>\n",
       "      <td>Hola0.014326160889240658</td>\n",
       "      <td>Hola0.35871914550147</td>\n",
       "      <td>Hola0.7646667366113655</td>\n",
       "      <td>Hola0.4675899922099819</td>\n",
       "      <td>Hola0.6274756420132663</td>\n",
       "    </tr>\n",
       "  </tbody>\n",
       "</table>\n",
       "</div>"
      ],
      "text/plain": [
       "                         0                        1                        2  \\\n",
       "0  Hola0.31041080709606694   Hola0.5772448033005073  Hola0.36258594239230946   \n",
       "1  Hola0.40017077889420305  Hola0.27766537395700175   Hola0.5303570738973541   \n",
       "2   Hola0.9206816615180754    Hola0.756435515164577   Hola0.3329942152881671   \n",
       "3  Hola0.14442082265797618   Hola0.7955155853330305   Hola0.3334833452959758   \n",
       "4   Hola0.5256387175956877   Hola0.4647781751270671  Hola0.11414803618879632   \n",
       "\n",
       "                         3                        4                         5  \\\n",
       "0   Hola0.9953518906507182  Hola0.26460465357509055    Hola0.9981001135358412   \n",
       "1  Hola0.17598895316691499   Hola0.8213248434791914   Hola0.07869420040873676   \n",
       "2  Hola0.03998303117168345    Hola0.317702369440126    Hola0.6445519827517011   \n",
       "3   Hola0.7920184894558989   Hola0.7595077716234265    Hola0.9557486464787837   \n",
       "4   Hola0.6939028874351645  Hola0.19688615432766965  Hola0.014326160889240658   \n",
       "\n",
       "                        6                       7                         8  \\\n",
       "0  Hola0.7921832375631782  Hola0.6073623827815352    Hola0.9080777502714774   \n",
       "1  Hola0.7032166967108288  Hola0.8325716519646502    Hola0.1196769419514675   \n",
       "2  Hola0.2963970469729782  Hola0.9934872032581918  Hola0.062096651234430755   \n",
       "3  Hola0.7968790562970748  Hola0.8257518233365193    Hola0.5525916080385412   \n",
       "4    Hola0.35871914550147  Hola0.7646667366113655    Hola0.4675899922099819   \n",
       "\n",
       "                         9  \n",
       "0   Hola0.8198160665029773  \n",
       "1   Hola0.3923202716891948  \n",
       "2  Hola0.39437395965076516  \n",
       "3   Hola0.4677550920821886  \n",
       "4   Hola0.6274756420132663  "
      ]
     },
     "execution_count": 94,
     "metadata": {},
     "output_type": "execute_result"
    }
   ],
   "source": [
    "df.applymap(lambda x: \"Hola\"+str(x))"
   ]
  },
  {
   "cell_type": "code",
   "execution_count": 99,
   "metadata": {},
   "outputs": [
    {
     "name": "stdout",
     "output_type": "stream",
     "text": [
      "ITera\n",
      "0 {'name': 'Hotel Legazpi', 'stars': 3}\n",
      "ITera\n",
      "None {'name': 'Pension Loli', 'stars': 3}\n",
      "ITera\n",
      "None {'name': 'Hilton', 'stars': 5}\n",
      "X vale:  None\n"
     ]
    }
   ],
   "source": [
    "\"\"\"\n",
    "def clean_1to2_ch (serie):\n",
    "    #Esta función elimina palabras de 2 o menos caracteres.\n",
    "    aux = serie.replace(\"\\s\\w{1,2}\\s\", \" \")\n",
    "    aux1 = aux.replace(\"\\s\\w{1,2}\\s\", \" \")\n",
    "    aux2 = aux1.replace(\"\\s\\w{1,2}\\s\", \" \")\n",
    "    return aux2.replace(\"\\s\\w{1,2}\\s\", \" \")\n",
    "\"\"\"\n",
    "\n",
    "from functools import reduce\n",
    "\n",
    "hoteles = [\n",
    "    {\"name\":\"Hotel Legazpi\", \"stars\":3},\n",
    "    {\"name\":\"Pension Loli\", \"stars\":3},\n",
    "    {\"name\":\"Hilton\", \"stars\":5},\n",
    "]\n",
    "\n",
    "\n",
    "def fn(acc,e):\n",
    "    print(\"ITera\")\n",
    "    print(acc,e)\n",
    "\n",
    "x = reduce(fn, hoteles, 0)\n",
    "print(\"X vale: \", x)"
   ]
  },
  {
   "cell_type": "code",
   "execution_count": 100,
   "metadata": {},
   "outputs": [
    {
     "name": "stdout",
     "output_type": "stream",
     "text": [
      "ITera\n",
      "0 {'name': 'Hotel Legazpi', 'stars': 3}\n",
      "ITera\n",
      "3 {'name': 'Pension Loli', 'stars': 3}\n",
      "ITera\n",
      "6 {'name': 'Hilton', 'stars': 5}\n"
     ]
    },
    {
     "data": {
      "text/plain": [
       "11"
      ]
     },
     "execution_count": 100,
     "metadata": {},
     "output_type": "execute_result"
    }
   ],
   "source": [
    "def fn(acc,e):\n",
    "    print(\"ITera\")\n",
    "    print(acc,e)\n",
    "    return acc + e[\"stars\"]\n",
    "\n",
    "reduce(fn, hoteles, 0)"
   ]
  },
  {
   "cell_type": "code",
   "execution_count": 101,
   "metadata": {},
   "outputs": [
    {
     "data": {
      "text/plain": [
       "11"
      ]
     },
     "execution_count": 101,
     "metadata": {},
     "output_type": "execute_result"
    }
   ],
   "source": [
    "reduce(lambda a,e: a+e[\"stars\"], hoteles, 0)"
   ]
  },
  {
   "cell_type": "code",
   "execution_count": 103,
   "metadata": {},
   "outputs": [
    {
     "name": "stdout",
     "output_type": "stream",
     "text": [
      "ITera\n",
      "{'name': 'Hotel Legazpi', 'stars': 3} {'name': 'Pension Loli', 'stars': 3}\n",
      "ITera\n",
      "6 {'name': 'Hilton', 'stars': 5}\n"
     ]
    },
    {
     "ename": "TypeError",
     "evalue": "'int' object is not subscriptable",
     "output_type": "error",
     "traceback": [
      "\u001b[0;31m---------------------------------------------------------------------------\u001b[0m",
      "\u001b[0;31mTypeError\u001b[0m                                 Traceback (most recent call last)",
      "\u001b[0;32m<ipython-input-103-c0cd0bba7a45>\u001b[0m in \u001b[0;36m<module>\u001b[0;34m\u001b[0m\n\u001b[1;32m      4\u001b[0m     \u001b[0;32mreturn\u001b[0m \u001b[0macc\u001b[0m\u001b[0;34m[\u001b[0m\u001b[0;34m\"stars\"\u001b[0m\u001b[0;34m]\u001b[0m \u001b[0;34m+\u001b[0m \u001b[0me\u001b[0m\u001b[0;34m[\u001b[0m\u001b[0;34m\"stars\"\u001b[0m\u001b[0;34m]\u001b[0m\u001b[0;34m\u001b[0m\u001b[0;34m\u001b[0m\u001b[0m\n\u001b[1;32m      5\u001b[0m \u001b[0;34m\u001b[0m\u001b[0m\n\u001b[0;32m----> 6\u001b[0;31m \u001b[0mreduce\u001b[0m\u001b[0;34m(\u001b[0m\u001b[0mfn\u001b[0m\u001b[0;34m,\u001b[0m \u001b[0mhoteles\u001b[0m\u001b[0;34m)\u001b[0m\u001b[0;34m\u001b[0m\u001b[0;34m\u001b[0m\u001b[0m\n\u001b[0m",
      "\u001b[0;32m<ipython-input-103-c0cd0bba7a45>\u001b[0m in \u001b[0;36mfn\u001b[0;34m(acc, e)\u001b[0m\n\u001b[1;32m      2\u001b[0m     \u001b[0mprint\u001b[0m\u001b[0;34m(\u001b[0m\u001b[0;34m\"ITera\"\u001b[0m\u001b[0;34m)\u001b[0m\u001b[0;34m\u001b[0m\u001b[0;34m\u001b[0m\u001b[0m\n\u001b[1;32m      3\u001b[0m     \u001b[0mprint\u001b[0m\u001b[0;34m(\u001b[0m\u001b[0macc\u001b[0m\u001b[0;34m,\u001b[0m\u001b[0me\u001b[0m\u001b[0;34m)\u001b[0m\u001b[0;34m\u001b[0m\u001b[0;34m\u001b[0m\u001b[0m\n\u001b[0;32m----> 4\u001b[0;31m     \u001b[0;32mreturn\u001b[0m \u001b[0macc\u001b[0m\u001b[0;34m[\u001b[0m\u001b[0;34m\"stars\"\u001b[0m\u001b[0;34m]\u001b[0m \u001b[0;34m+\u001b[0m \u001b[0me\u001b[0m\u001b[0;34m[\u001b[0m\u001b[0;34m\"stars\"\u001b[0m\u001b[0;34m]\u001b[0m\u001b[0;34m\u001b[0m\u001b[0;34m\u001b[0m\u001b[0m\n\u001b[0m\u001b[1;32m      5\u001b[0m \u001b[0;34m\u001b[0m\u001b[0m\n\u001b[1;32m      6\u001b[0m \u001b[0mreduce\u001b[0m\u001b[0;34m(\u001b[0m\u001b[0mfn\u001b[0m\u001b[0;34m,\u001b[0m \u001b[0mhoteles\u001b[0m\u001b[0;34m)\u001b[0m\u001b[0;34m\u001b[0m\u001b[0;34m\u001b[0m\u001b[0m\n",
      "\u001b[0;31mTypeError\u001b[0m: 'int' object is not subscriptable"
     ]
    }
   ],
   "source": [
    "def fn(acc,e):\n",
    "    print(\"ITera\")\n",
    "    print(acc,e)\n",
    "    return acc[\"stars\"] + e[\"stars\"]\n",
    "\n",
    "reduce(fn, hoteles)"
   ]
  },
  {
   "cell_type": "code",
   "execution_count": null,
   "metadata": {},
   "outputs": [],
   "source": [
    "\"\"\"\n",
    "def clean_1to2_ch (serie):\n",
    "    #Esta función elimina palabras de 2 o menos caracteres.\n",
    "    aux = serie.replace(\"\\s\\w{1,2}\\s\", \" \")\n",
    "    aux1 = aux.replace(\"\\s\\w{1,2}\\s\", \" \")\n",
    "    aux2 = aux1.replace(\"\\s\\w{1,2}\\s\", \" \")\n",
    "    return aux2.replace(\"\\s\\w{1,2}\\s\", \" \")\n",
    "\"\"\"\n",
    "\n",
    "operations = [\n",
    "    \"\\s\\w{1,2}\\s\"\n",
    "    \"\\s\\w{1,2}\\s\"\n",
    "    \"\\s\\w{1,2}\\s\"\n",
    "    \"\\s\\w{1,2}\\s\"\n",
    "]\n",
    "\n",
    "reduce( lambda acc,op: acc.replace(op,\" \") ,operations, serie)\n",
    "\n",
    "\n",
    "\n",
    "\n"
   ]
  }
 ],
 "metadata": {
  "kernelspec": {
   "display_name": "Python 3",
   "language": "python",
   "name": "python3"
  },
  "language_info": {
   "codemirror_mode": {
    "name": "ipython",
    "version": 3
   },
   "file_extension": ".py",
   "mimetype": "text/x-python",
   "name": "python",
   "nbconvert_exporter": "python",
   "pygments_lexer": "ipython3",
   "version": "3.7.3"
  }
 },
 "nbformat": 4,
 "nbformat_minor": 2
}
