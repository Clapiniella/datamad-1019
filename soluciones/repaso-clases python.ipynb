{
 "cells": [
  {
   "cell_type": "code",
   "execution_count": 83,
   "metadata": {},
   "outputs": [],
   "source": [
    "# https://docs.python.org/3/reference/datamodel.html#object.__add__\n",
    "\n",
    "class Vector:\n",
    "    def __init__(self, *dimensions):\n",
    "        self.coords = dimensions\n",
    "        self.dimension = len(dimensions)\n",
    "    def __repr__(self):\n",
    "#        return f\"Vector<{','.join([str(c) for c in self.coords])}>\"\n",
    "        return f\"Vector<{','.join(map(lambda c: str(c),self.coords))}>\"\n",
    "    def __add__(self, other):        \n",
    "        if self.dimension != other.dimension:\n",
    "            raise ValueError(f\"Cannot sum vectors with different dimensions {self.dimension} and {other.dimension}\")\n",
    "    \n",
    "        # Make the sum elementwise\n",
    "        coords = []\n",
    "        for x1,y1 in zip(self.coords, other.coords):\n",
    "            coords.append(x1+y1)\n",
    "            \n",
    "        return Vector(*coords)\n"
   ]
  },
  {
   "cell_type": "code",
   "execution_count": 84,
   "metadata": {},
   "outputs": [],
   "source": [
    "data = [1,2,3,4]\n",
    "a = Vector(*data)\n",
    "b = Vector(5,6,7,8)"
   ]
  },
  {
   "cell_type": "code",
   "execution_count": 86,
   "metadata": {},
   "outputs": [
    {
     "name": "stdout",
     "output_type": "stream",
     "text": [
      "Vector<1,2,3,4> Vector<5,6,7,8>\n",
      "Vector<6,8,10,12>\n",
      "Vector<1,2,3,4> Vector<5,6,7,8>\n"
     ]
    },
    {
     "data": {
      "text/plain": [
       "Vector<10,16,22,28>"
      ]
     },
     "execution_count": 86,
     "metadata": {},
     "output_type": "execute_result"
    }
   ],
   "source": [
    "print(a,b)\n",
    "print(a+b) ## a.__sum__(b)\n",
    "print(a, b)\n",
    "\n",
    "a+a+a+a+a+b\n"
   ]
  },
  {
   "cell_type": "code",
   "execution_count": null,
   "metadata": {},
   "outputs": [],
   "source": []
  },
  {
   "cell_type": "code",
   "execution_count": null,
   "metadata": {},
   "outputs": [],
   "source": []
  }
 ],
 "metadata": {
  "kernelspec": {
   "display_name": "Python 3",
   "language": "python",
   "name": "python3"
  },
  "language_info": {
   "codemirror_mode": {
    "name": "ipython",
    "version": 3
   },
   "file_extension": ".py",
   "mimetype": "text/x-python",
   "name": "python",
   "nbconvert_exporter": "python",
   "pygments_lexer": "ipython3",
   "version": "3.7.3"
  }
 },
 "nbformat": 4,
 "nbformat_minor": 2
}
