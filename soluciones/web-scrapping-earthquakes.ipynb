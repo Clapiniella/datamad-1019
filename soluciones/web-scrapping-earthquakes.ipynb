{
 "cells": [
  {
   "cell_type": "code",
   "execution_count": 4,
   "metadata": {},
   "outputs": [],
   "source": [
    "import requests\n",
    "from bs4 import BeautifulSoup\n",
    "\n",
    "\n",
    "html = requests.get(\"https://www.emsc-csem.org/Earthquake/\").text\n",
    "soup = BeautifulSoup(html)\n"
   ]
  },
  {
   "cell_type": "code",
   "execution_count": 53,
   "metadata": {},
   "outputs": [],
   "source": [
    "rows = soup.select(\"#tbody\")[0].find_all('tr')"
   ]
  },
  {
   "cell_type": "code",
   "execution_count": 66,
   "metadata": {},
   "outputs": [
    {
     "data": {
      "text/html": [
       "<div>\n",
       "<style scoped>\n",
       "    .dataframe tbody tr th:only-of-type {\n",
       "        vertical-align: middle;\n",
       "    }\n",
       "\n",
       "    .dataframe tbody tr th {\n",
       "        vertical-align: top;\n",
       "    }\n",
       "\n",
       "    .dataframe thead th {\n",
       "        text-align: right;\n",
       "    }\n",
       "</style>\n",
       "<table border=\"1\" class=\"dataframe\">\n",
       "  <thead>\n",
       "    <tr style=\"text-align: right;\">\n",
       "      <th></th>\n",
       "    </tr>\n",
       "  </thead>\n",
       "  <tbody>\n",
       "  </tbody>\n",
       "</table>\n",
       "</div>"
      ],
      "text/plain": [
       "Empty DataFrame\n",
       "Columns: []\n",
       "Index: []"
      ]
     },
     "execution_count": 66,
     "metadata": {},
     "output_type": "execute_result"
    }
   ],
   "source": [
    "import datetime\n",
    "import unicodedata\n",
    "import re\n",
    "import pandas as pd\n",
    "\n",
    "norm = lambda x: unicodedata.normalize(\"NFKD\",x)\n",
    "xr = re.compile('\\s+')\n",
    "\n",
    "def processQuake(t):\n",
    "    trr = t.find_all('td')\n",
    "    try:\n",
    "        return {\n",
    "            \"datetime\": xr.sub(' ',norm(trr[3].find('a').text))),\n",
    "            \"lat\":float(norm(trr[4].text).strip()),\n",
    "            \"long\":float(norm(trr[6].text).strip()),\n",
    "            \"region\": norm(trr[-2].text).strip()\n",
    "        }\n",
    "    except:\n",
    "        return None\n",
    "    \n",
    "# El filter es para quitar los none que se generan al no poder hacer\n",
    "# scrapping del terremoteo en la fila del TD\n",
    "pd.DataFrame(list(filter( lambda x: x ,map(lambda t: processQuake(t), rows))))"
   ]
  },
  {
   "cell_type": "code",
   "execution_count": 67,
   "metadata": {},
   "outputs": [
    {
     "name": "stdout",
     "output_type": "stream",
     "text": [
      "Current date/time: 2019-11-08 11:33:49.611721\n"
     ]
    }
   ],
   "source": [
    "\n",
    "print ('Current date/time: {}'.format(datetime.datetime.now()))"
   ]
  },
  {
   "cell_type": "code",
   "execution_count": 65,
   "metadata": {},
   "outputs": [
    {
     "data": {
      "text/plain": [
       "datetime.datetime(2019, 11, 8, 11, 33, 42, 773917)"
      ]
     },
     "execution_count": 65,
     "metadata": {},
     "output_type": "execute_result"
    }
   ],
   "source": [
    "datetime.datetime.now()"
   ]
  },
  {
   "cell_type": "code",
   "execution_count": null,
   "metadata": {},
   "outputs": [],
   "source": []
  }
 ],
 "metadata": {
  "kernelspec": {
   "display_name": "Python 3",
   "language": "python",
   "name": "python3"
  },
  "language_info": {
   "codemirror_mode": {
    "name": "ipython",
    "version": 3
   },
   "file_extension": ".py",
   "mimetype": "text/x-python",
   "name": "python",
   "nbconvert_exporter": "python",
   "pygments_lexer": "ipython3",
   "version": "3.7.3"
  }
 },
 "nbformat": 4,
 "nbformat_minor": 2
}
