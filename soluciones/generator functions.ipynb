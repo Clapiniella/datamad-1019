{
 "cells": [
  {
   "cell_type": "code",
   "execution_count": 29,
   "metadata": {},
   "outputs": [
    {
     "name": "stdout",
     "output_type": "stream",
     "text": [
      "<generator object devuelvePersonas at 0x1025adb10>\n",
      "hola 0\n",
      "hola 1\n",
      "hola 2\n",
      "hola 3\n",
      "hola 4\n"
     ]
    },
    {
     "data": {
      "text/plain": [
       "['💁', '💁💁', '💁💁💁', '💁💁💁💁', '💁💁💁💁💁']"
      ]
     },
     "execution_count": 29,
     "metadata": {},
     "output_type": "execute_result"
    }
   ],
   "source": [
    " \n",
    "def devuelvePersonas(n=5):\n",
    "    for i in range(n):\n",
    "        print(\"hola\",i)\n",
    "        yield ''.join([\"💁\"]*(i+1))\n",
    "\n",
    "g = devuelvePersonas()\n",
    "# g.__next__()\n",
    "print(g)\n",
    "list(g)\n",
    "\n"
   ]
  },
  {
   "cell_type": "code",
   "execution_count": 30,
   "metadata": {},
   "outputs": [
    {
     "name": "stdout",
     "output_type": "stream",
     "text": [
      "hola 0\n",
      "💁\n",
      "hola 1\n",
      "💁💁\n",
      "hola 2\n",
      "💁💁💁\n",
      "hola 3\n",
      "💁💁💁💁\n",
      "hola 4\n",
      "💁💁💁💁💁\n"
     ]
    }
   ],
   "source": [
    "for e in devuelvePersonas():\n",
    "    print(e)"
   ]
  },
  {
   "cell_type": "code",
   "execution_count": 38,
   "metadata": {},
   "outputs": [
    {
     "name": "stdout",
     "output_type": "stream",
     "text": [
      "[0, 1, 2, 3, 4, 5, 6, 7, 8, 9, 10, 11, 12, 13, 14, 15, 16, 17, 18, 19, 20, 21, 22, 23, 24, 25, 26, 27, 28, 29, 30, 31, 32, 33, 34, 35, 36, 37, 38, 39, 40, 41, 42, 43, 44, 45, 46, 47, 48, 49, 50, 51, 52, 53, 54, 55, 56, 57, 58, 59, 60, 61, 62, 63, 64, 65, 66, 67, 68, 69, 70, 71, 72, 73, 74, 75, 76, 77, 78, 79, 80, 81, 82, 83, 84, 85, 86, 87, 88, 89, 90, 91, 92, 93, 94, 95, 96, 97, 98, 99]\n",
      "4950\n"
     ]
    }
   ],
   "source": [
    "a = list(range(100))\n",
    "print(a)\n",
    "s = 0\n",
    "for e in a:\n",
    "    s += e\n",
    "print(s)"
   ]
  },
  {
   "cell_type": "code",
   "execution_count": 39,
   "metadata": {},
   "outputs": [
    {
     "name": "stdout",
     "output_type": "stream",
     "text": [
      "range(0, 100)\n",
      "4950\n"
     ]
    }
   ],
   "source": [
    "a = range(100)\n",
    "print(a)\n",
    "s = 0\n",
    "for e in a:\n",
    "    s += e\n",
    "print(s)"
   ]
  },
  {
   "cell_type": "code",
   "execution_count": null,
   "metadata": {},
   "outputs": [],
   "source": []
  }
 ],
 "metadata": {
  "kernelspec": {
   "display_name": "Python 3",
   "language": "python",
   "name": "python3"
  },
  "language_info": {
   "codemirror_mode": {
    "name": "ipython",
    "version": 3
   },
   "file_extension": ".py",
   "mimetype": "text/x-python",
   "name": "python",
   "nbconvert_exporter": "python",
   "pygments_lexer": "ipython3",
   "version": "3.7.3"
  }
 },
 "nbformat": 4,
 "nbformat_minor": 2
}
